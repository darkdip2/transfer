{
 "cells": [
  {
   "cell_type": "code",
   "execution_count": 22,
   "metadata": {},
   "outputs": [],
   "source": [
    "import numpy as np \n",
    "import pandas as pd\n",
    "import os"
   ]
  },
  {
   "cell_type": "code",
   "execution_count": 23,
   "metadata": {},
   "outputs": [],
   "source": [
    "output_directory = \"output\"\n",
    "file_names = [\"best\", \"DL\", \"lgbm\",\"rf\",\"xgb\"]\n",
    "\n",
    "dfs = {}\n",
    "for file_name in file_names:\n",
    "    file_path = os.path.join(output_directory, f\"{file_name}.csv\")\n",
    "    dfs[file_name] = pd.read_csv(file_path)\n",
    "\n",
    "best_df = dfs[\"best\"]\n",
    "dl_df = dfs[\"DL\"]\n",
    "lgbm_df = dfs[\"lgbm\"]\n",
    "rf_df=dfs[\"rf\"]\n",
    "xgb_df=dfs[\"xgb\"]\n",
    "\n",
    "#print(best_df.head())\n",
    "#print(dl_df.head())\n",
    "#print(lgbm_df.head())"
   ]
  },
  {
   "cell_type": "code",
   "execution_count": 24,
   "metadata": {},
   "outputs": [],
   "source": [
    "submission=pd.read_csv('sample_submission.csv')"
   ]
  },
  {
   "cell_type": "code",
   "execution_count": null,
   "metadata": {},
   "outputs": [],
   "source": [
    "submission.rainfall=.7*best_df.rainfall+.3*dl_df.rainfall\n",
    "\n",
    "#Tune"
   ]
  },
  {
   "cell_type": "code",
   "execution_count": 26,
   "metadata": {},
   "outputs": [],
   "source": [
    "submission.to_csv('submissionensemble.csv',index=False)"
   ]
  }
 ],
 "metadata": {
  "kernelspec": {
   "display_name": "base",
   "language": "python",
   "name": "python3"
  },
  "language_info": {
   "codemirror_mode": {
    "name": "ipython",
    "version": 3
   },
   "file_extension": ".py",
   "mimetype": "text/x-python",
   "name": "python",
   "nbconvert_exporter": "python",
   "pygments_lexer": "ipython3",
   "version": "3.11.7"
  }
 },
 "nbformat": 4,
 "nbformat_minor": 2
}
