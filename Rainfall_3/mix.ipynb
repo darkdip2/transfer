{
 "cells": [
  {
   "cell_type": "code",
   "execution_count": 16,
   "metadata": {},
   "outputs": [],
   "source": [
    "import numpy as np \n",
    "import pandas as pd\n",
    "import os"
   ]
  },
  {
   "cell_type": "code",
   "execution_count": 17,
   "metadata": {},
   "outputs": [],
   "source": [
    "output_directory = \"output\"\n",
    "file_names = [\"best\", \"DL\", \"lgbm\",\"rf\",\"xgb\",\"best1\"]\n",
    "\n",
    "dfs = {}\n",
    "for file_name in file_names:\n",
    "    file_path = os.path.join(output_directory, f\"{file_name}.csv\")\n",
    "    dfs[file_name] = pd.read_csv(file_path)\n",
    "\n",
    "best_df = dfs[\"best\"]\n",
    "dl_df = dfs[\"DL\"]\n",
    "lgbm_df = dfs[\"lgbm\"]\n",
    "rf_df=dfs[\"rf\"]\n",
    "xgb_df=dfs[\"xgb\"]\n",
    "best1_df=dfs[\"best1\"]\n",
    "\n",
    "#print(best_df.head())\n",
    "#print(dl_df.head())\n",
    "#print(lgbm_df.head())"
   ]
  },
  {
   "cell_type": "code",
   "execution_count": 18,
   "metadata": {},
   "outputs": [],
   "source": [
    "submission=pd.read_csv('sample_submission.csv')"
   ]
  },
  {
   "cell_type": "code",
   "execution_count": 19,
   "metadata": {},
   "outputs": [],
   "source": [
    "submission.rainfall=.34*best1_df.rainfall+.33*best_df.rainfall+.33*dl_df.rainfall\n",
    "submission.to_csv('submissionensemble.csv',index=False)\n",
    "#Tune"
   ]
  },
  {
   "cell_type": "code",
   "execution_count": 20,
   "metadata": {},
   "outputs": [],
   "source": [
    "coefficients = [0.7, 0.73, 0.76, 0.79, 0.82, 0.85, 0.88, 0.885, 0.8875, 0.89]\n",
    "\n",
    "for i, coef in enumerate(coefficients, start=1):\n",
    "    submission.rainfall = coef * best_df.rainfall + (1 - coef) * dl_df.rainfall\n",
    "    submission.to_csv(f'mix/submissionensemble_{i}.csv', index=False)"
   ]
  }
 ],
 "metadata": {
  "kernelspec": {
   "display_name": "base",
   "language": "python",
   "name": "python3"
  },
  "language_info": {
   "codemirror_mode": {
    "name": "ipython",
    "version": 3
   },
   "file_extension": ".py",
   "mimetype": "text/x-python",
   "name": "python",
   "nbconvert_exporter": "python",
   "pygments_lexer": "ipython3",
   "version": "3.11.7"
  }
 },
 "nbformat": 4,
 "nbformat_minor": 2
}
