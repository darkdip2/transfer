{
 "cells": [
  {
   "cell_type": "markdown",
   "metadata": {
    "_cell_guid": "956fac54-7fd7-4103-823c-85c30c275bcb",
    "_uuid": "65cf3394-4ea4-4c1a-ba7f-e0574add5885",
    "trusted": true
   },
   "source": [
    "**1. Getting Started**\n",
    "\n",
    "Loading packages and reading all of the .csv files into data frames with the same names.\n",
    "\n",
    "This notebook contains R code to make a \"chalk\" bracket where the favorites win every game. It works by finding all of the teams that could win each game in the tournament and giving the win to the highest rated team amongst them."
   ]
  },
  {
   "cell_type": "code",
   "execution_count": 1,
   "metadata": {
    "_cell_guid": "e7a9a571-52ba-4ee4-9e3d-89a143f5685e",
    "_uuid": "37ee8ea8-9942-4822-ba7c-7f01269994dc",
    "collapsed": false,
    "execution": {
     "iopub.execute_input": "2024-03-19T23:55:11.966485Z",
     "iopub.status.busy": "2024-03-19T23:55:11.96468Z",
     "iopub.status.idle": "2024-03-19T23:55:12.862014Z"
    },
    "jupyter": {
     "outputs_hidden": false
    },
    "trusted": true
   },
   "outputs": [
    {
     "ename": "SyntaxError",
     "evalue": "invalid syntax. Perhaps you forgot a comma? (1194816113.py, line 9)",
     "output_type": "error",
     "traceback": [
      "\u001b[1;36m  Cell \u001b[1;32mIn[1], line 9\u001b[1;36m\u001b[0m\n\u001b[1;33m    filepath <- file.path(\"../input/march-machine-learning-mania-2025/\",paste(i,\".csv\",sep=\"\"))\u001b[0m\n\u001b[1;37m    ^\u001b[0m\n\u001b[1;31mSyntaxError\u001b[0m\u001b[1;31m:\u001b[0m invalid syntax. Perhaps you forgot a comma?\n"
     ]
    }
   ],
   "source": [
    "library(data.table)\n",
    "library(tidyverse)\n",
    "library(stringr)\n",
    "\n",
    "files = list.files(path = \"march-machine-learning-mania-2025\")\n",
    "df_names = gsub(\".csv\",\"\",files)\n",
    "\n",
    "for(i in df_names){\n",
    "    filepath <- file.path(\"../input/march-machine-learning-mania-2025/\",paste(i,\".csv\",sep=\"\"))\n",
    "    assign(i, fread(filepath))\n",
    "}\n",
    "\n",
    "\n",
    "# to see list of available data frames\n",
    "#ls()"
   ]
  },
  {
   "cell_type": "markdown",
   "metadata": {
    "_cell_guid": "0b594c60-a079-423b-9784-2c365dcaf01b",
    "_uuid": "2edddb32-27f6-4c6f-93df-e7142281293d",
    "trusted": true
   },
   "source": [
    "**2. Reading in Team Ratings and matching them with team IDS**"
   ]
  },
  {
   "cell_type": "code",
   "execution_count": null,
   "metadata": {
    "_cell_guid": "e0c119c3-b527-4ce3-a7ef-39dc9bbb4b33",
    "_uuid": "4221e646-9d27-4069-bfa4-09778b78e10b",
    "collapsed": false,
    "execution": {
     "iopub.execute_input": "2024-03-19T23:55:12.869825Z",
     "iopub.status.busy": "2024-03-19T23:55:12.867117Z",
     "iopub.status.idle": "2024-03-19T23:55:12.930757Z"
    },
    "jupyter": {
     "outputs_hidden": false
    },
    "trusted": true
   },
   "outputs": [],
   "source": [
    "# from https://masseyratings.com/cbw/ncaa-d1/ratings and selecting more/export\n",
    "msilver = read.csv(\"/kaggle/input/msilver/msilver.csv\")\n",
    "msilver = msilver[,c(1,14)]\n",
    "colnames(msilver) = c(\"TeamName\", \"Power\")\n",
    "\n",
    "# from copying and pasting https://kenpom.com/ into a spreadsheet\n",
    "wsilver = read.csv(\"/kaggle/input/wsilver/wsilver.csv\")\n",
    "wsilver = wsilver[,c(1,11)]\n",
    "colnames(wsilver) = c(\"TeamName\", \"Power\")\n",
    "\n",
    "head(msilver)\n",
    "head(wsilver)"
   ]
  },
  {
   "cell_type": "markdown",
   "metadata": {
    "_cell_guid": "849e3c61-89d1-467f-ab9f-90cca447ee70",
    "_uuid": "ae96d26a-30d3-4256-90ad-fe94d9ff875c",
    "trusted": true
   },
   "source": [
    "**3. Matching Team Ratings with Team IDs and Tournament Slots**"
   ]
  },
  {
   "cell_type": "code",
   "execution_count": null,
   "metadata": {
    "_cell_guid": "a0e21a19-f002-44b0-bcaf-59fb60c0d525",
    "_uuid": "d7eb5c7d-3f16-42c9-b63f-ca240b43477b",
    "collapsed": false,
    "execution": {
     "iopub.execute_input": "2024-03-19T23:55:12.93552Z",
     "iopub.status.busy": "2024-03-19T23:55:12.933965Z",
     "iopub.status.idle": "2024-03-19T23:55:13.000871Z"
    },
    "jupyter": {
     "outputs_hidden": false
    },
    "trusted": true
   },
   "outputs": [],
   "source": [
    "#head(`2024_tourney_seeds`)\n",
    "tourney_seeds = `2024_tourney_seeds`\n",
    "\n",
    "#head(WTeamSpellings)\n",
    "\n",
    "M_new_spellings = \n",
    "data.frame(\n",
    "    TeamNameSpelling = c(\"southeast missouri st.\", \n",
    "                         \"texas a&m corpus chris\"), \n",
    "                         TeamID = c(1369, 1394))\n",
    "\n",
    "W_new_spellings = \n",
    "data.frame(\n",
    "    TeamNameSpelling = c(\"tamu-corpus christi\"), \n",
    "                         TeamID = c(3394))\n",
    "\n",
    "MTeamSpellings2 = \n",
    "rbind(MTeamSpellings, M_new_spellings)\n",
    "\n",
    "WTeamSpellings2 = \n",
    "rbind(WTeamSpellings, W_new_spellings)\n",
    "\n",
    "wsilver_with_teamIDs = \n",
    "wsilver %>% \n",
    "mutate(TeamName = tolower(TeamName)) %>%\n",
    "left_join(WTeamSpellings2,\n",
    "         by= c(\"TeamName\"=\"TeamNameSpelling\"))\n",
    "\n",
    "msilver_with_teamIDs = \n",
    "msilver %>% \n",
    "mutate(TeamName = \n",
    "       tolower(str_trim(str_remove_all(TeamName, \"[:digit:]\")))) %>%\n",
    "filter(!(TeamName %in% c(\"team\", \"ncsos\"))) %>%\n",
    "left_join(MTeamSpellings2,\n",
    "         by= c(\"TeamName\"=\"TeamNameSpelling\")) \n",
    "# a few team names aren't matched but they likely aren't in the tournament\n",
    "\n",
    "\n",
    "full_ratings = rbind(wsilver_with_teamIDs, msilver_with_teamIDs) %>%\n",
    "    mutate(Power = as.numeric(Power))\n",
    "\n",
    "tourney_seeds_with_ratings = \n",
    "left_join(tourney_seeds,\n",
    "         full_ratings,\n",
    "         by=\"TeamID\")\n",
    "\n",
    "# are there any teams without ratings?\n",
    "tourney_seeds_with_ratings %>% \n",
    "    filter(is.na(Power))"
   ]
  },
  {
   "cell_type": "markdown",
   "metadata": {
    "_cell_guid": "f324df85-d69c-40c3-84aa-0bce92ee2264",
    "_uuid": "063435d1-ff32-4294-9dc8-6a2930ce5f2d",
    "execution": {
     "iopub.execute_input": "2024-03-13T12:48:21.088248Z",
     "iopub.status.busy": "2024-03-13T12:48:21.086572Z",
     "iopub.status.idle": "2024-03-13T12:48:21.145728Z"
    },
    "trusted": true
   },
   "source": [
    "**POSSSIBLE ALTERATION #1:**\n",
    "\n",
    "Manually change one or more team's ratings"
   ]
  },
  {
   "cell_type": "code",
   "execution_count": null,
   "metadata": {},
   "outputs": [],
   "source": []
  },
  {
   "cell_type": "code",
   "execution_count": null,
   "metadata": {
    "_cell_guid": "78f81c9d-31e4-4e75-8015-0184dccd0ef8",
    "_uuid": "14961c90-7746-4bbe-a91c-bea24920f45d",
    "collapsed": false,
    "execution": {
     "iopub.execute_input": "2024-03-20T02:27:38.324132Z",
     "iopub.status.busy": "2024-03-20T02:27:38.322106Z",
     "iopub.status.idle": "2024-03-20T02:27:38.39538Z"
    },
    "jupyter": {
     "outputs_hidden": false
    },
    "trusted": true
   },
   "outputs": [],
   "source": [
    "# step 1: Find the TeamID's and Power ratings \n",
    "# for the team you want to alter\n",
    "\n",
    "tourney_seeds_with_ratings %>% \n",
    "    filter(Tournament == \"W\" & TeamName %like% \"carolina\")\n",
    "# team 3376\n",
    "\n",
    "tourney_seeds_with_ratings %>% \n",
    "    filter(Tournament == \"M\" & TeamName %like% \"houston\")\n",
    "# team 1222\n",
    "\n",
    "tourney_seeds_with_ratings %>% \n",
    "    filter(Tournament == \"M\" & TeamName %like% \"conn\")\n",
    "# team 1163\n",
    "\n",
    "# let's bump up the ratings for South Carolina (W) and\n",
    "# Houston (M) and leave everyone else the same:\n",
    "tourney_seeds_with_ratings = \n",
    "tourney_seeds_with_ratings %>% \n",
    "    mutate(Power = case_when(\n",
    "        TeamID == 3376 ~ 200,\n",
    "        TeamID == 1163 ~ 200,\n",
    "       TRUE ~ Power))"
   ]
  },
  {
   "cell_type": "markdown",
   "metadata": {
    "_cell_guid": "8f71e412-295a-43fb-ab90-1d5b38f33853",
    "_uuid": "fe3c874b-6e55-4a75-91c3-7e68748a2eb5",
    "trusted": true
   },
   "source": []
  },
  {
   "cell_type": "markdown",
   "metadata": {
    "_cell_guid": "0acb6244-4772-45b3-bb1e-238d59cc066a",
    "_uuid": "33b1168a-f467-4498-9d30-fd9ed00257ad",
    "trusted": true
   },
   "source": [
    "**4. Function to predict winner from two team ratings and HFA**"
   ]
  },
  {
   "cell_type": "code",
   "execution_count": null,
   "metadata": {
    "_cell_guid": "e795bf49-aa05-421f-bd21-68dbdb15e53d",
    "_uuid": "37b005af-62f3-4c09-850b-dad76275ba0c",
    "collapsed": false,
    "execution": {
     "iopub.execute_input": "2024-03-19T23:55:13.055591Z",
     "iopub.status.busy": "2024-03-19T23:55:13.054046Z",
     "iopub.status.idle": "2024-03-19T23:55:13.079943Z"
    },
    "jupyter": {
     "outputs_hidden": false
    },
    "trusted": true
   },
   "outputs": [],
   "source": [
    "# kenpom adjEM is per 100 (multiply by 0.7) then use sd of 11\n",
    "# \n",
    "\n",
    "msilver_wpct = function(pwr1, pwr2){\n",
    "    pred_pt_margin = (pwr1-pwr2)\n",
    "    tscore = pred_pt_margin/11\n",
    "    pnorm(tscore)\n",
    "}\n",
    "\n",
    "wsilver_wpct = function(pwr1, pwr2, home=0){\n",
    "    # home = 1 (home), 0 (neutral), -1 (away)\n",
    "    hfa = 2.73*home\n",
    "    tscore = (pwr1 - pwr2 + hfa)/11.5\n",
    "    pnorm(tscore)\n",
    "}\n",
    "\n",
    "wpct_function = function(bracket, pwr1, pwr2, home=0){\n",
    "    ifelse(bracket==\"M\",\n",
    "          msilver_wpct(pwr1, pwr2),\n",
    "           wsilver_wpct(pwr1, pwr2, home)\n",
    "          )\n",
    "}"
   ]
  },
  {
   "cell_type": "markdown",
   "metadata": {
    "_cell_guid": "2d93839f-4799-4f1b-a31c-119a3192cecd",
    "_uuid": "376ad144-d8cf-4a86-bc24-dcc1a7b6a9b0",
    "trusted": true
   },
   "source": [
    "**POSSSIBLE ALTERATION #2:**\n",
    "\n",
    "Make the projections more aggressive by reducing the standard error in the projected winning margins:"
   ]
  },
  {
   "cell_type": "markdown",
   "metadata": {
    "_cell_guid": "b82376ea-8a6d-4ce6-833a-47f3e1ebbea9",
    "_uuid": "50b9c1ed-e6a3-4ff3-85b5-4932a5ff7a58",
    "trusted": true
   },
   "source": [
    "**5. Determining the team slots that are candidates to win each tournament game**"
   ]
  },
  {
   "cell_type": "code",
   "execution_count": null,
   "metadata": {
    "_cell_guid": "45606e3f-42fe-4f20-8546-69020fde5b4f",
    "_uuid": "17e052a0-58fa-4085-93ea-c80bb9572833",
    "collapsed": false,
    "execution": {
     "iopub.execute_input": "2024-03-19T23:55:13.084376Z",
     "iopub.status.busy": "2024-03-19T23:55:13.082849Z",
     "iopub.status.idle": "2024-03-19T23:55:13.147395Z"
    },
    "jupyter": {
     "outputs_hidden": false
    },
    "trusted": true
   },
   "outputs": [],
   "source": [
    "# slicing up sample submission file\n",
    "tourney_seeds = \n",
    "tourney_seeds %>% \n",
    "    mutate(team_region = substr(Seed, 1, 1),\n",
    "          team_rank = as.numeric(substr(Seed, 2, 3)))\n",
    "\n",
    "# creating a data frame of games to be predicted\n",
    "games_to_predict = \n",
    "sample_submission %>%\n",
    "    mutate(Round = substr(Slot, 2, 2),\n",
    "            Region = ifelse(Round <= 4, substr(Slot, 3, 3), substr(Slot, 3, 4)),\n",
    "            Highest_Rank = substr(Slot, 4, 4))\n",
    "\n",
    "games_to_predict_with_teams = \n",
    "full_join(games_to_predict,\n",
    "          tourney_seeds,\n",
    "          by=c(\"Tournament\"), relationship=\"many-to-many\")\n",
    "\n",
    "# filtering out teams that can't possible win certain slots\n",
    "\n",
    "# filtering by region\n",
    "games_to_predict_filtered_by_region = \n",
    "games_to_predict_with_teams %>%\n",
    " filter(\n",
    "     (Round <= 4 & Region == team_region) |\n",
    "     Region == \"WX\" & team_region %in% c(\"W\", \"X\") |\n",
    "     Region == \"YZ\" & team_region %in% c(\"Y\", \"Z\") |\n",
    "     Region == \"CH\"\n",
    "     ) \n",
    "\n",
    "# filtering by slot\n",
    "games_to_predict_filtered_by_region_slot = \n",
    "games_to_predict_filtered_by_region %>%\n",
    " mutate(first_round_game = \n",
    "       pmin(team_rank, 17-team_rank),\n",
    "       second_round_game = \n",
    "       pmin(first_round_game, 9-first_round_game),\n",
    "       third_round_game = \n",
    "       pmin(second_round_game, 5-second_round_game)) %>%\n",
    "filter(Round >= 4 | \n",
    "       (Round == 1 & Highest_Rank == first_round_game) |\n",
    "      (Round == 2 & Highest_Rank == second_round_game) |\n",
    "       (Round == 3 & Highest_Rank == third_round_game)\n",
    "      )\n",
    "\n",
    "# adding in HFA for women's bracket\n",
    "games_to_predict_with_possible_winners = \n",
    "games_to_predict_filtered_by_region_slot %>%\n",
    "mutate(at_home = \n",
    "       ifelse(Round <= 2 & Tournament == \"W\" & \n",
    "              team_rank <= 4, \"yes\", \"no\"))\n",
    "\n",
    "# joining possible winners for every slot\n",
    "# with team ratings from Massey and KenPom\n",
    "\n",
    "games_to_predict_with_possible_winners = \n",
    "left_join(games_to_predict_with_possible_winners,\n",
    "          tourney_seeds_with_ratings %>%\n",
    "              select(TeamID, Power),\n",
    "          by=\"TeamID\"\n",
    "         )"
   ]
  },
  {
   "cell_type": "markdown",
   "metadata": {
    "_cell_guid": "14542e51-fd39-48a7-b101-c6b2cd68b9eb",
    "_uuid": "ed768f05-aa57-442d-9125-a1c8d56ab309",
    "trusted": true
   },
   "source": [
    "**6. Simulating the Tournament **"
   ]
  },
  {
   "cell_type": "markdown",
   "metadata": {
    "_cell_guid": "efa282ff-0a98-43d4-beb5-100744f9a9b7",
    "_uuid": "9cd7cb3a-869b-4b72-8d93-1d7feba50f22",
    "trusted": true
   },
   "source": []
  },
  {
   "cell_type": "code",
   "execution_count": null,
   "metadata": {
    "_cell_guid": "5bee2b61-39bc-4137-9e2b-1b0228af9f0c",
    "_uuid": "c6d78fed-5432-4eb0-a9c9-a8899220f799",
    "collapsed": false,
    "execution": {
     "iopub.execute_input": "2024-03-19T23:55:13.151748Z",
     "iopub.status.busy": "2024-03-19T23:55:13.150291Z"
    },
    "jupyter": {
     "outputs_hidden": false
    },
    "trusted": true
   },
   "outputs": [],
   "source": [
    "# first finding possible winners for first round\n",
    "t = Sys.time()\n",
    "\n",
    "number_of_brackets = 5000\n",
    "\n",
    "sim_brackets = data.frame(matrix(nrow = 0, ncol = 4)) \n",
    "colnames(sim_brackets) = c(\"Tournament\",\"Slot\",\"Team\", \"Bracket\") \n",
    "\n",
    "\n",
    "for (bracket_num in 1:number_of_brackets){\n",
    "possible_winners = \n",
    "games_to_predict_with_possible_winners %>%\n",
    "    filter(Round == 1) %>%\n",
    "    pull(TeamID)\n",
    "\n",
    "# make empty vector of predicted game winners\n",
    "predicted_games = data.frame(matrix(nrow = 0, ncol = 3)) \n",
    "colnames(predicted_games) = c(\"Tournament\",\"Slot\",\"Team\") \n",
    "\n",
    "for (rnd in 1:6){\n",
    "round_possible_winners = \n",
    "games_to_predict_with_possible_winners %>%\n",
    "    filter(Round == rnd, TeamID %in% possible_winners) %>%\n",
    "    select(Tournament, Slot, Seed, TeamID, at_home, Power)\n",
    "\n",
    "\n",
    "round_possible_winners_wide = \n",
    "left_join(round_possible_winners,\n",
    "            round_possible_winners,\n",
    "          by=c(\"Tournament\", \"Slot\"),\n",
    "         relationship=\"many-to-many\") %>%\n",
    "filter(TeamID.x < TeamID.y) %>%\n",
    "mutate(home = case_when(\n",
    "                at_home.x == \"yes\" ~ 1,\n",
    "                at_home.y == \"yes\" ~ -1,\n",
    "                TRUE ~ 0)) %>%\n",
    "    mutate(wpct = wpct_function(bracket=Tournament, \n",
    "                                pwr1 = Power.x, \n",
    "                                pwr2 = Power.y,\n",
    "                               home = home))\n",
    "\n",
    "ngames = nrow(round_possible_winners_wide)\n",
    "winners = rep(NA, ngames)\n",
    "\n",
    "for (i in 1:ngames){\n",
    "    games = round_possible_winners_wide[i,]\n",
    "    winner =\n",
    "    games %>%\n",
    "    mutate(winner = sample(x=c(TeamID.x, TeamID.y),\n",
    "                           size=1,\n",
    "                           prob=c(wpct, 1-wpct))) %>%\n",
    "    pull(winner)\n",
    "   \n",
    "    winners[i] = winner\n",
    "}\n",
    "\n",
    "possible_winners = winners\n",
    "\n",
    "winning_seeds = \n",
    "left_join(data.frame(TeamID=winners),\n",
    "        tourney_seeds %>%\n",
    "        select(TeamID, Seed),\n",
    "         by=\"TeamID\") %>%\n",
    "pull(Seed)\n",
    "\n",
    "round_possible_winners_wide$Team = winning_seeds\n",
    "\n",
    "new_predicted_games = \n",
    "round_possible_winners_wide %>%\n",
    "select(Tournament, Slot, Team)\n",
    "\n",
    "predicted_games = \n",
    "rbind(predicted_games,\n",
    "     new_predicted_games)}\n",
    "\n",
    "new_sim_bracket = predicted_games\n",
    "new_sim_bracket$Bracket = bracket_num\n",
    "    \n",
    "sim_brackets = \n",
    "    rbind(sim_brackets,\n",
    "         new_sim_bracket)\n",
    "}\n",
    "\n",
    "Sys.time()-t"
   ]
  },
  {
   "cell_type": "markdown",
   "metadata": {
    "_cell_guid": "998a0501-2047-49ae-8766-a78562c65aad",
    "_uuid": "a9c4ef40-e70e-44fa-9de4-0e5b05f9ff7b",
    "trusted": true
   },
   "source": [
    "**7. Creating the Submission Files for the Competition**"
   ]
  },
  {
   "cell_type": "code",
   "execution_count": null,
   "metadata": {
    "_cell_guid": "30ab232f-1494-4582-8d81-930d31d8f676",
    "_uuid": "ccee0e4e-77f6-4fc9-9271-2f8cfd1bc678",
    "collapsed": false,
    "jupyter": {
     "outputs_hidden": false
    },
    "trusted": true
   },
   "outputs": [],
   "source": [
    "sim_brackets$RowId = 1:nrow(sim_brackets)\n",
    "write.csv(sim_brackets %>%\n",
    "             select(RowId, Tournament, Bracket, Slot, Team),\n",
    "         \"submission.csv\", row.names=FALSE)\n",
    "#submission.csv"
   ]
  },
  {
   "cell_type": "markdown",
   "metadata": {
    "_cell_guid": "0e371aaf-4f13-4e6f-a7c9-68953d87081f",
    "_uuid": "c716bd81-2823-4d6c-8891-1041d30eb48a",
    "trusted": true
   },
   "source": [
    "**8. Which teams were most likely to win the Championship??**"
   ]
  },
  {
   "cell_type": "code",
   "execution_count": null,
   "metadata": {
    "_cell_guid": "546f056e-8ba7-44a0-82fa-3ce58279663d",
    "_uuid": "e2c37abe-9dbf-42af-b4e9-2579b78a58ce",
    "collapsed": false,
    "execution": {
     "iopub.execute_input": "2024-03-20T01:12:25.460488Z",
     "iopub.status.busy": "2024-03-20T01:12:25.456578Z",
     "iopub.status.idle": "2024-03-20T01:12:25.709074Z"
    },
    "jupyter": {
     "outputs_hidden": false
    },
    "trusted": true
   },
   "outputs": [],
   "source": [
    "sim_brackets %>% \n",
    "    filter(Tournament == \"W\", Slot == \"R6CH\") %>%\n",
    "    group_by(Team) %>%\n",
    "    summarize(n=n()) %>%\n",
    "    arrange(desc(n)) %>%\n",
    "    head()\n",
    "\n",
    "tourney_seeds_with_ratings %>%\n",
    "    filter(Tournament == \"W\") %>%\n",
    "    arrange(desc(Power)) %>%\n",
    "    head()\n",
    "\n",
    "sim_brackets %>% \n",
    "    filter(Tournament == \"M\", Slot == \"R6CH\") %>%\n",
    "    group_by(Team) %>%\n",
    "    summarize(n=n()) %>%\n",
    "    arrange(desc(n)) %>%\n",
    "    head()\n",
    "\n",
    "tourney_seeds_with_ratings %>%\n",
    "    filter(Tournament == \"M\") %>%\n",
    "    arrange(desc(Power)) %>%\n",
    "    head()"
   ]
  }
 ],
 "metadata": {
  "kaggle": {
   "accelerator": "none",
   "dataSources": [
    {
     "databundleVersionId": 8023814,
     "sourceId": 70068,
     "sourceType": "competition"
    },
    {
     "datasetId": 4632236,
     "sourceId": 7890038,
     "sourceType": "datasetVersion"
    },
    {
     "datasetId": 4632238,
     "sourceId": 7890041,
     "sourceType": "datasetVersion"
    }
   ],
   "dockerImageVersionId": 30618,
   "isGpuEnabled": false,
   "isInternetEnabled": false,
   "language": "r",
   "sourceType": "notebook"
  },
  "kernelspec": {
   "display_name": "Python 3",
   "language": "python",
   "name": "python3"
  },
  "language_info": {
   "codemirror_mode": {
    "name": "ipython",
    "version": 3
   },
   "file_extension": ".py",
   "mimetype": "text/x-python",
   "name": "python",
   "nbconvert_exporter": "python",
   "pygments_lexer": "ipython3",
   "version": "3.12.6"
  }
 },
 "nbformat": 4,
 "nbformat_minor": 4
}
