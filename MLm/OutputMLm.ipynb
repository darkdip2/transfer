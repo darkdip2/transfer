{
 "cells": [
  {
   "cell_type": "code",
   "execution_count": 1,
   "metadata": {
    "id": "8ztDW6kAf5rU"
   },
   "outputs": [],
   "source": [
    "#!pip install optuna"
   ]
  },
  {
   "cell_type": "code",
   "execution_count": 2,
   "metadata": {
    "id": "qj1QfqAPOThb"
   },
   "outputs": [],
   "source": [
    "import numpy as np\n",
    "import pandas as pd\n",
    "from sklearn import *\n",
    "import glob\n",
    "from sklearn.model_selection import cross_val_score\n",
    "from sklearn.preprocessing import StandardScaler\n",
    "from sklearn.pipeline import Pipeline\n",
    "from sklearn.impute import SimpleImputer\n",
    "from sklearn.ensemble import ExtraTreesRegressor, VotingRegressor, RandomForestRegressor\n",
    "from lightgbm import LGBMRegressor\n",
    "from xgboost import XGBRegressor\n",
    "import warnings\n",
    "import optuna\n",
    "from sklearn.isotonic import IsotonicRegression\n",
    "warnings.simplefilter('ignore')"
   ]
  },
  {
   "cell_type": "code",
   "execution_count": 3,
   "metadata": {
    "id": "rPoACzUTOni5"
   },
   "outputs": [],
   "source": [
    "path = 'march-machine-learning-mania-2025/**'\n",
    "data = {p.split('/')[-1].split('.')[0].split('\\\\')[-1] : pd.read_csv(p, encoding='latin-1') for p in glob.glob(path)}\n",
    "teams = pd.concat([data['MTeams'], data['WTeams']])\n",
    "teams_spelling = pd.concat([data['MTeamSpellings'], data['WTeamSpellings']])\n",
    "teams_spelling = teams_spelling.groupby(by='TeamID', as_index=False)['TeamNameSpelling'].count()\n",
    "teams_spelling.columns = ['TeamID', 'TeamNameCount']\n",
    "teams = pd.merge(teams, teams_spelling, how='left', on=['TeamID'])\n",
    "del teams_spelling\n",
    "\n",
    "season_cresults = pd.concat([data['MRegularSeasonCompactResults'], data['WRegularSeasonCompactResults']])\n",
    "season_dresults = pd.concat([data['MRegularSeasonDetailedResults'], data['WRegularSeasonDetailedResults']])\n",
    "tourney_cresults = pd.concat([data['MNCAATourneyCompactResults'], data['WNCAATourneyCompactResults']])\n",
    "tourney_dresults = pd.concat([data['MNCAATourneyDetailedResults'], data['WNCAATourneyDetailedResults']])\n",
    "slots = pd.concat([data['MNCAATourneySlots'], data['WNCAATourneySlots']])\n",
    "seeds = pd.concat([data['MNCAATourneySeeds'], data['WNCAATourneySeeds']])\n",
    "gcities = pd.concat([data['MGameCities'], data['WGameCities']])\n",
    "seasons = pd.concat([data['MSeasons'], data['WSeasons']])\n",
    "\n",
    "seeds = {'_'.join(map(str,[int(k1),k2])):int(v[1:3]) for k1, v, k2 in seeds[['Season', 'Seed', 'TeamID']].values}\n",
    "cities = data['Cities']\n",
    "sub = data['SampleSubmissionStage1']\n",
    "del data\n",
    "\n",
    "season_cresults['ST'] = 'S'\n",
    "season_dresults['ST'] = 'S'\n",
    "tourney_cresults['ST'] = 'T'\n",
    "tourney_dresults['ST'] = 'T'\n",
    "#games = pd.concat((season_cresults, tourney_cresults), axis=0, ignore_index=True)\n",
    "games = pd.concat((season_dresults, tourney_dresults), axis=0, ignore_index=True)\n",
    "games.reset_index(drop=True, inplace=True)\n",
    "games['WLoc'] = games['WLoc'].map({'A': 1, 'H': 2, 'N': 3})\n",
    "\n",
    "games['ID'] = games.apply(lambda r: '_'.join(map(str, [r['Season']]+sorted([r['WTeamID'],r['LTeamID']]))), axis=1)\n",
    "games['IDTeams'] = games.apply(lambda r: '_'.join(map(str, sorted([r['WTeamID'],r['LTeamID']]))), axis=1)\n",
    "games['Team1'] = games.apply(lambda r: sorted([r['WTeamID'],r['LTeamID']])[0], axis=1)\n",
    "games['Team2'] = games.apply(lambda r: sorted([r['WTeamID'],r['LTeamID']])[1], axis=1)\n",
    "games['IDTeam1'] = games.apply(lambda r: '_'.join(map(str, [r['Season'], r['Team1']])), axis=1)\n",
    "games['IDTeam2'] = games.apply(lambda r: '_'.join(map(str, [r['Season'], r['Team2']])), axis=1)\n",
    "\n",
    "games['Team1Seed'] = games['IDTeam1'].map(seeds).fillna(0)\n",
    "games['Team2Seed'] = games['IDTeam2'].map(seeds).fillna(0)\n",
    "\n",
    "games['ScoreDiff'] = games['WScore'] - games['LScore']\n",
    "games['Pred'] = games.apply(lambda r: 1. if sorted([r['WTeamID'],r['LTeamID']])[0]==r['WTeamID'] else 0., axis=1)\n",
    "games['ScoreDiffNorm'] = games.apply(lambda r: r['ScoreDiff'] * -1 if r['Pred'] == 0. else r['ScoreDiff'], axis=1)\n",
    "games['SeedDiff'] = games['Team1Seed'] - games['Team2Seed']\n",
    "games = games.fillna(-1)\n",
    "\n",
    "c_score_col = ['NumOT', 'WFGM', 'WFGA', 'WFGM3', 'WFGA3', 'WFTM', 'WFTA', 'WOR', 'WDR', 'WAst', 'WTO', 'WStl',\n",
    " 'WBlk', 'WPF', 'LFGM', 'LFGA', 'LFGM3', 'LFGA3', 'LFTM', 'LFTA', 'LOR', 'LDR', 'LAst', 'LTO', 'LStl',\n",
    " 'LBlk', 'LPF']\n",
    "c_score_agg = ['sum', 'mean', 'median', 'max', 'min', 'std', 'skew', 'nunique']\n",
    "gb = games.groupby(by=['IDTeams']).agg({k: c_score_agg for k in c_score_col}).reset_index()\n",
    "gb.columns = [''.join(c) + '_c_score' for c in gb.columns]\n",
    "\n",
    "games = games[games['ST']=='T']\n",
    "\n",
    "sub['WLoc'] = 3\n",
    "sub['Season'] = sub['ID'].map(lambda x: x.split('_')[0])\n",
    "sub['Season'] = sub['ID'].map(lambda x: x.split('_')[0])\n",
    "sub['Season'] = sub['Season'].astype(int)\n",
    "sub['Team1'] = sub['ID'].map(lambda x: x.split('_')[1])\n",
    "sub['Team2'] = sub['ID'].map(lambda x: x.split('_')[2])\n",
    "sub['IDTeams'] = sub.apply(lambda r: '_'.join(map(str, [r['Team1'], r['Team2']])), axis=1)\n",
    "sub['IDTeam1'] = sub.apply(lambda r: '_'.join(map(str, [r['Season'], r['Team1']])), axis=1)\n",
    "sub['IDTeam2'] = sub.apply(lambda r: '_'.join(map(str, [r['Season'], r['Team2']])), axis=1)\n",
    "sub['Team1Seed'] = sub['IDTeam1'].map(seeds).fillna(0)\n",
    "sub['Team2Seed'] = sub['IDTeam2'].map(seeds).fillna(0)\n",
    "sub['SeedDiff'] = sub['Team1Seed'] - sub['Team2Seed']\n",
    "sub = sub.fillna(-1)\n",
    "\n",
    "games = pd.merge(games, gb, how='left', left_on='IDTeams', right_on='IDTeams_c_score')\n",
    "sub = pd.merge(sub, gb, how='left', left_on='IDTeams', right_on='IDTeams_c_score')\n",
    "\n",
    "col = [c for c in games.columns if c not in ['ID', 'DayNum', 'ST', 'Team1', 'Team2', 'IDTeams', 'IDTeam1', 'IDTeam2', 'WTeamID', 'WScore', 'LTeamID', 'LScore', 'NumOT', 'Pred', 'ScoreDiff', 'ScoreDiffNorm', 'WLoc'] + c_score_col]"
   ]
  },
  {
   "cell_type": "code",
   "execution_count": 4,
   "metadata": {},
   "outputs": [
    {
     "data": {
      "text/plain": [
       "\"\\nimputer = SimpleImputer(strategy='median')\\nscaler = StandardScaler()\\n\\nX = games[col].fillna(-1)\\nX_imputed = imputer.fit_transform(X)\\nX_scaled = scaler.fit_transform(X_imputed)\\n\\nsub_X = sub[col].fillna(-1)\\nsub_X_imputed = imputer.transform(sub_X)\\nsub_X_scaled = scaler.transform(sub_X_imputed)\""
      ]
     },
     "execution_count": 4,
     "metadata": {},
     "output_type": "execute_result"
    }
   ],
   "source": [
    "'''\n",
    "imputer = SimpleImputer(strategy='median')\n",
    "scaler = StandardScaler()\n",
    "\n",
    "X = games[col].fillna(-1)\n",
    "X_imputed = imputer.fit_transform(X)\n",
    "X_scaled = scaler.fit_transform(X_imputed)\n",
    "\n",
    "sub_X = sub[col].fillna(-1)\n",
    "sub_X_imputed = imputer.transform(sub_X)\n",
    "sub_X_scaled = scaler.transform(sub_X_imputed)'''"
   ]
  },
  {
   "cell_type": "code",
   "execution_count": 5,
   "metadata": {
    "id": "wuHER0iVO7j0"
   },
   "outputs": [
    {
     "data": {
      "text/plain": [
       "'\\nfrom sklearn.impute import KNNImputer\\n\\nimputer = KNNImputer(n_neighbors=32)\\nscaler = StandardScaler()\\n\\nX_imputed = imputer.fit_transform(games[col])\\nX_scaled = scaler.fit_transform(X_imputed)\\n\\nsub_X_imputed = imputer.transform(sub[col])\\nsub_X_scaled = scaler.transform(sub_X_imputed)\\n'"
      ]
     },
     "execution_count": 5,
     "metadata": {},
     "output_type": "execute_result"
    }
   ],
   "source": [
    "'''\n",
    "from sklearn.impute import KNNImputer\n",
    "\n",
    "imputer = KNNImputer(n_neighbors=32)\n",
    "scaler = StandardScaler()\n",
    "\n",
    "X_imputed = imputer.fit_transform(games[col])\n",
    "X_scaled = scaler.fit_transform(X_imputed)\n",
    "\n",
    "sub_X_imputed = imputer.transform(sub[col])\n",
    "sub_X_scaled = scaler.transform(sub_X_imputed)\n",
    "'''"
   ]
  },
  {
   "cell_type": "code",
   "execution_count": 6,
   "metadata": {},
   "outputs": [],
   "source": [
    "#np.savez_compressed(\"scaled_data.npz\", X_scaled=X_scaled, sub_X_scaled=sub_X_scaled)"
   ]
  },
  {
   "cell_type": "code",
   "execution_count": 7,
   "metadata": {
    "id": "KT8ECSEcpyLa"
   },
   "outputs": [],
   "source": [
    "data = np.load(\"scaled_data.npz\")\n",
    "X_scaled = data[\"X_scaled\"]\n",
    "sub_X_scaled = data[\"sub_X_scaled\"]"
   ]
  },
  {
   "cell_type": "code",
   "execution_count": 8,
   "metadata": {
    "id": "rxE88GDqhyEB"
   },
   "outputs": [],
   "source": [
    "SEED=95\n",
    "TRIALS=200"
   ]
  },
  {
   "cell_type": "code",
   "execution_count": null,
   "metadata": {
    "id": "_ztWjojaO-FE"
   },
   "outputs": [
    {
     "name": "stderr",
     "output_type": "stream",
     "text": [
      "[I 2025-02-16 09:41:00,375] A new study created in memory with name: no-name-602bf873-229c-4744-9d03-0a77d531423e\n"
     ]
    },
    {
     "data": {
      "application/vnd.jupyter.widget-view+json": {
       "model_id": "05d3c1fcbb4242d89952e6ad036f061f",
       "version_major": 2,
       "version_minor": 0
      },
      "text/plain": [
       "  0%|          | 0/80 [00:00<?, ?it/s]"
      ]
     },
     "metadata": {},
     "output_type": "display_data"
    },
    {
     "name": "stdout",
     "output_type": "stream",
     "text": [
      "Trial 0 parameters: {'rf_n_estimators': 307, 'rf_max_depth': 21, 'rf_min_samples_split': 9, 'rf_max_features': 'sqrt', 'rf_bootstrap': False, 'xgb_n_estimators': 321, 'xgb_max_depth': 3, 'xgb_learning_rate': 0.0573402946564291, 'xgb_subsample': 0.6843215001077518, 'xgb_colsample_bytree': 0.9935720012500839, 'et_n_estimators': 255, 'et_max_depth': 24, 'et_min_samples_split': 7, 'et_max_features': 'sqrt', 'lgb_n_estimators': 323, 'lgb_num_leaves': 83, 'lgb_learning_rate': 0.011338823432737203, 'lgb_boosting_type': 'dart'}\n",
      "Trial 1 parameters: {'rf_n_estimators': 201, 'rf_max_depth': 30, 'rf_min_samples_split': 4, 'rf_max_features': 'sqrt', 'rf_bootstrap': False, 'xgb_n_estimators': 202, 'xgb_max_depth': 5, 'xgb_learning_rate': 0.010638485236771926, 'xgb_subsample': 0.6194912609737947, 'xgb_colsample_bytree': 0.6797446217558073, 'et_n_estimators': 259, 'et_max_depth': 13, 'et_min_samples_split': 4, 'et_max_features': 'sqrt', 'lgb_n_estimators': 352, 'lgb_num_leaves': 208, 'lgb_learning_rate': 0.027130207406561295, 'lgb_boosting_type': 'dart'}\n",
      "Trial 2 parameters: {'rf_n_estimators': 225, 'rf_max_depth': 18, 'rf_min_samples_split': 4, 'rf_max_features': None, 'rf_bootstrap': False, 'xgb_n_estimators': 389, 'xgb_max_depth': 10, 'xgb_learning_rate': 0.07502116823232843, 'xgb_subsample': 0.9393438966570886, 'xgb_colsample_bytree': 0.9452492813212103, 'et_n_estimators': 318, 'et_max_depth': 12, 'et_min_samples_split': 6, 'et_max_features': 'sqrt', 'lgb_n_estimators': 342, 'lgb_num_leaves': 202, 'lgb_learning_rate': 0.018928940182410172, 'lgb_boosting_type': 'gbdt'}\n",
      "Trial 3 parameters: {'rf_n_estimators': 259, 'rf_max_depth': 26, 'rf_min_samples_split': 7, 'rf_max_features': 'log2', 'rf_bootstrap': True, 'xgb_n_estimators': 291, 'xgb_max_depth': 4, 'xgb_learning_rate': 0.06224245053920401, 'xgb_subsample': 0.817200557948948, 'xgb_colsample_bytree': 0.9745704147708818, 'et_n_estimators': 332, 'et_max_depth': 30, 'et_min_samples_split': 5, 'et_max_features': None, 'lgb_n_estimators': 208, 'lgb_num_leaves': 220, 'lgb_learning_rate': 0.1483573264849984, 'lgb_boosting_type': 'gbdt'}\n",
      "Trial 4 parameters: {'rf_n_estimators': 206, 'rf_max_depth': 28, 'rf_min_samples_split': 4, 'rf_max_features': 'sqrt', 'rf_bootstrap': True, 'xgb_n_estimators': 301, 'xgb_max_depth': 3, 'xgb_learning_rate': 0.029728882218604553, 'xgb_subsample': 0.9364977496415572, 'xgb_colsample_bytree': 0.8556294206642323, 'et_n_estimators': 341, 'et_max_depth': 19, 'et_min_samples_split': 8, 'et_max_features': 'log2', 'lgb_n_estimators': 389, 'lgb_num_leaves': 258, 'lgb_learning_rate': 0.018267632379186965, 'lgb_boosting_type': 'gbdt'}\n",
      "Trial 5 parameters: {'rf_n_estimators': 248, 'rf_max_depth': 26, 'rf_min_samples_split': 3, 'rf_max_features': 'sqrt', 'rf_bootstrap': False, 'xgb_n_estimators': 253, 'xgb_max_depth': 13, 'xgb_learning_rate': 0.17236030847860354, 'xgb_subsample': 0.9957794083292519, 'xgb_colsample_bytree': 0.8264481434597313, 'et_n_estimators': 226, 'et_max_depth': 18, 'et_min_samples_split': 6, 'et_max_features': 'log2', 'lgb_n_estimators': 237, 'lgb_num_leaves': 198, 'lgb_learning_rate': 0.028757053338806626, 'lgb_boosting_type': 'dart'}\n",
      "Trial 6 parameters: {'rf_n_estimators': 217, 'rf_max_depth': 10, 'rf_min_samples_split': 6, 'rf_max_features': None, 'rf_bootstrap': False, 'xgb_n_estimators': 344, 'xgb_max_depth': 3, 'xgb_learning_rate': 0.018708405810381797, 'xgb_subsample': 0.5109956462125507, 'xgb_colsample_bytree': 0.6724868891884372, 'et_n_estimators': 209, 'et_max_depth': 9, 'et_min_samples_split': 3, 'et_max_features': None, 'lgb_n_estimators': 360, 'lgb_num_leaves': 236, 'lgb_learning_rate': 0.03764981999843553, 'lgb_boosting_type': 'dart'}\n",
      "Trial 7 parameters: {'rf_n_estimators': 371, 'rf_max_depth': 22, 'rf_min_samples_split': 2, 'rf_max_features': 'log2', 'rf_bootstrap': True, 'xgb_n_estimators': 318, 'xgb_max_depth': 11, 'xgb_learning_rate': 0.13480752964898185, 'xgb_subsample': 0.7755650739132709, 'xgb_colsample_bytree': 0.9090916345835984, 'et_n_estimators': 398, 'et_max_depth': 11, 'et_min_samples_split': 8, 'et_max_features': None, 'lgb_n_estimators': 342, 'lgb_num_leaves': 189, 'lgb_learning_rate': 0.06539482832547176, 'lgb_boosting_type': 'dart'}\n",
      "Trial 8 parameters: {'rf_n_estimators': 304, 'rf_max_depth': 8, 'rf_min_samples_split': 3, 'rf_max_features': None, 'rf_bootstrap': True, 'xgb_n_estimators': 353, 'xgb_max_depth': 3, 'xgb_learning_rate': 0.025758148504951842, 'xgb_subsample': 0.9459573014196232, 'xgb_colsample_bytree': 0.9947732804219902, 'et_n_estimators': 207, 'et_max_depth': 8, 'et_min_samples_split': 9, 'et_max_features': 'log2', 'lgb_n_estimators': 335, 'lgb_num_leaves': 128, 'lgb_learning_rate': 0.02550081396812953, 'lgb_boosting_type': 'gbdt'}\n",
      "Trial 9 parameters: {'rf_n_estimators': 347, 'rf_max_depth': 11, 'rf_min_samples_split': 9, 'rf_max_features': 'sqrt', 'rf_bootstrap': False, 'xgb_n_estimators': 252, 'xgb_max_depth': 5, 'xgb_learning_rate': 0.029461742422109, 'xgb_subsample': 0.599056045391253, 'xgb_colsample_bytree': 0.5422784229957089, 'et_n_estimators': 349, 'et_max_depth': 12, 'et_min_samples_split': 7, 'et_max_features': 'sqrt', 'lgb_n_estimators': 400, 'lgb_num_leaves': 220, 'lgb_learning_rate': 0.05182564274609401, 'lgb_boosting_type': 'gbdt'}\n",
      "Trial 10 parameters: {'rf_n_estimators': 273, 'rf_max_depth': 13, 'rf_min_samples_split': 7, 'rf_max_features': None, 'rf_bootstrap': False, 'xgb_n_estimators': 398, 'xgb_max_depth': 8, 'xgb_learning_rate': 0.011154195313807186, 'xgb_subsample': 0.5310158239554588, 'xgb_colsample_bytree': 0.676887403319326, 'et_n_estimators': 280, 'et_max_depth': 5, 'et_min_samples_split': 2, 'et_max_features': None, 'lgb_n_estimators': 282, 'lgb_num_leaves': 284, 'lgb_learning_rate': 0.2658281446795472, 'lgb_boosting_type': 'dart'}\n",
      "Trial 11 parameters: {'rf_n_estimators': 201, 'rf_max_depth': 14, 'rf_min_samples_split': 6, 'rf_max_features': None, 'rf_bootstrap': False, 'xgb_n_estimators': 217, 'xgb_max_depth': 7, 'xgb_learning_rate': 0.010690526107504242, 'xgb_subsample': 0.5028042439198681, 'xgb_colsample_bytree': 0.6582486978342544, 'et_n_estimators': 252, 'et_max_depth': 15, 'et_min_samples_split': 3, 'et_max_features': 'sqrt', 'lgb_n_estimators': 371, 'lgb_num_leaves': 135, 'lgb_learning_rate': 0.05383386854834488, 'lgb_boosting_type': 'dart'}\n",
      "Trial 12 parameters: {'rf_n_estimators': 234, 'rf_max_depth': 6, 'rf_min_samples_split': 5, 'rf_max_features': 'sqrt', 'rf_bootstrap': False, 'xgb_n_estimators': 207, 'xgb_max_depth': 6, 'xgb_learning_rate': 0.018138500707359725, 'xgb_subsample': 0.6352609043371643, 'xgb_colsample_bytree': 0.7193123286261182, 'et_n_estimators': 205, 'et_max_depth': 5, 'et_min_samples_split': 4, 'et_max_features': None, 'lgb_n_estimators': 287, 'lgb_num_leaves': 260, 'lgb_learning_rate': 0.08685003690700646, 'lgb_boosting_type': 'dart'}\n",
      "Trial 13 parameters: {'rf_n_estimators': 200, 'rf_max_depth': 30, 'rf_min_samples_split': 6, 'rf_max_features': None, 'rf_bootstrap': False, 'xgb_n_estimators': 349, 'xgb_max_depth': 15, 'xgb_learning_rate': 0.01570039795252604, 'xgb_subsample': 0.5800892659557876, 'xgb_colsample_bytree': 0.5829903210111722, 'et_n_estimators': 243, 'et_max_depth': 15, 'et_min_samples_split': 2, 'et_max_features': 'sqrt', 'lgb_n_estimators': 365, 'lgb_num_leaves': 47, 'lgb_learning_rate': 0.037591439762858, 'lgb_boosting_type': 'dart'}\n",
      "Trial 14 parameters: {'rf_n_estimators': 280, 'rf_max_depth': 17, 'rf_min_samples_split': 8, 'rf_max_features': 'log2', 'rf_bootstrap': False, 'xgb_n_estimators': 268, 'xgb_max_depth': 6, 'xgb_learning_rate': 0.01879643158911793, 'xgb_subsample': 0.6942690387124866, 'xgb_colsample_bytree': 0.7781436838799154, 'et_n_estimators': 288, 'et_max_depth': 22, 'et_min_samples_split': 4, 'et_max_features': None, 'lgb_n_estimators': 309, 'lgb_num_leaves': 158, 'lgb_learning_rate': 0.011031855989507308, 'lgb_boosting_type': 'dart'}\n",
      "Trial 15 parameters: {'rf_n_estimators': 226, 'rf_max_depth': 9, 'rf_min_samples_split': 5, 'rf_max_features': 'sqrt', 'rf_bootstrap': False, 'xgb_n_estimators': 360, 'xgb_max_depth': 5, 'xgb_learning_rate': 0.287903305421068, 'xgb_subsample': 0.5545673648817955, 'xgb_colsample_bytree': 0.6169453860484004, 'et_n_estimators': 226, 'et_max_depth': 9, 'et_min_samples_split': 4, 'et_max_features': 'sqrt', 'lgb_n_estimators': 365, 'lgb_num_leaves': 287, 'lgb_learning_rate': 0.09409586361299759, 'lgb_boosting_type': 'dart'}\n",
      "Trial 16 parameters: {'rf_n_estimators': 327, 'rf_max_depth': 23, 'rf_min_samples_split': 5, 'rf_max_features': None, 'rf_bootstrap': False, 'xgb_n_estimators': 231, 'xgb_max_depth': 8, 'xgb_learning_rate': 0.03585767860251877, 'xgb_subsample': 0.6408874956462305, 'xgb_colsample_bytree': 0.5118869033323239, 'et_n_estimators': 271, 'et_max_depth': 15, 'et_min_samples_split': 3, 'et_max_features': None, 'lgb_n_estimators': 271, 'lgb_num_leaves': 245, 'lgb_learning_rate': 0.035706683010636286, 'lgb_boosting_type': 'dart'}\n",
      "Trial 17 parameters: {'rf_n_estimators': 392, 'rf_max_depth': 17, 'rf_min_samples_split': 2, 'rf_max_features': 'sqrt', 'rf_bootstrap': False, 'xgb_n_estimators': 332, 'xgb_max_depth': 5, 'xgb_learning_rate': 0.014269998813913849, 'xgb_subsample': 0.715533922153745, 'xgb_colsample_bytree': 0.7475662379631683, 'et_n_estimators': 229, 'et_max_depth': 9, 'et_min_samples_split': 5, 'et_max_features': 'sqrt', 'lgb_n_estimators': 312, 'lgb_num_leaves': 171, 'lgb_learning_rate': 0.020136832677120176, 'lgb_boosting_type': 'dart'}\n",
      "Trial 18 parameters: {'rf_n_estimators': 247, 'rf_max_depth': 6, 'rf_min_samples_split': 10, 'rf_max_features': None, 'rf_bootstrap': True, 'xgb_n_estimators': 376, 'xgb_max_depth': 9, 'xgb_learning_rate': 0.04151411122900419, 'xgb_subsample': 0.6136694683612837, 'xgb_colsample_bytree': 0.641576367881043, 'et_n_estimators': 304, 'et_max_depth': 7, 'et_min_samples_split': 3, 'et_max_features': None, 'lgb_n_estimators': 356, 'lgb_num_leaves': 236, 'lgb_learning_rate': 0.04325217075691677, 'lgb_boosting_type': 'dart'}\n",
      "Trial 19 parameters: {'rf_n_estimators': 282, 'rf_max_depth': 14, 'rf_min_samples_split': 7, 'rf_max_features': 'log2', 'rf_bootstrap': False, 'xgb_n_estimators': 284, 'xgb_max_depth': 4, 'xgb_learning_rate': 0.02356987509673205, 'xgb_subsample': 0.5024656257863922, 'xgb_colsample_bytree': 0.7227434800334718, 'et_n_estimators': 202, 'et_max_depth': 14, 'et_min_samples_split': 10, 'et_max_features': 'log2', 'lgb_n_estimators': 382, 'lgb_num_leaves': 128, 'lgb_learning_rate': 0.015212951891856922, 'lgb_boosting_type': 'dart'}\n",
      "Trial 20 parameters: {'rf_n_estimators': 223, 'rf_max_depth': 19, 'rf_min_samples_split': 4, 'rf_max_features': None, 'rf_bootstrap': False, 'xgb_n_estimators': 228, 'xgb_max_depth': 7, 'xgb_learning_rate': 0.01010685235874599, 'xgb_subsample': 0.8025980369660952, 'xgb_colsample_bytree': 0.5875461125406642, 'et_n_estimators': 265, 'et_max_depth': 21, 'et_min_samples_split': 5, 'et_max_features': None, 'lgb_n_estimators': 351, 'lgb_num_leaves': 300, 'lgb_learning_rate': 0.02739806465801931, 'lgb_boosting_type': 'dart'}\n",
      "Trial 21 parameters: {'rf_n_estimators': 236, 'rf_max_depth': 5, 'rf_min_samples_split': 5, 'rf_max_features': 'sqrt', 'rf_bootstrap': False, 'xgb_n_estimators': 213, 'xgb_max_depth': 6, 'xgb_learning_rate': 0.019551873825026534, 'xgb_subsample': 0.6463925132914148, 'xgb_colsample_bytree': 0.7036122915068183, 'et_n_estimators': 213, 'et_max_depth': 5, 'et_min_samples_split': 4, 'et_max_features': None, 'lgb_n_estimators': 285, 'lgb_num_leaves': 261, 'lgb_learning_rate': 0.08571032546864313, 'lgb_boosting_type': 'dart'}\n",
      "Trial 22 parameters: {'rf_n_estimators': 212, 'rf_max_depth': 10, 'rf_min_samples_split': 6, 'rf_max_features': 'sqrt', 'rf_bootstrap': False, 'xgb_n_estimators': 208, 'xgb_max_depth': 4, 'xgb_learning_rate': 0.015032629392160761, 'xgb_subsample': 0.6582737906406514, 'xgb_colsample_bytree': 0.6963449345625262, 'et_n_estimators': 234, 'et_max_depth': 7, 'et_min_samples_split': 3, 'et_max_features': None, 'lgb_n_estimators': 258, 'lgb_num_leaves': 268, 'lgb_learning_rate': 0.11251718840267094, 'lgb_boosting_type': 'dart'}\n",
      "Trial 23 parameters: {'rf_n_estimators': 240, 'rf_max_depth': 9, 'rf_min_samples_split': 6, 'rf_max_features': 'sqrt', 'rf_bootstrap': False, 'xgb_n_estimators': 241, 'xgb_max_depth': 4, 'xgb_learning_rate': 0.021146118170344612, 'xgb_subsample': 0.6665800037290565, 'xgb_colsample_bytree': 0.7904758526237395, 'et_n_estimators': 227, 'et_max_depth': 6, 'et_min_samples_split': 2, 'et_max_features': None, 'lgb_n_estimators': 256, 'lgb_num_leaves': 269, 'lgb_learning_rate': 0.16136620155456946, 'lgb_boosting_type': 'dart'}\n",
      "Trial 24 parameters: {'rf_n_estimators': 216, 'rf_max_depth': 11, 'rf_min_samples_split': 6, 'rf_max_features': 'sqrt', 'rf_bootstrap': False, 'xgb_n_estimators': 264, 'xgb_max_depth': 6, 'xgb_learning_rate': 0.04000384405755147, 'xgb_subsample': 0.7205346005409181, 'xgb_colsample_bytree': 0.7091229121986384, 'et_n_estimators': 236, 'et_max_depth': 9, 'et_min_samples_split': 3, 'et_max_features': None, 'lgb_n_estimators': 247, 'lgb_num_leaves': 241, 'lgb_learning_rate': 0.1169954034406302, 'lgb_boosting_type': 'dart'}\n",
      "Trial 25 parameters: {'rf_n_estimators': 259, 'rf_max_depth': 5, 'rf_min_samples_split': 8, 'rf_max_features': 'sqrt', 'rf_bootstrap': False, 'xgb_n_estimators': 219, 'xgb_max_depth': 3, 'xgb_learning_rate': 0.014769544441829215, 'xgb_subsample': 0.755797316937565, 'xgb_colsample_bytree': 0.6217985602134051, 'et_n_estimators': 214, 'et_max_depth': 10, 'et_min_samples_split': 3, 'et_max_features': None, 'lgb_n_estimators': 217, 'lgb_num_leaves': 279, 'lgb_learning_rate': 0.07102439211836435, 'lgb_boosting_type': 'dart'}\n",
      "Trial 26 parameters: {'rf_n_estimators': 258, 'rf_max_depth': 7, 'rf_min_samples_split': 5, 'rf_max_features': 'sqrt', 'rf_bootstrap': True, 'xgb_n_estimators': 201, 'xgb_max_depth': 4, 'xgb_learning_rate': 0.015664275056894512, 'xgb_subsample': 0.8459913263368586, 'xgb_colsample_bytree': 0.773256718636532, 'et_n_estimators': 214, 'et_max_depth': 7, 'et_min_samples_split': 2, 'et_max_features': None, 'lgb_n_estimators': 295, 'lgb_num_leaves': 236, 'lgb_learning_rate': 0.23452236557694348, 'lgb_boosting_type': 'gbdt'}\n",
      "Trial 27 parameters: {'rf_n_estimators': 217, 'rf_max_depth': 11, 'rf_min_samples_split': 7, 'rf_max_features': 'sqrt', 'rf_bootstrap': False, 'xgb_n_estimators': 337, 'xgb_max_depth': 7, 'xgb_learning_rate': 0.021996092651348928, 'xgb_subsample': 0.5704890942784095, 'xgb_colsample_bytree': 0.6947819337507745, 'et_n_estimators': 244, 'et_max_depth': 5, 'et_min_samples_split': 5, 'et_max_features': None, 'lgb_n_estimators': 270, 'lgb_num_leaves': 258, 'lgb_learning_rate': 0.1922113147302834, 'lgb_boosting_type': 'dart'}\n",
      "Trial 28 parameters: {'rf_n_estimators': 233, 'rf_max_depth': 9, 'rf_min_samples_split': 8, 'rf_max_features': 'log2', 'rf_bootstrap': False, 'xgb_n_estimators': 373, 'xgb_max_depth': 6, 'xgb_learning_rate': 0.03311949904348263, 'xgb_subsample': 0.6586482559684415, 'xgb_colsample_bytree': 0.8159616671246465, 'et_n_estimators': 200, 'et_max_depth': 7, 'et_min_samples_split': 4, 'et_max_features': None, 'lgb_n_estimators': 230, 'lgb_num_leaves': 164, 'lgb_learning_rate': 0.11601391092739831, 'lgb_boosting_type': 'dart'}\n",
      "Trial 29 parameters: {'rf_n_estimators': 286, 'rf_max_depth': 5, 'rf_min_samples_split': 5, 'rf_max_features': None, 'rf_bootstrap': False, 'xgb_n_estimators': 314, 'xgb_max_depth': 3, 'xgb_learning_rate': 0.04703093984768016, 'xgb_subsample': 0.5431553173214517, 'xgb_colsample_bytree': 0.7359940401074538, 'et_n_estimators': 374, 'et_max_depth': 30, 'et_min_samples_split': 3, 'et_max_features': None, 'lgb_n_estimators': 319, 'lgb_num_leaves': 299, 'lgb_learning_rate': 0.0782541138834582, 'lgb_boosting_type': 'dart'}\n",
      "Trial 30 parameters: {'rf_n_estimators': 325, 'rf_max_depth': 5, 'rf_min_samples_split': 3, 'rf_max_features': None, 'rf_bootstrap': False, 'xgb_n_estimators': 311, 'xgb_max_depth': 3, 'xgb_learning_rate': 0.04864103299245398, 'xgb_subsample': 0.5397800125101314, 'xgb_colsample_bytree': 0.8725493093218939, 'et_n_estimators': 368, 'et_max_depth': 28, 'et_min_samples_split': 2, 'et_max_features': None, 'lgb_n_estimators': 322, 'lgb_num_leaves': 20, 'lgb_learning_rate': 0.07217234704599103, 'lgb_boosting_type': 'dart'}\n",
      "Trial 31 parameters: {'rf_n_estimators': 318, 'rf_max_depth': 5, 'rf_min_samples_split': 3, 'rf_max_features': None, 'rf_bootstrap': False, 'xgb_n_estimators': 313, 'xgb_max_depth': 3, 'xgb_learning_rate': 0.08937424534031503, 'xgb_subsample': 0.5374407868702522, 'xgb_colsample_bytree': 0.8653638175384657, 'et_n_estimators': 379, 'et_max_depth': 30, 'et_min_samples_split': 2, 'et_max_features': None, 'lgb_n_estimators': 318, 'lgb_num_leaves': 39, 'lgb_learning_rate': 0.0695262299018184, 'lgb_boosting_type': 'dart'}\n",
      "Trial 32 parameters: {'rf_n_estimators': 332, 'rf_max_depth': 7, 'rf_min_samples_split': 5, 'rf_max_features': None, 'rf_bootstrap': False, 'xgb_n_estimators': 306, 'xgb_max_depth': 3, 'xgb_learning_rate': 0.04990103007165025, 'xgb_subsample': 0.5301788552896097, 'xgb_colsample_bytree': 0.7411902920847999, 'et_n_estimators': 372, 'et_max_depth': 26, 'et_min_samples_split': 4, 'et_max_features': None, 'lgb_n_estimators': 325, 'lgb_num_leaves': 78, 'lgb_learning_rate': 0.08372496333299766, 'lgb_boosting_type': 'dart'}\n",
      "Trial 33 parameters: {'rf_n_estimators': 294, 'rf_max_depth': 5, 'rf_min_samples_split': 4, 'rf_max_features': None, 'rf_bootstrap': False, 'xgb_n_estimators': 330, 'xgb_max_depth': 5, 'xgb_learning_rate': 0.051032988177419324, 'xgb_subsample': 0.5835621953987464, 'xgb_colsample_bytree': 0.9054176607043756, 'et_n_estimators': 364, 'et_max_depth': 28, 'et_min_samples_split': 2, 'et_max_features': None, 'lgb_n_estimators': 299, 'lgb_num_leaves': 22, 'lgb_learning_rate': 0.044793758682110746, 'lgb_boosting_type': 'dart'}\n",
      "Trial 34 parameters: {'rf_n_estimators': 349, 'rf_max_depth': 7, 'rf_min_samples_split': 3, 'rf_max_features': None, 'rf_bootstrap': False, 'xgb_n_estimators': 342, 'xgb_max_depth': 4, 'xgb_learning_rate': 0.10028152984581634, 'xgb_subsample': 0.556275066179779, 'xgb_colsample_bytree': 0.6601231123440485, 'et_n_estimators': 396, 'et_max_depth': 26, 'et_min_samples_split': 3, 'et_max_features': None, 'lgb_n_estimators': 323, 'lgb_num_leaves': 295, 'lgb_learning_rate': 0.05737117839674157, 'lgb_boosting_type': 'dart'}\n",
      "Trial 35 parameters: {'rf_n_estimators': 291, 'rf_max_depth': 8, 'rf_min_samples_split': 4, 'rf_max_features': None, 'rf_bootstrap': False, 'xgb_n_estimators': 286, 'xgb_max_depth': 3, 'xgb_learning_rate': 0.062318595244794286, 'xgb_subsample': 0.5043642093231625, 'xgb_colsample_bytree': 0.8025359773248292, 'et_n_estimators': 320, 'et_max_depth': 28, 'et_min_samples_split': 4, 'et_max_features': None, 'lgb_n_estimators': 330, 'lgb_num_leaves': 109, 'lgb_learning_rate': 0.14037786629880472, 'lgb_boosting_type': 'gbdt'}\n",
      "Trial 36 parameters: {'rf_n_estimators': 311, 'rf_max_depth': 13, 'rf_min_samples_split': 2, 'rf_max_features': None, 'rf_bootstrap': True, 'xgb_n_estimators': 325, 'xgb_max_depth': 11, 'xgb_learning_rate': 0.07318104540546391, 'xgb_subsample': 0.5940920491147201, 'xgb_colsample_bytree': 0.7587098443807229, 'et_n_estimators': 352, 'et_max_depth': 24, 'et_min_samples_split': 5, 'et_max_features': 'log2', 'lgb_n_estimators': 308, 'lgb_num_leaves': 87, 'lgb_learning_rate': 0.07651753479351997, 'lgb_boosting_type': 'dart'}\n",
      "Trial 37 parameters: {'rf_n_estimators': 270, 'rf_max_depth': 5, 'rf_min_samples_split': 4, 'rf_max_features': None, 'rf_bootstrap': False, 'xgb_n_estimators': 305, 'xgb_max_depth': 5, 'xgb_learning_rate': 0.042589988598643574, 'xgb_subsample': 0.6172313817312134, 'xgb_colsample_bytree': 0.9523480236805997, 'et_n_estimators': 329, 'et_max_depth': 29, 'et_min_samples_split': 3, 'et_max_features': None, 'lgb_n_estimators': 342, 'lgb_num_leaves': 226, 'lgb_learning_rate': 0.09579810287297329, 'lgb_boosting_type': 'gbdt'}\n"
     ]
    }
   ],
   "source": [
    "import optuna\n",
    "from sklearn.ensemble import RandomForestClassifier, ExtraTreesClassifier, VotingClassifier\n",
    "from lightgbm import LGBMClassifier\n",
    "from xgboost import XGBClassifier\n",
    "from sklearn.pipeline import Pipeline\n",
    "from sklearn.model_selection import cross_val_score\n",
    "\n",
    "def objective(trial):\n",
    "    rf_params = {\n",
    "        'n_estimators': trial.suggest_int('rf_n_estimators', 200, 400),\n",
    "        'max_depth': trial.suggest_int('rf_max_depth', 5, 30),\n",
    "        'min_samples_split': trial.suggest_int('rf_min_samples_split', 2, 10),\n",
    "        'max_features': trial.suggest_categorical('rf_max_features', ['sqrt', 'log2', None]),\n",
    "        'bootstrap': trial.suggest_categorical('rf_bootstrap', [True, False]),\n",
    "        'random_state': SEED\n",
    "    }\n",
    "\n",
    "    xgb_params = {\n",
    "        'n_estimators': trial.suggest_int('xgb_n_estimators', 200, 400),\n",
    "        'max_depth': trial.suggest_int('xgb_max_depth', 3, 15),\n",
    "        'learning_rate': trial.suggest_float('xgb_learning_rate', 0.01, 0.3, log=True),\n",
    "        'subsample': trial.suggest_float('xgb_subsample', 0.5, 1.0),\n",
    "        'colsample_bytree': trial.suggest_float('xgb_colsample_bytree', 0.5, 1.0),\n",
    "        'random_state': SEED\n",
    "    }\n",
    "\n",
    "    et_params = {\n",
    "        'n_estimators': trial.suggest_int('et_n_estimators', 200, 400),\n",
    "        'max_depth': trial.suggest_int('et_max_depth', 5, 30),\n",
    "        'min_samples_split': trial.suggest_int('et_min_samples_split', 2, 10),\n",
    "        'max_features': trial.suggest_categorical('et_max_features', ['sqrt', 'log2', None]),\n",
    "        'random_state': SEED\n",
    "    }\n",
    "\n",
    "    lgb_params = {\n",
    "        'n_estimators': trial.suggest_int('lgb_n_estimators', 200, 400),\n",
    "        'num_leaves': trial.suggest_int('lgb_num_leaves', 20, 300),\n",
    "        'learning_rate': trial.suggest_float('lgb_learning_rate', 0.01, 0.3, log=True),\n",
    "        'boosting_type': trial.suggest_categorical('lgb_boosting_type', ['gbdt', 'dart']),\n",
    "        'random_state': SEED\n",
    "    }\n",
    "\n",
    "\n",
    "    rf = RandomForestClassifier(**rf_params,verbose=False)\n",
    "    xgb = XGBClassifier(**xgb_params,verbose=False)\n",
    "    et = ExtraTreesClassifier(**et_params,verbose=False)\n",
    "    lgb = LGBMClassifier(**lgb_params,verbose=-1)\n",
    "\n",
    "    voting_clf = VotingClassifier(\n",
    "        estimators=[('rf', rf), ('xgb', xgb), ('et', et), ('lgb', lgb)],\n",
    "        voting='soft'\n",
    "    )\n",
    "\n",
    "    model = Pipeline(steps=[('voting', voting_clf)])\n",
    "    cv_scores = cross_val_score(model, X_scaled, games[\"Pred\"], cv=5, scoring=\"accuracy\", n_jobs=-1)\n",
    "    print(f\"Trial {trial.number} parameters: {trial.params}\")\n",
    "    return cv_scores.mean()\n",
    "\n",
    "study = optuna.create_study(direction='maximize')\n",
    "optuna.logging.set_verbosity(optuna.logging.WARNING)\n",
    "study.optimize(objective, n_trials=TRIALS, show_progress_bar=True)\n",
    "print(\"Best Parameters:\")\n",
    "print(study.best_params)"
   ]
  },
  {
   "cell_type": "code",
   "execution_count": null,
   "metadata": {
    "id": "bTrY3jLshrx4"
   },
   "outputs": [],
   "source": [
    "best_params = {'rf_n_estimators': 217, 'rf_max_depth': 10, 'rf_min_samples_split': 6, 'rf_max_features': None, 'rf_bootstrap': False, 'xgb_n_estimators': 344, 'xgb_max_depth': 3, 'xgb_learning_rate': 0.018708405810381797, 'xgb_subsample': 0.5109956462125507, 'xgb_colsample_bytree': 0.6724868891884372, 'et_n_estimators': 209, 'et_max_depth': 9, 'et_min_samples_split': 3, 'et_max_features': None, 'lgb_n_estimators': 360, 'lgb_num_leaves': 236, 'lgb_learning_rate': 0.03764981999843553, 'lgb_boosting_type': 'dart'}\n",
    "\n",
    "rf_best_params = {k.replace('rf__', ''): v for k, v in best_params.items() if k.startswith('rf__')}\n",
    "et_best_params = {k.replace('et__', ''): v for k, v in best_params.items() if k.startswith('et__')}\n",
    "lgb_best_params = {k.replace('lgb__', ''): v for k, v in best_params.items() if k.startswith('lgb__')}\n",
    "xgb_best_params = {k.replace('xgb__', ''): v for k, v in best_params.items() if k.startswith('xgb__')}\n",
    "\n",
    "et = ExtraTreesClassifier(**et_best_params,verbose=False)\n",
    "rf = RandomForestClassifier(**rf_best_params,verbose=False)\n",
    "lgb = LGBMClassifier(**lgb_best_params,verbose=-1)\n",
    "xgb = XGBClassifier(**xgb_best_params,verbose=False)\n",
    "\n",
    "voting_clf = VotingClassifier(\n",
    "    estimators=[('et', et), ('rf', rf), ('lgb', lgb), ('xgb', xgb)],\n",
    "    voting='soft'\n",
    ")\n",
    "\n",
    "pipe = Pipeline(steps=[('voting', voting_clf)])\n",
    "pipe.fit(X_scaled, games['Pred'])\n",
    "pred = int(pipe.predict(sub_X_scaled))\n",
    "sub['Pred']=pred\n",
    "\n",
    "sub[['ID', 'Pred']].to_csv('submission.csv', index=False)\n",
    "print(sub[['ID', 'Pred']].head())"
   ]
  }
 ],
 "metadata": {
  "accelerator": "GPU",
  "colab": {
   "gpuType": "T4",
   "provenance": []
  },
  "kernelspec": {
   "display_name": "Python 3 (ipykernel)",
   "language": "python",
   "name": "python3"
  },
  "language_info": {
   "codemirror_mode": {
    "name": "ipython",
    "version": 3
   },
   "file_extension": ".py",
   "mimetype": "text/x-python",
   "name": "python",
   "nbconvert_exporter": "python",
   "pygments_lexer": "ipython3",
   "version": "3.11.7"
  }
 },
 "nbformat": 4,
 "nbformat_minor": 4
}
