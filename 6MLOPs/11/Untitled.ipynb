{
 "cells": [
  {
   "cell_type": "code",
   "execution_count": 1,
   "id": "95f235c5-0aaa-4c83-b5a0-b8d1a7972128",
   "metadata": {},
   "outputs": [
    {
     "name": "stdout",
     "output_type": "stream",
     "text": [
      "Requirement already satisfied: pyspark in /Users/architsharma/miniconda3/envs/tf/lib/python3.9/site-packages (3.4.1)\n",
      "Requirement already satisfied: py4j in /Users/architsharma/miniconda3/envs/tf/lib/python3.9/site-packages (0.10.9.7)\n",
      "\u001b[33mDEPRECATION: omegaconf 2.0.6 has a non-standard dependency specifier PyYAML>=5.1.*. pip 23.3 will enforce this behaviour change. A possible replacement is to upgrade to a newer version of omegaconf or contact the author to suggest that they release a version with a conforming dependency specifiers. Discussion can be found at https://github.com/pypa/pip/issues/12063\u001b[0m\u001b[33m\n",
      "\u001b[0m\n",
      "\u001b[1m[\u001b[0m\u001b[34;49mnotice\u001b[0m\u001b[1;39;49m]\u001b[0m\u001b[39;49m A new release of pip is available: \u001b[0m\u001b[31;49m23.2.1\u001b[0m\u001b[39;49m -> \u001b[0m\u001b[32;49m23.3.1\u001b[0m\n",
      "\u001b[1m[\u001b[0m\u001b[34;49mnotice\u001b[0m\u001b[1;39;49m]\u001b[0m\u001b[39;49m To update, run: \u001b[0m\u001b[32;49mpip install --upgrade pip\u001b[0m\n"
     ]
    }
   ],
   "source": [
    "!pip install pyspark py4j"
   ]
  },
  {
   "cell_type": "code",
   "execution_count": 2,
   "id": "fffe7cbd-d10f-40ea-b0e8-1526d0a6931b",
   "metadata": {},
   "outputs": [],
   "source": [
    "from pyspark.sql import SparkSession"
   ]
  },
  {
   "cell_type": "code",
   "execution_count": 3,
   "id": "fd73e0b0-d214-4d3e-97e4-df17641f88fc",
   "metadata": {},
   "outputs": [
    {
     "name": "stderr",
     "output_type": "stream",
     "text": [
      "23/10/26 21:55:50 WARN Utils: Your hostname, Archits-MacBook-Pro.local resolves to a loopback address: 127.0.0.1; using 192.168.1.7 instead (on interface en0)\n",
      "23/10/26 21:55:50 WARN Utils: Set SPARK_LOCAL_IP if you need to bind to another address\n",
      "Setting default log level to \"WARN\".\n",
      "To adjust logging level use sc.setLogLevel(newLevel). For SparkR, use setLogLevel(newLevel).\n",
      "23/10/26 21:55:53 WARN NativeCodeLoader: Unable to load native-hadoop library for your platform... using builtin-java classes where applicable\n"
     ]
    },
    {
     "data": {
      "text/html": [
       "\n",
       "            <div>\n",
       "                <p><b>SparkSession - in-memory</b></p>\n",
       "                \n",
       "        <div>\n",
       "            <p><b>SparkContext</b></p>\n",
       "\n",
       "            <p><a href=\"http://192.168.1.7:4040\">Spark UI</a></p>\n",
       "\n",
       "            <dl>\n",
       "              <dt>Version</dt>\n",
       "                <dd><code>v3.4.1</code></dd>\n",
       "              <dt>Master</dt>\n",
       "                <dd><code>local[*]</code></dd>\n",
       "              <dt>AppName</dt>\n",
       "                <dd><code>pyspark-shell</code></dd>\n",
       "            </dl>\n",
       "        </div>\n",
       "        \n",
       "            </div>\n",
       "        "
      ],
      "text/plain": [
       "<pyspark.sql.session.SparkSession at 0x10940dd60>"
      ]
     },
     "execution_count": 3,
     "metadata": {},
     "output_type": "execute_result"
    }
   ],
   "source": [
    "spark=SparkSession.builder.master(\"local[*]\").getOrCreate()\n",
    "spark"
   ]
  },
  {
   "cell_type": "code",
   "execution_count": 4,
   "id": "95ec0f79-ba31-45c1-9d87-ec6879f1d5c8",
   "metadata": {},
   "outputs": [
    {
     "name": "stdout",
     "output_type": "stream",
     "text": [
      "<class 'pandas.core.frame.DataFrame'>\n",
      "RangeIndex: 1259 entries, 0 to 1258\n",
      "Data columns (total 7 columns):\n",
      " #   Column     Non-Null Count  Dtype  \n",
      "---  ------     --------------  -----  \n",
      " 0   Date       1259 non-null   object \n",
      " 1   Open       1259 non-null   float64\n",
      " 2   High       1259 non-null   float64\n",
      " 3   Low        1259 non-null   float64\n",
      " 4   Close      1259 non-null   float64\n",
      " 5   Adj Close  1259 non-null   float64\n",
      " 6   Volume     1259 non-null   int64  \n",
      "dtypes: float64(5), int64(1), object(1)\n",
      "memory usage: 69.0+ KB\n"
     ]
    }
   ],
   "source": [
    "import pandas as pd\n",
    "pd_df=pd.read_csv(\"WMT.csv\")\n",
    "pd_df.info()"
   ]
  },
  {
   "cell_type": "code",
   "execution_count": 6,
   "id": "e76ce2f3-0535-421d-9a8e-1adc51ccf3ca",
   "metadata": {},
   "outputs": [
    {
     "data": {
      "text/html": [
       "<div>\n",
       "<style scoped>\n",
       "    .dataframe tbody tr th:only-of-type {\n",
       "        vertical-align: middle;\n",
       "    }\n",
       "\n",
       "    .dataframe tbody tr th {\n",
       "        vertical-align: top;\n",
       "    }\n",
       "\n",
       "    .dataframe thead th {\n",
       "        text-align: right;\n",
       "    }\n",
       "</style>\n",
       "<table border=\"1\" class=\"dataframe\">\n",
       "  <thead>\n",
       "    <tr style=\"text-align: right;\">\n",
       "      <th></th>\n",
       "      <th>Date</th>\n",
       "      <th>Open</th>\n",
       "      <th>High</th>\n",
       "      <th>Low</th>\n",
       "      <th>Close</th>\n",
       "      <th>Adj Close</th>\n",
       "      <th>Volume</th>\n",
       "    </tr>\n",
       "  </thead>\n",
       "  <tbody>\n",
       "    <tr>\n",
       "      <th>0</th>\n",
       "      <td>2016-01-20</td>\n",
       "      <td>61.799999</td>\n",
       "      <td>62.330002</td>\n",
       "      <td>60.200001</td>\n",
       "      <td>60.840000</td>\n",
       "      <td>53.990601</td>\n",
       "      <td>17369100</td>\n",
       "    </tr>\n",
       "    <tr>\n",
       "      <th>1</th>\n",
       "      <td>2016-01-21</td>\n",
       "      <td>60.980000</td>\n",
       "      <td>62.790001</td>\n",
       "      <td>60.910000</td>\n",
       "      <td>61.880001</td>\n",
       "      <td>54.913509</td>\n",
       "      <td>12089200</td>\n",
       "    </tr>\n",
       "    <tr>\n",
       "      <th>2</th>\n",
       "      <td>2016-01-22</td>\n",
       "      <td>62.439999</td>\n",
       "      <td>63.259998</td>\n",
       "      <td>62.130001</td>\n",
       "      <td>62.689999</td>\n",
       "      <td>55.632324</td>\n",
       "      <td>9197500</td>\n",
       "    </tr>\n",
       "    <tr>\n",
       "      <th>3</th>\n",
       "      <td>2016-01-25</td>\n",
       "      <td>62.779999</td>\n",
       "      <td>63.820000</td>\n",
       "      <td>62.549999</td>\n",
       "      <td>63.450001</td>\n",
       "      <td>56.306763</td>\n",
       "      <td>12823400</td>\n",
       "    </tr>\n",
       "    <tr>\n",
       "      <th>4</th>\n",
       "      <td>2016-01-26</td>\n",
       "      <td>63.360001</td>\n",
       "      <td>64.470001</td>\n",
       "      <td>63.259998</td>\n",
       "      <td>64.000000</td>\n",
       "      <td>56.794834</td>\n",
       "      <td>9441200</td>\n",
       "    </tr>\n",
       "  </tbody>\n",
       "</table>\n",
       "</div>"
      ],
      "text/plain": [
       "         Date       Open       High        Low      Close  Adj Close    Volume\n",
       "0  2016-01-20  61.799999  62.330002  60.200001  60.840000  53.990601  17369100\n",
       "1  2016-01-21  60.980000  62.790001  60.910000  61.880001  54.913509  12089200\n",
       "2  2016-01-22  62.439999  63.259998  62.130001  62.689999  55.632324   9197500\n",
       "3  2016-01-25  62.779999  63.820000  62.549999  63.450001  56.306763  12823400\n",
       "4  2016-01-26  63.360001  64.470001  63.259998  64.000000  56.794834   9441200"
      ]
     },
     "execution_count": 6,
     "metadata": {},
     "output_type": "execute_result"
    }
   ],
   "source": [
    "pd_df.head()"
   ]
  },
  {
   "cell_type": "code",
   "execution_count": 5,
   "id": "8bb5ddbe-2a5e-414f-9828-449001085b6d",
   "metadata": {},
   "outputs": [
    {
     "data": {
      "text/plain": [
       "Row(Date=datetime.date(2016, 1, 20), Open=61.799999, High=62.330002, Low=60.200001, Close=60.84, Adj Close=53.990601, Volume=17369100)"
      ]
     },
     "execution_count": 5,
     "metadata": {},
     "output_type": "execute_result"
    }
   ],
   "source": [
    "df= spark.read.csv(\"WMT.csv\",inferSchema=True,header=True)\n",
    "df.head()"
   ]
  },
  {
   "cell_type": "code",
   "execution_count": 8,
   "id": "98e05231-633a-4055-83b8-d3a58d16a7d2",
   "metadata": {},
   "outputs": [
    {
     "name": "stdout",
     "output_type": "stream",
     "text": [
      "+----------+---------+---------+---------+---------+---------+--------+\n",
      "|      Date|     Open|     High|      Low|    Close|Adj Close|  Volume|\n",
      "+----------+---------+---------+---------+---------+---------+--------+\n",
      "|2016-01-20|61.799999|62.330002|60.200001|    60.84|53.990601|17369100|\n",
      "|2016-01-21|    60.98|62.790001|    60.91|61.880001|54.913509|12089200|\n",
      "|2016-01-22|62.439999|63.259998|62.130001|62.689999|55.632324| 9197500|\n",
      "|2016-01-25|62.779999|    63.82|62.549999|63.450001|56.306763|12823400|\n",
      "|2016-01-26|63.360001|64.470001|63.259998|     64.0|56.794834| 9441200|\n",
      "|2016-01-27|64.099998|    65.18|63.889999|63.950001|56.750477|10214300|\n",
      "|2016-01-28|64.029999|64.510002|    63.43|64.220001| 56.99007|11278300|\n",
      "|2016-01-29|    64.75|66.529999|64.739998|66.360001|58.889149|16439100|\n",
      "|2016-02-01|65.910004|    67.93|65.889999|     67.5| 59.90081|14728400|\n",
      "|2016-02-02|67.300003|67.839996|66.279999|66.860001|59.332867|13585900|\n",
      "|2016-02-03|67.309998|     67.5|    65.07|66.269997| 58.80928|12315600|\n",
      "|2016-02-04|65.760002|66.550003|65.010002|66.419998| 58.94239|12833400|\n",
      "|2016-02-05|66.860001|67.529999|65.879997|     67.0|  59.4571|14196500|\n",
      "|2016-02-08|     66.5|67.150002|65.160004|66.900002|59.368362|20743600|\n",
      "|2016-02-09|65.489998|66.410004|    64.68|65.809998|58.401058|14642400|\n",
      "|2016-02-10|66.190002|66.589996|65.650002|65.790001| 58.38332| 9709300|\n",
      "|2016-02-11|65.019997|65.760002|64.779999|    65.32|57.966228|11186700|\n",
      "|2016-02-12|65.519997|    66.25|64.870003|    66.18|58.729424| 9695500|\n",
      "|2016-02-16|66.610001|66.800003|     65.5|65.900002|58.480934|11360500|\n",
      "|2016-02-17|66.099998|66.610001|65.809998|66.110001|58.667301|12426700|\n",
      "+----------+---------+---------+---------+---------+---------+--------+\n",
      "only showing top 20 rows\n",
      "\n"
     ]
    }
   ],
   "source": [
    "df.show()"
   ]
  },
  {
   "cell_type": "code",
   "execution_count": 10,
   "id": "66d62ae3-208d-4085-8cb7-4e6bb3e888a2",
   "metadata": {},
   "outputs": [
    {
     "name": "stdout",
     "output_type": "stream",
     "text": [
      "<class 'pyspark.sql.dataframe.DataFrame'>\n"
     ]
    }
   ],
   "source": [
    "print(type(df))"
   ]
  },
  {
   "cell_type": "code",
   "execution_count": 11,
   "id": "7d98664a-d64b-4470-acae-8cd7ffe8199f",
   "metadata": {},
   "outputs": [
    {
     "data": {
      "text/plain": [
       "['Date', 'Open', 'High', 'Low', 'Close', 'Adj Close', 'Volume']"
      ]
     },
     "execution_count": 11,
     "metadata": {},
     "output_type": "execute_result"
    }
   ],
   "source": [
    "df.columns"
   ]
  },
  {
   "cell_type": "code",
   "execution_count": 12,
   "id": "b40016da-2f5f-4a99-8b6d-759377d42172",
   "metadata": {},
   "outputs": [
    {
     "name": "stdout",
     "output_type": "stream",
     "text": [
      "root\n",
      " |-- Date: date (nullable = true)\n",
      " |-- Open: double (nullable = true)\n",
      " |-- High: double (nullable = true)\n",
      " |-- Low: double (nullable = true)\n",
      " |-- Close: double (nullable = true)\n",
      " |-- Adj Close: double (nullable = true)\n",
      " |-- Volume: integer (nullable = true)\n",
      "\n"
     ]
    }
   ],
   "source": [
    "df.printSchema()"
   ]
  },
  {
   "cell_type": "code",
   "execution_count": 14,
   "id": "5a9c1e52-bcc0-4db5-ba68-a6fbcbc58489",
   "metadata": {},
   "outputs": [
    {
     "name": "stderr",
     "output_type": "stream",
     "text": [
      "23/10/26 22:08:27 WARN package: Truncated the string representation of a plan since it was too large. This behavior can be adjusted by setting 'spark.sql.debug.maxToStringFields'.\n"
     ]
    },
    {
     "name": "stdout",
     "output_type": "stream",
     "text": [
      "+-------+----------------+------------------+------------------+------------------+------------------+-----------------+\n",
      "|summary|            Open|              High|               Low|             Close|         Adj Close|           Volume|\n",
      "+-------+----------------+------------------+------------------+------------------+------------------+-----------------+\n",
      "|  count|            1259|              1259|              1259|              1259|              1259|             1259|\n",
      "|   mean|96.5083001715647| 97.33101670611597| 95.74480543367744| 96.54861796902313| 92.42759966243042|8509255.043685464|\n",
      "| stddev|23.3274864439079|23.590538442427473|23.019708825126568|23.292869033013766|25.335281463390604|4760478.447370805|\n",
      "|    min|           60.98|         62.330002|         60.200001|             60.84|         53.990601|          2227400|\n",
      "|    max|      153.600006|        153.660004|        151.660004|        152.789993|        152.233536|         56233000|\n",
      "+-------+----------------+------------------+------------------+------------------+------------------+-----------------+\n",
      "\n"
     ]
    }
   ],
   "source": [
    "df.describe().show()"
   ]
  },
  {
   "cell_type": "code",
   "execution_count": 15,
   "id": "b2794382-0e03-4b80-91b6-f61d824719b6",
   "metadata": {},
   "outputs": [
    {
     "name": "stdout",
     "output_type": "stream",
     "text": [
      "+----------+---------+---------+---------+---------+---------+--------+\n",
      "|      Date|     Open|     High|      Low|    Close|Adj Close|  Volume|\n",
      "+----------+---------+---------+---------+---------+---------+--------+\n",
      "|2016-01-20|61.799999|62.330002|60.200001|    60.84|53.990601|17369100|\n",
      "|2016-01-21|    60.98|62.790001|    60.91|61.880001|54.913509|12089200|\n",
      "|2016-01-22|62.439999|63.259998|62.130001|62.689999|55.632324| 9197500|\n",
      "|2016-01-25|62.779999|    63.82|62.549999|63.450001|56.306763|12823400|\n",
      "|2016-01-26|63.360001|64.470001|63.259998|     64.0|56.794834| 9441200|\n",
      "|2016-01-27|64.099998|    65.18|63.889999|63.950001|56.750477|10214300|\n",
      "|2016-01-28|64.029999|64.510002|    63.43|64.220001| 56.99007|11278300|\n",
      "|2016-01-29|    64.75|66.529999|64.739998|66.360001|58.889149|16439100|\n",
      "|2016-02-01|65.910004|    67.93|65.889999|     67.5| 59.90081|14728400|\n",
      "|2016-02-02|67.300003|67.839996|66.279999|66.860001|59.332867|13585900|\n",
      "|2016-02-03|67.309998|     67.5|    65.07|66.269997| 58.80928|12315600|\n",
      "|2016-02-04|65.760002|66.550003|65.010002|66.419998| 58.94239|12833400|\n",
      "|2016-02-05|66.860001|67.529999|65.879997|     67.0|  59.4571|14196500|\n",
      "|2016-02-08|     66.5|67.150002|65.160004|66.900002|59.368362|20743600|\n",
      "|2016-02-09|65.489998|66.410004|    64.68|65.809998|58.401058|14642400|\n",
      "|2016-02-10|66.190002|66.589996|65.650002|65.790001| 58.38332| 9709300|\n",
      "|2016-02-11|65.019997|65.760002|64.779999|    65.32|57.966228|11186700|\n",
      "|2016-02-12|65.519997|    66.25|64.870003|    66.18|58.729424| 9695500|\n",
      "|2016-02-16|66.610001|66.800003|     65.5|65.900002|58.480934|11360500|\n",
      "|2016-02-17|66.099998|66.610001|65.809998|66.110001|58.667301|12426700|\n",
      "+----------+---------+---------+---------+---------+---------+--------+\n",
      "only showing top 20 rows\n",
      "\n"
     ]
    }
   ],
   "source": [
    "df.filter('Close>60').show()"
   ]
  },
  {
   "cell_type": "code",
   "execution_count": 16,
   "id": "209bb77b-5b81-4ee2-94ad-75497cb7f5f0",
   "metadata": {
    "collapsed": true,
    "jupyter": {
     "outputs_hidden": true
    },
    "tags": []
   },
   "outputs": [
    {
     "name": "stdout",
     "output_type": "stream",
     "text": [
      "+----------+---------+---------+---------+---------+---------+--------+\n",
      "|      Date|     Open|     High|      Low|    Close|Adj Close|  Volume|\n",
      "+----------+---------+---------+---------+---------+---------+--------+\n",
      "|2016-01-20|61.799999|62.330002|60.200001|    60.84|53.990601|17369100|\n",
      "|2016-01-21|    60.98|62.790001|    60.91|61.880001|54.913509|12089200|\n",
      "|2016-01-22|62.439999|63.259998|62.130001|62.689999|55.632324| 9197500|\n",
      "|2016-01-25|62.779999|    63.82|62.549999|63.450001|56.306763|12823400|\n",
      "|2016-01-26|63.360001|64.470001|63.259998|     64.0|56.794834| 9441200|\n",
      "|2016-01-27|64.099998|    65.18|63.889999|63.950001|56.750477|10214300|\n",
      "|2016-01-28|64.029999|64.510002|    63.43|64.220001| 56.99007|11278300|\n",
      "|2016-01-29|    64.75|66.529999|64.739998|66.360001|58.889149|16439100|\n",
      "|2016-02-01|65.910004|    67.93|65.889999|     67.5| 59.90081|14728400|\n",
      "|2016-02-02|67.300003|67.839996|66.279999|66.860001|59.332867|13585900|\n",
      "|2016-02-03|67.309998|     67.5|    65.07|66.269997| 58.80928|12315600|\n",
      "|2016-02-04|65.760002|66.550003|65.010002|66.419998| 58.94239|12833400|\n",
      "|2016-02-05|66.860001|67.529999|65.879997|     67.0|  59.4571|14196500|\n",
      "|2016-02-08|     66.5|67.150002|65.160004|66.900002|59.368362|20743600|\n",
      "|2016-02-09|65.489998|66.410004|    64.68|65.809998|58.401058|14642400|\n",
      "|2016-02-10|66.190002|66.589996|65.650002|65.790001| 58.38332| 9709300|\n",
      "|2016-02-11|65.019997|65.760002|64.779999|    65.32|57.966228|11186700|\n",
      "|2016-02-12|65.519997|    66.25|64.870003|    66.18|58.729424| 9695500|\n",
      "|2016-02-16|66.610001|66.800003|     65.5|65.900002|58.480934|11360500|\n",
      "|2016-02-17|66.099998|66.610001|65.809998|66.110001|58.667301|12426700|\n",
      "+----------+---------+---------+---------+---------+---------+--------+\n",
      "only showing top 20 rows\n",
      "\n"
     ]
    }
   ],
   "source": [
    "df.filter(df['Close']>60).show()"
   ]
  },
  {
   "cell_type": "code",
   "execution_count": 22,
   "id": "409dd4c2-7235-4933-a613-9ce85a8c47a1",
   "metadata": {},
   "outputs": [
    {
     "name": "stdout",
     "output_type": "stream",
     "text": [
      "+----------+---------+---------+---------+---------+---------+--------+\n",
      "|      Date|     Open|     High|      Low|    Close|Adj Close|  Volume|\n",
      "+----------+---------+---------+---------+---------+---------+--------+\n",
      "|2016-01-20|61.799999|62.330002|60.200001|    60.84|53.990601|17369100|\n",
      "|2016-01-21|    60.98|62.790001|    60.91|61.880001|54.913509|12089200|\n",
      "|2016-01-22|62.439999|63.259998|62.130001|62.689999|55.632324| 9197500|\n",
      "|2016-01-25|62.779999|    63.82|62.549999|63.450001|56.306763|12823400|\n",
      "|2016-01-26|63.360001|64.470001|63.259998|     64.0|56.794834| 9441200|\n",
      "|2016-01-27|64.099998|    65.18|63.889999|63.950001|56.750477|10214300|\n",
      "|2016-01-28|64.029999|64.510002|    63.43|64.220001| 56.99007|11278300|\n",
      "|2016-01-29|    64.75|66.529999|64.739998|66.360001|58.889149|16439100|\n",
      "|2016-02-01|65.910004|    67.93|65.889999|     67.5| 59.90081|14728400|\n",
      "|2016-02-02|67.300003|67.839996|66.279999|66.860001|59.332867|13585900|\n",
      "|2016-02-03|67.309998|     67.5|    65.07|66.269997| 58.80928|12315600|\n",
      "|2016-02-04|65.760002|66.550003|65.010002|66.419998| 58.94239|12833400|\n",
      "|2016-02-05|66.860001|67.529999|65.879997|     67.0|  59.4571|14196500|\n",
      "|2016-02-08|     66.5|67.150002|65.160004|66.900002|59.368362|20743600|\n",
      "|2016-02-09|65.489998|66.410004|    64.68|65.809998|58.401058|14642400|\n",
      "|2016-02-10|66.190002|66.589996|65.650002|65.790001| 58.38332| 9709300|\n",
      "|2016-02-11|65.019997|65.760002|64.779999|    65.32|57.966228|11186700|\n",
      "|2016-02-12|65.519997|    66.25|64.870003|    66.18|58.729424| 9695500|\n",
      "|2016-02-16|66.610001|66.800003|     65.5|65.900002|58.480934|11360500|\n",
      "|2016-02-17|66.099998|66.610001|65.809998|66.110001|58.667301|12426700|\n",
      "+----------+---------+---------+---------+---------+---------+--------+\n",
      "only showing top 20 rows\n",
      "\n"
     ]
    }
   ],
   "source": [
    "df.na.df.show()"
   ]
  },
  {
   "cell_type": "code",
   "execution_count": 18,
   "id": "11dd97d4-f194-401c-8be7-6344f8cf76ed",
   "metadata": {},
   "outputs": [],
   "source": [
    "df=df.na.drop(how=\"all\")"
   ]
  },
  {
   "cell_type": "code",
   "execution_count": 25,
   "id": "49fcf434-7911-47e0-88ce-c66eaad6f4ff",
   "metadata": {},
   "outputs": [
    {
     "data": {
      "text/plain": [
       "DataFrame[Date: date, Open: double, High: double, Low: double, Close: double, Adj Close: double, Volume: int]"
      ]
     },
     "execution_count": 25,
     "metadata": {},
     "output_type": "execute_result"
    }
   ],
   "source": [
    "df.na.drop(how=\"all\")"
   ]
  },
  {
   "cell_type": "code",
   "execution_count": 20,
   "id": "6b3e09ec-1af0-40b7-bb6f-692219ad922e",
   "metadata": {},
   "outputs": [
    {
     "name": "stdout",
     "output_type": "stream",
     "text": [
      "+----------+---------+---------+---------+---------+---------+--------+\n",
      "|      Date|     Open|     High|      Low|    Close|Adj Close|  Volume|\n",
      "+----------+---------+---------+---------+---------+---------+--------+\n",
      "|2016-01-20|61.799999|62.330002|60.200001|    60.84|53.990601|17369100|\n",
      "|2016-01-21|    60.98|62.790001|    60.91|61.880001|54.913509|12089200|\n",
      "|2016-01-22|62.439999|63.259998|62.130001|62.689999|55.632324| 9197500|\n",
      "|2016-01-25|62.779999|    63.82|62.549999|63.450001|56.306763|12823400|\n",
      "|2016-01-26|63.360001|64.470001|63.259998|     64.0|56.794834| 9441200|\n",
      "|2016-01-27|64.099998|    65.18|63.889999|63.950001|56.750477|10214300|\n",
      "|2016-01-28|64.029999|64.510002|    63.43|64.220001| 56.99007|11278300|\n",
      "|2016-01-29|    64.75|66.529999|64.739998|66.360001|58.889149|16439100|\n",
      "|2016-02-01|65.910004|    67.93|65.889999|     67.5| 59.90081|14728400|\n",
      "|2016-02-02|67.300003|67.839996|66.279999|66.860001|59.332867|13585900|\n",
      "|2016-02-03|67.309998|     67.5|    65.07|66.269997| 58.80928|12315600|\n",
      "|2016-02-04|65.760002|66.550003|65.010002|66.419998| 58.94239|12833400|\n",
      "|2016-02-05|66.860001|67.529999|65.879997|     67.0|  59.4571|14196500|\n",
      "|2016-02-08|     66.5|67.150002|65.160004|66.900002|59.368362|20743600|\n",
      "|2016-02-09|65.489998|66.410004|    64.68|65.809998|58.401058|14642400|\n",
      "|2016-02-10|66.190002|66.589996|65.650002|65.790001| 58.38332| 9709300|\n",
      "|2016-02-11|65.019997|65.760002|64.779999|    65.32|57.966228|11186700|\n",
      "|2016-02-12|65.519997|    66.25|64.870003|    66.18|58.729424| 9695500|\n",
      "|2016-02-16|66.610001|66.800003|     65.5|65.900002|58.480934|11360500|\n",
      "|2016-02-17|66.099998|66.610001|65.809998|66.110001|58.667301|12426700|\n",
      "+----------+---------+---------+---------+---------+---------+--------+\n",
      "only showing top 20 rows\n",
      "\n"
     ]
    }
   ],
   "source": [
    "df.show()"
   ]
  },
  {
   "cell_type": "code",
   "execution_count": 23,
   "id": "8526adec-f118-4050-a7a0-a1dd3e3f32c3",
   "metadata": {},
   "outputs": [
    {
     "name": "stdout",
     "output_type": "stream",
     "text": [
      "+---------+\n",
      "|     Open|\n",
      "+---------+\n",
      "|61.799999|\n",
      "|    60.98|\n",
      "|62.439999|\n",
      "|62.779999|\n",
      "|63.360001|\n",
      "|64.099998|\n",
      "|64.029999|\n",
      "|    64.75|\n",
      "|65.910004|\n",
      "|67.300003|\n",
      "|67.309998|\n",
      "|65.760002|\n",
      "|66.860001|\n",
      "|     66.5|\n",
      "|65.489998|\n",
      "|66.190002|\n",
      "|65.019997|\n",
      "|65.519997|\n",
      "|66.610001|\n",
      "|66.099998|\n",
      "+---------+\n",
      "only showing top 20 rows\n",
      "\n"
     ]
    }
   ],
   "source": [
    "df.select('Open').show()"
   ]
  },
  {
   "cell_type": "code",
   "execution_count": 24,
   "id": "98d12a10-b26f-40c9-b5ff-a02022942cd2",
   "metadata": {},
   "outputs": [
    {
     "name": "stdout",
     "output_type": "stream",
     "text": [
      "+----------+\n",
      "|      Open|\n",
      "+----------+\n",
      "|     60.98|\n",
      "| 71.309998|\n",
      "| 71.599998|\n",
      "|      74.5|\n",
      "|     70.07|\n",
      "| 70.870003|\n",
      "| 76.080002|\n",
      "| 79.620003|\n",
      "| 96.849998|\n",
      "|     95.57|\n",
      "| 97.940002|\n",
      "|132.589996|\n",
      "|    151.25|\n",
      "| 84.139999|\n",
      "| 95.470001|\n",
      "|107.019997|\n",
      "|123.900002|\n",
      "|      67.0|\n",
      "| 73.730003|\n",
      "| 72.309998|\n",
      "+----------+\n",
      "only showing top 20 rows\n",
      "\n"
     ]
    }
   ],
   "source": [
    "df.select('Open').distinct().show()"
   ]
  },
  {
   "cell_type": "code",
   "execution_count": 26,
   "id": "b5eed16c-6523-4538-b158-19307991a6b4",
   "metadata": {},
   "outputs": [],
   "source": [
    "from pyspark.sql import functions as F"
   ]
  },
  {
   "cell_type": "code",
   "execution_count": 27,
   "id": "c47953f9-e39e-4be2-9e0d-0748dd33dae1",
   "metadata": {},
   "outputs": [
    {
     "name": "stdout",
     "output_type": "stream",
     "text": [
      "+----------+----------+\n",
      "|      Date| sum(Open)|\n",
      "+----------+----------+\n",
      "|2016-03-01| 66.650002|\n",
      "|2017-08-11| 80.730003|\n",
      "|2017-09-11| 79.150002|\n",
      "|2018-08-10| 88.699997|\n",
      "|2019-05-08|    100.25|\n",
      "|2019-06-04|102.610001|\n",
      "|2020-08-24|    132.25|\n",
      "|2016-04-25| 68.550003|\n",
      "|2017-01-06| 68.410004|\n",
      "|2018-06-06| 84.949997|\n",
      "|2019-11-01|117.919998|\n",
      "|2019-11-18|118.449997|\n",
      "|2020-01-21|114.589996|\n",
      "|2020-07-24|130.949997|\n",
      "|2020-08-05|130.449997|\n",
      "|2016-05-03| 66.860001|\n",
      "|2016-07-26| 73.709999|\n",
      "|2016-08-15| 73.809998|\n",
      "|2016-08-31| 71.459999|\n",
      "|2016-10-03| 71.830002|\n",
      "+----------+----------+\n",
      "only showing top 20 rows\n",
      "\n"
     ]
    }
   ],
   "source": [
    "df.groupBy(\"Date\").agg(F.sum(\"Open\")).show()"
   ]
  },
  {
   "cell_type": "code",
   "execution_count": 28,
   "id": "5fe783ff-fcdb-4325-99c0-527549c82eb9",
   "metadata": {},
   "outputs": [],
   "source": [
    "df.write.csv(\"output\")"
   ]
  },
  {
   "cell_type": "code",
   "execution_count": null,
   "id": "ce82f103-f970-458b-9832-47968affef1d",
   "metadata": {},
   "outputs": [],
   "source": []
  },
  {
   "cell_type": "code",
   "execution_count": null,
   "id": "fac8833f-b12a-49b0-9dec-43da3e976e86",
   "metadata": {},
   "outputs": [],
   "source": []
  },
  {
   "cell_type": "code",
   "execution_count": null,
   "id": "292721e7-ffcf-400f-9e83-a6bb5657f796",
   "metadata": {},
   "outputs": [],
   "source": []
  },
  {
   "cell_type": "code",
   "execution_count": 29,
   "id": "2ee19515-1f0a-423a-b350-fea1545c3f8b",
   "metadata": {},
   "outputs": [],
   "source": [
    "from pyspark import SparkContext"
   ]
  },
  {
   "cell_type": "code",
   "execution_count": 30,
   "id": "8d57fa09-578a-4417-aa72-f9522d996a8f",
   "metadata": {},
   "outputs": [],
   "source": [
    "sc=SparkContext.getOrCreate()"
   ]
  },
  {
   "cell_type": "code",
   "execution_count": 31,
   "id": "b6a05c62-4b60-425d-b981-6a36138fc6a4",
   "metadata": {},
   "outputs": [
    {
     "name": "stdout",
     "output_type": "stream",
     "text": [
      "<class 'pyspark.rdd.RDD'>\n"
     ]
    }
   ],
   "source": [
    "rdd_obj=df.rdd\n",
    "print(type(rdd_obj))"
   ]
  },
  {
   "cell_type": "code",
   "execution_count": 32,
   "id": "36cc15a3-3595-4cca-941b-74b024091bc2",
   "metadata": {},
   "outputs": [
    {
     "data": {
      "text/plain": [
       "1"
      ]
     },
     "execution_count": 32,
     "metadata": {},
     "output_type": "execute_result"
    }
   ],
   "source": [
    "rdd_obj.getNumPartitions()"
   ]
  },
  {
   "cell_type": "code",
   "execution_count": 34,
   "id": "9945cec7-243a-4db9-a788-41da0440c329",
   "metadata": {},
   "outputs": [
    {
     "name": "stdout",
     "output_type": "stream",
     "text": [
      "5\n"
     ]
    }
   ],
   "source": [
    "new_rdd=rdd_obj.repartition(5)\n",
    "print(new_rdd.getNumPartitions())"
   ]
  },
  {
   "cell_type": "code",
   "execution_count": 35,
   "id": "55c31ae3-7cb2-4d27-ba72-a55cb400bb62",
   "metadata": {},
   "outputs": [],
   "source": [
    "numbers = list(range(1000000))"
   ]
  },
  {
   "cell_type": "code",
   "execution_count": 36,
   "id": "c048c4ff-be7f-4b1a-a325-240f34ab37eb",
   "metadata": {},
   "outputs": [
    {
     "name": "stdout",
     "output_type": "stream",
     "text": [
      "CPU times: user 1 µs, sys: 1 µs, total: 2 µs\n",
      "Wall time: 7.87 µs\n"
     ]
    }
   ],
   "source": [
    "%time\n",
    "res=filter(lambda i: i % 2,numbers)"
   ]
  },
  {
   "cell_type": "code",
   "execution_count": 37,
   "id": "9aaa7622-4266-47ab-87cd-dec901c347f9",
   "metadata": {},
   "outputs": [
    {
     "name": "stdout",
     "output_type": "stream",
     "text": [
      "8\n"
     ]
    }
   ],
   "source": [
    "RDD_example = sc.parallelize(numbers)\n",
    "print(RDD_example.getNumPartitions())"
   ]
  },
  {
   "cell_type": "code",
   "execution_count": 42,
   "id": "7c2f94be-0c5a-488e-9f87-7efdbe34cdd8",
   "metadata": {},
   "outputs": [
    {
     "name": "stdout",
     "output_type": "stream",
     "text": [
      "CPU times: user 3 µs, sys: 2 µs, total: 5 µs\n",
      "Wall time: 12.2 µs\n"
     ]
    }
   ],
   "source": [
    "%time\n",
    "o = RDD_example.filter(lambda i: i % 2)"
   ]
  },
  {
   "cell_type": "code",
   "execution_count": null,
   "id": "a0fc6fec-89ea-4e12-9797-017ace78e174",
   "metadata": {},
   "outputs": [],
   "source": []
  }
 ],
 "metadata": {
  "kernelspec": {
   "display_name": "Python 3 (ipykernel)",
   "language": "python",
   "name": "python3"
  },
  "language_info": {
   "codemirror_mode": {
    "name": "ipython",
    "version": 3
   },
   "file_extension": ".py",
   "mimetype": "text/x-python",
   "name": "python",
   "nbconvert_exporter": "python",
   "pygments_lexer": "ipython3",
   "version": "3.9.12"
  }
 },
 "nbformat": 4,
 "nbformat_minor": 5
}
