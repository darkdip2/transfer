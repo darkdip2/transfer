{
 "cells": [
  {
   "cell_type": "code",
   "execution_count": 1,
   "id": "8ef9f591-6e79-461e-bdb5-b880aef160fe",
   "metadata": {},
   "outputs": [],
   "source": [
    "import pandas as pd\n",
    "import numpy as np"
   ]
  },
  {
   "cell_type": "code",
   "execution_count": 3,
   "id": "4e07ff2c-dcfa-4d43-8ff0-def66d5bf2e4",
   "metadata": {},
   "outputs": [
    {
     "data": {
      "text/html": [
       "<div>\n",
       "<style scoped>\n",
       "    .dataframe tbody tr th:only-of-type {\n",
       "        vertical-align: middle;\n",
       "    }\n",
       "\n",
       "    .dataframe tbody tr th {\n",
       "        vertical-align: top;\n",
       "    }\n",
       "\n",
       "    .dataframe thead th {\n",
       "        text-align: right;\n",
       "    }\n",
       "</style>\n",
       "<table border=\"1\" class=\"dataframe\">\n",
       "  <thead>\n",
       "    <tr style=\"text-align: right;\">\n",
       "      <th></th>\n",
       "      <th>Loan_ID</th>\n",
       "      <th>Gender</th>\n",
       "      <th>Married</th>\n",
       "      <th>Dependents</th>\n",
       "      <th>Education</th>\n",
       "      <th>Self_Employed</th>\n",
       "      <th>ApplicantIncome</th>\n",
       "      <th>CoapplicantIncome</th>\n",
       "      <th>LoanAmount</th>\n",
       "      <th>Loan_Amount_Term</th>\n",
       "      <th>Credit_History</th>\n",
       "      <th>Property_Area</th>\n",
       "      <th>Loan_Status</th>\n",
       "    </tr>\n",
       "  </thead>\n",
       "  <tbody>\n",
       "    <tr>\n",
       "      <th>0</th>\n",
       "      <td>LP002529</td>\n",
       "      <td>Male</td>\n",
       "      <td>Yes</td>\n",
       "      <td>2</td>\n",
       "      <td>Graduate</td>\n",
       "      <td>No</td>\n",
       "      <td>6700</td>\n",
       "      <td>1750.0</td>\n",
       "      <td>230.0</td>\n",
       "      <td>300.0</td>\n",
       "      <td>1.0</td>\n",
       "      <td>Semiurban</td>\n",
       "      <td>Y</td>\n",
       "    </tr>\n",
       "    <tr>\n",
       "      <th>1</th>\n",
       "      <td>LP001385</td>\n",
       "      <td>Male</td>\n",
       "      <td>No</td>\n",
       "      <td>0</td>\n",
       "      <td>Graduate</td>\n",
       "      <td>No</td>\n",
       "      <td>5316</td>\n",
       "      <td>0.0</td>\n",
       "      <td>136.0</td>\n",
       "      <td>360.0</td>\n",
       "      <td>1.0</td>\n",
       "      <td>Urban</td>\n",
       "      <td>Y</td>\n",
       "    </tr>\n",
       "    <tr>\n",
       "      <th>2</th>\n",
       "      <td>LP001926</td>\n",
       "      <td>Male</td>\n",
       "      <td>Yes</td>\n",
       "      <td>0</td>\n",
       "      <td>Graduate</td>\n",
       "      <td>No</td>\n",
       "      <td>3704</td>\n",
       "      <td>2000.0</td>\n",
       "      <td>120.0</td>\n",
       "      <td>360.0</td>\n",
       "      <td>1.0</td>\n",
       "      <td>Rural</td>\n",
       "      <td>Y</td>\n",
       "    </tr>\n",
       "    <tr>\n",
       "      <th>3</th>\n",
       "      <td>LP001144</td>\n",
       "      <td>Male</td>\n",
       "      <td>Yes</td>\n",
       "      <td>0</td>\n",
       "      <td>Graduate</td>\n",
       "      <td>No</td>\n",
       "      <td>5821</td>\n",
       "      <td>0.0</td>\n",
       "      <td>144.0</td>\n",
       "      <td>360.0</td>\n",
       "      <td>1.0</td>\n",
       "      <td>Urban</td>\n",
       "      <td>Y</td>\n",
       "    </tr>\n",
       "    <tr>\n",
       "      <th>4</th>\n",
       "      <td>LP002562</td>\n",
       "      <td>Male</td>\n",
       "      <td>Yes</td>\n",
       "      <td>1</td>\n",
       "      <td>Not Graduate</td>\n",
       "      <td>No</td>\n",
       "      <td>5333</td>\n",
       "      <td>1131.0</td>\n",
       "      <td>186.0</td>\n",
       "      <td>360.0</td>\n",
       "      <td>NaN</td>\n",
       "      <td>Urban</td>\n",
       "      <td>Y</td>\n",
       "    </tr>\n",
       "  </tbody>\n",
       "</table>\n",
       "</div>"
      ],
      "text/plain": [
       "    Loan_ID Gender Married Dependents     Education Self_Employed  \\\n",
       "0  LP002529   Male     Yes          2      Graduate            No   \n",
       "1  LP001385   Male      No          0      Graduate            No   \n",
       "2  LP001926   Male     Yes          0      Graduate            No   \n",
       "3  LP001144   Male     Yes          0      Graduate            No   \n",
       "4  LP002562   Male     Yes          1  Not Graduate            No   \n",
       "\n",
       "   ApplicantIncome  CoapplicantIncome  LoanAmount  Loan_Amount_Term  \\\n",
       "0             6700             1750.0       230.0             300.0   \n",
       "1             5316                0.0       136.0             360.0   \n",
       "2             3704             2000.0       120.0             360.0   \n",
       "3             5821                0.0       144.0             360.0   \n",
       "4             5333             1131.0       186.0             360.0   \n",
       "\n",
       "   Credit_History Property_Area Loan_Status  \n",
       "0             1.0     Semiurban           Y  \n",
       "1             1.0         Urban           Y  \n",
       "2             1.0         Rural           Y  \n",
       "3             1.0         Urban           Y  \n",
       "4             NaN         Urban           Y  "
      ]
     },
     "execution_count": 3,
     "metadata": {},
     "output_type": "execute_result"
    }
   ],
   "source": [
    "train_df = pd.read_csv('data.csv') \n",
    "train_df.head()"
   ]
  },
  {
   "cell_type": "code",
   "execution_count": 4,
   "id": "5b705508-7b9d-4c63-8d20-162b3754c116",
   "metadata": {},
   "outputs": [
    {
     "name": "stdout",
     "output_type": "stream",
     "text": [
      "<class 'pandas.core.frame.DataFrame'>\n",
      "RangeIndex: 430 entries, 0 to 429\n",
      "Data columns (total 13 columns):\n",
      " #   Column             Non-Null Count  Dtype  \n",
      "---  ------             --------------  -----  \n",
      " 0   Loan_ID            430 non-null    object \n",
      " 1   Gender             420 non-null    object \n",
      " 2   Married            427 non-null    object \n",
      " 3   Dependents         416 non-null    object \n",
      " 4   Education          430 non-null    object \n",
      " 5   Self_Employed      410 non-null    object \n",
      " 6   ApplicantIncome    430 non-null    int64  \n",
      " 7   CoapplicantIncome  430 non-null    float64\n",
      " 8   LoanAmount         414 non-null    float64\n",
      " 9   Loan_Amount_Term   422 non-null    float64\n",
      " 10  Credit_History     394 non-null    float64\n",
      " 11  Property_Area      430 non-null    object \n",
      " 12  Loan_Status        430 non-null    object \n",
      "dtypes: float64(4), int64(1), object(8)\n",
      "memory usage: 43.8+ KB\n"
     ]
    }
   ],
   "source": [
    "train_df.info()"
   ]
  },
  {
   "cell_type": "code",
   "execution_count": 5,
   "id": "1c77bee2-b5f4-45ca-ac6f-b936cfa79d70",
   "metadata": {},
   "outputs": [],
   "source": [
    "# encoding\n",
    "train_df['Gender']= train_df['Gender'].map({'Male':0, 'Female':1})\n",
    "train_df['Married']= train_df['Married'].map({'No':0, 'Yes':1})\n",
    "train_df['Loan_Status']= train_df['Loan_Status'].map({'N':0, 'Y':1})"
   ]
  },
  {
   "cell_type": "code",
   "execution_count": 7,
   "id": "355a454d-65c9-4e3e-b7ba-264b3da43140",
   "metadata": {},
   "outputs": [],
   "source": [
    "# remove nulll values\n",
    "\n",
    "# train_df.isnull().sum()\n",
    "train_df = train_df.dropna()"
   ]
  },
  {
   "cell_type": "code",
   "execution_count": 8,
   "id": "e51b1e69-1616-4ca4-867b-d6910a828cb1",
   "metadata": {},
   "outputs": [],
   "source": [
    "## choosing columns\n",
    "X = train_df[['Gender', 'Married', 'ApplicantIncome', 'LoanAmount', 'Credit_History']]\n",
    "y = train_df.Loan_Status"
   ]
  },
  {
   "cell_type": "code",
   "execution_count": 9,
   "id": "fb321f4c-eb8d-455b-a560-b5b40ed1414f",
   "metadata": {},
   "outputs": [],
   "source": [
    "## train test split\n",
    "from sklearn.model_selection import train_test_split\n",
    "\n",
    "X_train, X_val, y_train, y_val = train_test_split(X, y, test_size=0.2, random_state=5)"
   ]
  },
  {
   "cell_type": "code",
   "execution_count": 10,
   "id": "a3bafdc0-7237-48e3-add5-d213ee2ff7bc",
   "metadata": {},
   "outputs": [
    {
     "data": {
      "text/html": [
       "<style>#sk-container-id-1 {color: black;background-color: white;}#sk-container-id-1 pre{padding: 0;}#sk-container-id-1 div.sk-toggleable {background-color: white;}#sk-container-id-1 label.sk-toggleable__label {cursor: pointer;display: block;width: 100%;margin-bottom: 0;padding: 0.3em;box-sizing: border-box;text-align: center;}#sk-container-id-1 label.sk-toggleable__label-arrow:before {content: \"▸\";float: left;margin-right: 0.25em;color: #696969;}#sk-container-id-1 label.sk-toggleable__label-arrow:hover:before {color: black;}#sk-container-id-1 div.sk-estimator:hover label.sk-toggleable__label-arrow:before {color: black;}#sk-container-id-1 div.sk-toggleable__content {max-height: 0;max-width: 0;overflow: hidden;text-align: left;background-color: #f0f8ff;}#sk-container-id-1 div.sk-toggleable__content pre {margin: 0.2em;color: black;border-radius: 0.25em;background-color: #f0f8ff;}#sk-container-id-1 input.sk-toggleable__control:checked~div.sk-toggleable__content {max-height: 200px;max-width: 100%;overflow: auto;}#sk-container-id-1 input.sk-toggleable__control:checked~label.sk-toggleable__label-arrow:before {content: \"▾\";}#sk-container-id-1 div.sk-estimator input.sk-toggleable__control:checked~label.sk-toggleable__label {background-color: #d4ebff;}#sk-container-id-1 div.sk-label input.sk-toggleable__control:checked~label.sk-toggleable__label {background-color: #d4ebff;}#sk-container-id-1 input.sk-hidden--visually {border: 0;clip: rect(1px 1px 1px 1px);clip: rect(1px, 1px, 1px, 1px);height: 1px;margin: -1px;overflow: hidden;padding: 0;position: absolute;width: 1px;}#sk-container-id-1 div.sk-estimator {font-family: monospace;background-color: #f0f8ff;border: 1px dotted black;border-radius: 0.25em;box-sizing: border-box;margin-bottom: 0.5em;}#sk-container-id-1 div.sk-estimator:hover {background-color: #d4ebff;}#sk-container-id-1 div.sk-parallel-item::after {content: \"\";width: 100%;border-bottom: 1px solid gray;flex-grow: 1;}#sk-container-id-1 div.sk-label:hover label.sk-toggleable__label {background-color: #d4ebff;}#sk-container-id-1 div.sk-serial::before {content: \"\";position: absolute;border-left: 1px solid gray;box-sizing: border-box;top: 0;bottom: 0;left: 50%;z-index: 0;}#sk-container-id-1 div.sk-serial {display: flex;flex-direction: column;align-items: center;background-color: white;padding-right: 0.2em;padding-left: 0.2em;position: relative;}#sk-container-id-1 div.sk-item {position: relative;z-index: 1;}#sk-container-id-1 div.sk-parallel {display: flex;align-items: stretch;justify-content: center;background-color: white;position: relative;}#sk-container-id-1 div.sk-item::before, #sk-container-id-1 div.sk-parallel-item::before {content: \"\";position: absolute;border-left: 1px solid gray;box-sizing: border-box;top: 0;bottom: 0;left: 50%;z-index: -1;}#sk-container-id-1 div.sk-parallel-item {display: flex;flex-direction: column;z-index: 1;position: relative;background-color: white;}#sk-container-id-1 div.sk-parallel-item:first-child::after {align-self: flex-end;width: 50%;}#sk-container-id-1 div.sk-parallel-item:last-child::after {align-self: flex-start;width: 50%;}#sk-container-id-1 div.sk-parallel-item:only-child::after {width: 0;}#sk-container-id-1 div.sk-dashed-wrapped {border: 1px dashed gray;margin: 0 0.4em 0.5em 0.4em;box-sizing: border-box;padding-bottom: 0.4em;background-color: white;}#sk-container-id-1 div.sk-label label {font-family: monospace;font-weight: bold;display: inline-block;line-height: 1.2em;}#sk-container-id-1 div.sk-label-container {text-align: center;}#sk-container-id-1 div.sk-container {/* jupyter's `normalize.less` sets `[hidden] { display: none; }` but bootstrap.min.css set `[hidden] { display: none !important; }` so we also need the `!important` here to be able to override the default hidden behavior on the sphinx rendered scikit-learn.org. See: https://github.com/scikit-learn/scikit-learn/issues/21755 */display: inline-block !important;position: relative;}#sk-container-id-1 div.sk-text-repr-fallback {display: none;}</style><div id=\"sk-container-id-1\" class=\"sk-top-container\"><div class=\"sk-text-repr-fallback\"><pre>RandomForestClassifier(max_depth=4, random_state=5)</pre><b>In a Jupyter environment, please rerun this cell to show the HTML representation or trust the notebook. <br />On GitHub, the HTML representation is unable to render, please try loading this page with nbviewer.org.</b></div><div class=\"sk-container\" hidden><div class=\"sk-item\"><div class=\"sk-estimator sk-toggleable\"><input class=\"sk-toggleable__control sk-hidden--visually\" id=\"sk-estimator-id-1\" type=\"checkbox\" checked><label for=\"sk-estimator-id-1\" class=\"sk-toggleable__label sk-toggleable__label-arrow\">RandomForestClassifier</label><div class=\"sk-toggleable__content\"><pre>RandomForestClassifier(max_depth=4, random_state=5)</pre></div></div></div></div></div>"
      ],
      "text/plain": [
       "RandomForestClassifier(max_depth=4, random_state=5)"
      ]
     },
     "execution_count": 10,
     "metadata": {},
     "output_type": "execute_result"
    }
   ],
   "source": [
    "## training a model\n",
    "from sklearn.ensemble import RandomForestClassifier\n",
    "\n",
    "model = RandomForestClassifier(max_depth=4, random_state=5)\n",
    "model.fit(X_train, y_train)\n"
   ]
  },
  {
   "cell_type": "code",
   "execution_count": 11,
   "id": "c6564a58-1a6f-45ff-805b-e921e287b760",
   "metadata": {},
   "outputs": [
    {
     "data": {
      "text/plain": [
       "0.7313432835820896"
      ]
     },
     "execution_count": 11,
     "metadata": {},
     "output_type": "execute_result"
    }
   ],
   "source": [
    "\n",
    "from sklearn.metrics import accuracy_score\n",
    "\n",
    "pred_val = model.predict(X_val)\n",
    "accuracy_score(y_val, pred_val)"
   ]
  },
  {
   "cell_type": "code",
   "execution_count": 14,
   "id": "2e8b2402-2442-49de-899d-426f1cd3669b",
   "metadata": {},
   "outputs": [
    {
     "data": {
      "text/plain": [
       "0.8134328358208955"
      ]
     },
     "execution_count": 14,
     "metadata": {},
     "output_type": "execute_result"
    }
   ],
   "source": [
    "pred_train = model.predict(X_train)\n",
    "accuracy_score(y_train, pred_train)"
   ]
  },
  {
   "cell_type": "code",
   "execution_count": null,
   "id": "a9516141-071f-446d-a5a0-0ce3d2504c48",
   "metadata": {},
   "outputs": [],
   "source": []
  },
  {
   "cell_type": "code",
   "execution_count": 15,
   "id": "638600c5-0891-4b96-aad7-e99903212651",
   "metadata": {
    "collapsed": true,
    "jupyter": {
     "outputs_hidden": true
    },
    "tags": []
   },
   "outputs": [
    {
     "name": "stdout",
     "output_type": "stream",
     "text": [
      "Requirement already satisfied: mlflow in /Users/architsharma/miniconda3/envs/tf/lib/python3.9/site-packages (2.6.0)\n",
      "Requirement already satisfied: click<9,>=7.0 in /Users/architsharma/miniconda3/envs/tf/lib/python3.9/site-packages (from mlflow) (8.0.4)\n",
      "Requirement already satisfied: cloudpickle<3 in /Users/architsharma/miniconda3/envs/tf/lib/python3.9/site-packages (from mlflow) (2.2.1)\n",
      "Requirement already satisfied: databricks-cli<1,>=0.8.7 in /Users/architsharma/miniconda3/envs/tf/lib/python3.9/site-packages (from mlflow) (0.17.7)\n",
      "Requirement already satisfied: entrypoints<1 in /Users/architsharma/miniconda3/envs/tf/lib/python3.9/site-packages (from mlflow) (0.4)\n",
      "Requirement already satisfied: gitpython<4,>=2.1.0 in /Users/architsharma/miniconda3/envs/tf/lib/python3.9/site-packages (from mlflow) (3.1.32)\n",
      "Requirement already satisfied: pyyaml<7,>=5.1 in /Users/architsharma/miniconda3/envs/tf/lib/python3.9/site-packages (from mlflow) (6.0)\n",
      "Requirement already satisfied: protobuf<5,>=3.12.0 in /Users/architsharma/miniconda3/envs/tf/lib/python3.9/site-packages (from mlflow) (3.20.3)\n",
      "Requirement already satisfied: pytz<2024 in /Users/architsharma/miniconda3/envs/tf/lib/python3.9/site-packages (from mlflow) (2023.3)\n",
      "Requirement already satisfied: requests<3,>=2.17.3 in /Users/architsharma/miniconda3/envs/tf/lib/python3.9/site-packages (from mlflow) (2.31.0)\n",
      "Requirement already satisfied: packaging<24 in /Users/architsharma/miniconda3/envs/tf/lib/python3.9/site-packages (from mlflow) (23.1)\n",
      "Requirement already satisfied: importlib-metadata!=4.7.0,<7,>=3.7.0 in /Users/architsharma/miniconda3/envs/tf/lib/python3.9/site-packages (from mlflow) (6.1.0)\n",
      "Requirement already satisfied: sqlparse<1,>=0.4.0 in /Users/architsharma/miniconda3/envs/tf/lib/python3.9/site-packages (from mlflow) (0.4.4)\n",
      "Requirement already satisfied: alembic!=1.10.0,<2 in /Users/architsharma/miniconda3/envs/tf/lib/python3.9/site-packages (from mlflow) (1.12.0)\n",
      "Requirement already satisfied: docker<7,>=4.0.0 in /Users/architsharma/miniconda3/envs/tf/lib/python3.9/site-packages (from mlflow) (6.1.3)\n",
      "Requirement already satisfied: Flask<3 in /Users/architsharma/miniconda3/envs/tf/lib/python3.9/site-packages (from mlflow) (2.3.2)\n",
      "Requirement already satisfied: numpy<2 in /Users/architsharma/miniconda3/envs/tf/lib/python3.9/site-packages (from mlflow) (1.22.4)\n",
      "Requirement already satisfied: scipy<2 in /Users/architsharma/miniconda3/envs/tf/lib/python3.9/site-packages (from mlflow) (1.10.1)\n",
      "Requirement already satisfied: pandas<3 in /Users/architsharma/miniconda3/envs/tf/lib/python3.9/site-packages (from mlflow) (1.5.3)\n",
      "Requirement already satisfied: querystring-parser<2 in /Users/architsharma/miniconda3/envs/tf/lib/python3.9/site-packages (from mlflow) (1.2.4)\n",
      "Requirement already satisfied: sqlalchemy<3,>=1.4.0 in /Users/architsharma/miniconda3/envs/tf/lib/python3.9/site-packages (from mlflow) (1.4.41)\n",
      "Requirement already satisfied: scikit-learn<2 in /Users/architsharma/miniconda3/envs/tf/lib/python3.9/site-packages (from mlflow) (1.2.2)\n",
      "Requirement already satisfied: pyarrow<13,>=4.0.0 in /Users/architsharma/miniconda3/envs/tf/lib/python3.9/site-packages (from mlflow) (12.0.1)\n",
      "Requirement already satisfied: markdown<4,>=3.3 in /Users/architsharma/miniconda3/envs/tf/lib/python3.9/site-packages (from mlflow) (3.3.7)\n",
      "Requirement already satisfied: matplotlib<4 in /Users/architsharma/miniconda3/envs/tf/lib/python3.9/site-packages (from mlflow) (3.7.1)\n",
      "Requirement already satisfied: gunicorn<22 in /Users/architsharma/miniconda3/envs/tf/lib/python3.9/site-packages (from mlflow) (20.1.0)\n",
      "Requirement already satisfied: Jinja2<4,>=2.11 in /Users/architsharma/miniconda3/envs/tf/lib/python3.9/site-packages (from mlflow) (3.1.2)\n",
      "Requirement already satisfied: Mako in /Users/architsharma/miniconda3/envs/tf/lib/python3.9/site-packages (from alembic!=1.10.0,<2->mlflow) (1.2.4)\n",
      "Requirement already satisfied: typing-extensions>=4 in /Users/architsharma/miniconda3/envs/tf/lib/python3.9/site-packages (from alembic!=1.10.0,<2->mlflow) (4.5.0)\n",
      "Requirement already satisfied: pyjwt>=1.7.0 in /Users/architsharma/miniconda3/envs/tf/lib/python3.9/site-packages (from databricks-cli<1,>=0.8.7->mlflow) (2.8.0)\n",
      "Requirement already satisfied: oauthlib>=3.1.0 in /Users/architsharma/miniconda3/envs/tf/lib/python3.9/site-packages (from databricks-cli<1,>=0.8.7->mlflow) (3.2.0)\n",
      "Requirement already satisfied: tabulate>=0.7.7 in /Users/architsharma/miniconda3/envs/tf/lib/python3.9/site-packages (from databricks-cli<1,>=0.8.7->mlflow) (0.9.0)\n",
      "Requirement already satisfied: six>=1.10.0 in /Users/architsharma/miniconda3/envs/tf/lib/python3.9/site-packages (from databricks-cli<1,>=0.8.7->mlflow) (1.15.0)\n",
      "Requirement already satisfied: urllib3<2.0.0,>=1.26.7 in /Users/architsharma/miniconda3/envs/tf/lib/python3.9/site-packages (from databricks-cli<1,>=0.8.7->mlflow) (1.26.16)\n",
      "Requirement already satisfied: websocket-client>=0.32.0 in /Users/architsharma/miniconda3/envs/tf/lib/python3.9/site-packages (from docker<7,>=4.0.0->mlflow) (1.3.2)\n",
      "Requirement already satisfied: Werkzeug>=2.3.3 in /Users/architsharma/miniconda3/envs/tf/lib/python3.9/site-packages (from Flask<3->mlflow) (2.3.7)\n",
      "Requirement already satisfied: itsdangerous>=2.1.2 in /Users/architsharma/miniconda3/envs/tf/lib/python3.9/site-packages (from Flask<3->mlflow) (2.1.2)\n",
      "Collecting click<9,>=7.0 (from mlflow)\n",
      "  Obtaining dependency information for click<9,>=7.0 from https://files.pythonhosted.org/packages/00/2e/d53fa4befbf2cfa713304affc7ca780ce4fc1fd8710527771b58311a3229/click-8.1.7-py3-none-any.whl.metadata\n",
      "  Downloading click-8.1.7-py3-none-any.whl.metadata (3.0 kB)\n",
      "Requirement already satisfied: blinker>=1.6.2 in /Users/architsharma/miniconda3/envs/tf/lib/python3.9/site-packages (from Flask<3->mlflow) (1.6.2)\n",
      "Requirement already satisfied: gitdb<5,>=4.0.1 in /Users/architsharma/miniconda3/envs/tf/lib/python3.9/site-packages (from gitpython<4,>=2.1.0->mlflow) (4.0.10)\n",
      "Requirement already satisfied: setuptools>=3.0 in /Users/architsharma/miniconda3/envs/tf/lib/python3.9/site-packages (from gunicorn<22->mlflow) (68.1.2)\n",
      "Requirement already satisfied: zipp>=0.5 in /Users/architsharma/miniconda3/envs/tf/lib/python3.9/site-packages (from importlib-metadata!=4.7.0,<7,>=3.7.0->mlflow) (3.8.0)\n",
      "Requirement already satisfied: MarkupSafe>=2.0 in /Users/architsharma/miniconda3/envs/tf/lib/python3.9/site-packages (from Jinja2<4,>=2.11->mlflow) (2.1.1)\n",
      "Requirement already satisfied: contourpy>=1.0.1 in /Users/architsharma/miniconda3/envs/tf/lib/python3.9/site-packages (from matplotlib<4->mlflow) (1.0.7)\n",
      "Requirement already satisfied: cycler>=0.10 in /Users/architsharma/miniconda3/envs/tf/lib/python3.9/site-packages (from matplotlib<4->mlflow) (0.11.0)\n",
      "Requirement already satisfied: fonttools>=4.22.0 in /Users/architsharma/miniconda3/envs/tf/lib/python3.9/site-packages (from matplotlib<4->mlflow) (4.39.3)\n",
      "Requirement already satisfied: kiwisolver>=1.0.1 in /Users/architsharma/miniconda3/envs/tf/lib/python3.9/site-packages (from matplotlib<4->mlflow) (1.3.2)\n",
      "Requirement already satisfied: pillow>=6.2.0 in /Users/architsharma/miniconda3/envs/tf/lib/python3.9/site-packages (from matplotlib<4->mlflow) (9.1.1)\n",
      "Requirement already satisfied: pyparsing>=2.3.1 in /Users/architsharma/miniconda3/envs/tf/lib/python3.9/site-packages (from matplotlib<4->mlflow) (3.0.9)\n",
      "Requirement already satisfied: python-dateutil>=2.7 in /Users/architsharma/miniconda3/envs/tf/lib/python3.9/site-packages (from matplotlib<4->mlflow) (2.8.2)\n",
      "Requirement already satisfied: importlib-resources>=3.2.0 in /Users/architsharma/miniconda3/envs/tf/lib/python3.9/site-packages (from matplotlib<4->mlflow) (5.8.0)\n",
      "Requirement already satisfied: charset-normalizer<4,>=2 in /Users/architsharma/miniconda3/envs/tf/lib/python3.9/site-packages (from requests<3,>=2.17.3->mlflow) (2.0.12)\n",
      "Requirement already satisfied: idna<4,>=2.5 in /Users/architsharma/miniconda3/envs/tf/lib/python3.9/site-packages (from requests<3,>=2.17.3->mlflow) (2.10)\n",
      "Requirement already satisfied: certifi>=2017.4.17 in /Users/architsharma/miniconda3/envs/tf/lib/python3.9/site-packages (from requests<3,>=2.17.3->mlflow) (2023.5.7)\n",
      "Requirement already satisfied: joblib>=1.1.1 in /Users/architsharma/miniconda3/envs/tf/lib/python3.9/site-packages (from scikit-learn<2->mlflow) (1.2.0)\n",
      "Requirement already satisfied: threadpoolctl>=2.0.0 in /Users/architsharma/miniconda3/envs/tf/lib/python3.9/site-packages (from scikit-learn<2->mlflow) (3.1.0)\n",
      "Requirement already satisfied: smmap<6,>=3.0.1 in /Users/architsharma/miniconda3/envs/tf/lib/python3.9/site-packages (from gitdb<5,>=4.0.1->gitpython<4,>=2.1.0->mlflow) (5.0.0)\n",
      "Using cached click-8.1.7-py3-none-any.whl (97 kB)\n",
      "\u001b[33mDEPRECATION: omegaconf 2.0.6 has a non-standard dependency specifier PyYAML>=5.1.*. pip 23.3 will enforce this behaviour change. A possible replacement is to upgrade to a newer version of omegaconf or contact the author to suggest that they release a version with a conforming dependency specifiers. Discussion can be found at https://github.com/pypa/pip/issues/12063\u001b[0m\u001b[33m\n",
      "\u001b[0mInstalling collected packages: click\n",
      "  Attempting uninstall: click\n",
      "    Found existing installation: click 8.0.4\n",
      "    Uninstalling click-8.0.4:\n",
      "      Successfully uninstalled click-8.0.4\n",
      "\u001b[31mERROR: pip's dependency resolver does not currently take into account all the packages that are installed. This behaviour is the source of the following dependency conflicts.\n",
      "flask-caching 2.0.2 requires cachelib<0.10.0,>=0.9.0, but you have cachelib 0.10.2 which is incompatible.\n",
      "streamlit 1.9.0 requires click<8.1,>=7.0, but you have click 8.1.7 which is incompatible.\u001b[0m\u001b[31m\n",
      "\u001b[0mSuccessfully installed click-8.1.7\n"
     ]
    }
   ],
   "source": [
    "! pip install mlflow"
   ]
  },
  {
   "cell_type": "code",
   "execution_count": 16,
   "id": "9154eb0a-8e6a-440c-b3aa-b9bc2710778b",
   "metadata": {},
   "outputs": [],
   "source": [
    "import mlflow"
   ]
  },
  {
   "cell_type": "code",
   "execution_count": 18,
   "id": "6bd42fc6-2465-4470-a035-ce5907ad36a7",
   "metadata": {},
   "outputs": [],
   "source": [
    "mlflow.set_experiment(\"Loan Status for banks\")\n",
    "\n",
    "with mlflow.start_run():\n",
    "    max_depth=5\n",
    "    from sklearn.ensemble import RandomForestClassifier\n",
    "    model = RandomForestClassifier(max_depth=max_depth, random_state=5)\n",
    "    model.fit(X_train, y_train)\n",
    "    from sklearn.metrics import accuracy_score\n",
    "    # train acc\n",
    "    pred_train = model.predict(X_train)\n",
    "    train_score=accuracy_score(y_train, pred_train)\n",
    "    ## val acc\n",
    "    pred_val = model.predict(X_val)\n",
    "    val_Score=accuracy_score(y_val, pred_val)\n",
    "    \n",
    "    mlflow.log_param(\"max_depth\",max_depth)\n",
    "    mlflow.log_metric(\"Train score\",train_score)\n",
    "    mlflow.log_metric(\"Val score\",val_Score)\n",
    "\n",
    "    "
   ]
  },
  {
   "cell_type": "code",
   "execution_count": null,
   "id": "d242e12f-c959-4054-8962-a6568587a646",
   "metadata": {},
   "outputs": [],
   "source": []
  },
  {
   "cell_type": "code",
   "execution_count": null,
   "id": "a0a7e827-5301-4d17-8547-ac951e0ce002",
   "metadata": {},
   "outputs": [],
   "source": [
    "mlflow.set_experiment(\"Loan Status for banks\")\n",
    "\n",
    "with mlflow.start_run():\n",
    "    max_depth=5\n",
    "    from sklearn.ensemble import RandomForestClassifier\n",
    "    model = RandomForestClassifier(max_depth=max_depth, random_state=5)\n",
    "    model.fit(X_train, y_train)\n",
    "    from sklearn.metrics import accuracy_score\n",
    "    # train acc\n",
    "    pred_train = model.predict(X_train)\n",
    "    train_score=accuracy_score(y_train, pred_train)\n",
    "    ## val acc\n",
    "    pred_val = model.predict(X_val)\n",
    "    val_Score=accuracy_score(y_val, pred_val)\n",
    "    \n",
    "    mlflow.log_param(\"max_depth\",max_depth)\n",
    "    mlflow.log_metric(\"Train score\",train_score)\n",
    "    mlflow.log_metric(\"Val score\",val_Score)"
   ]
  },
  {
   "cell_type": "code",
   "execution_count": 19,
   "id": "69a8a44e-6623-40c1-918b-2c32eb76f558",
   "metadata": {},
   "outputs": [
    {
     "name": "stderr",
     "output_type": "stream",
     "text": [
      "2023/10/14 21:50:02 INFO mlflow.tracking.fluent: Experiment with name 'Loan Status for foreign banks' does not exist. Creating a new experiment.\n"
     ]
    }
   ],
   "source": [
    "mlflow.set_experiment(\"Loan Status for foreign banks\")\n",
    "\n",
    "with mlflow.start_run():\n",
    "    max_depth=10\n",
    "    from sklearn.ensemble import RandomForestClassifier\n",
    "    model = RandomForestClassifier(max_depth=max_depth, random_state=5)\n",
    "    model.fit(X_train, y_train)\n",
    "    from sklearn.metrics import accuracy_score\n",
    "    # train acc\n",
    "    pred_train = model.predict(X_train)\n",
    "    train_score=accuracy_score(y_train, pred_train)\n",
    "    ## val acc\n",
    "    pred_val = model.predict(X_val)\n",
    "    val_Score=accuracy_score(y_val, pred_val)\n",
    "    \n",
    "    mlflow.log_param(\"max_depth\",[1,2,3,4,5])\n",
    "    mlflow.log_metric(\"Train score\",train_score)\n",
    "    mlflow.log_metric(\"Val score\",val_Score)"
   ]
  },
  {
   "cell_type": "code",
   "execution_count": 22,
   "id": "9a837deb-c60b-435e-86dd-1cbb59f8e169",
   "metadata": {},
   "outputs": [],
   "source": [
    "with mlflow.start_run():\n",
    "    max_depth=12\n",
    "    from sklearn.ensemble import RandomForestClassifier\n",
    "    model = RandomForestClassifier(max_depth=max_depth, random_state=5)\n",
    "    model.fit(X_train, y_train)\n",
    "    from sklearn.metrics import accuracy_score\n",
    "    # train acc\n",
    "    pred_train = model.predict(X_train)\n",
    "    train_score=accuracy_score(y_train, pred_train)\n",
    "    ## val acc\n",
    "    pred_val = model.predict(X_val)\n",
    "    val_Score=accuracy_score(y_val, pred_val)\n",
    "    mlflow.set_tag('mlflow.runName' , 'new_data')\n",
    "    mlflow.log_param(\"max_depth\",max_depth)\n",
    "    mlflow.log_artifact(\"data.csv\")\n",
    "    mlflow.log_metric(\"Train score\",train_score)\n",
    "    mlflow.log_metric(\"Val score\",val_Score)\n",
    "    mlflow.sklearn.log_model(model,\"model\")"
   ]
  },
  {
   "cell_type": "code",
   "execution_count": 24,
   "id": "173a307f-8615-4ffb-8464-4987c7068a7e",
   "metadata": {},
   "outputs": [],
   "source": [
    "def model_fun(n_est,max_depth , i):\n",
    "    with mlflow.start_run():\n",
    "        from sklearn.ensemble import RandomForestClassifier\n",
    "        model = RandomForestClassifier(max_depth=max_depth, n_estimators=n_est,random_state=5)\n",
    "        model.fit(X_train, y_train)\n",
    "        mlflow.set_tag('mlflow.runName' , 'Hyper param tuning {}'.format(i))\n",
    "        \n",
    "        from sklearn.metrics import accuracy_score\n",
    "        # train acc\n",
    "        pred_train = model.predict(X_train)\n",
    "        train_score=accuracy_score(y_train, pred_train)\n",
    "        ## val acc\n",
    "        pred_val = model.predict(X_val)\n",
    "        val_Score=accuracy_score(y_val, pred_val)\n",
    "        mlflow.log_param(\"max_depth\",max_depth)\n",
    "        mlflow.log_artifact(\"data.csv\")\n",
    "        mlflow.log_metric(\"Train score\",train_score)\n",
    "        mlflow.log_metric(\"Val score\",val_Score)\n",
    "        mlflow.sklearn.log_model(model,\"model\")"
   ]
  },
  {
   "cell_type": "code",
   "execution_count": 25,
   "id": "76de69c1-6fa8-4897-9ded-8f65f0f3e7fc",
   "metadata": {},
   "outputs": [],
   "source": [
    "model_fun(10,5,1)\n",
    "model_fun(20,5,2)\n",
    "model_fun(30,4,3)\n",
    "model_fun(30,5,4)\n"
   ]
  },
  {
   "cell_type": "code",
   "execution_count": null,
   "id": "2164939d-43b1-400d-a2d9-41ae46c6afc7",
   "metadata": {},
   "outputs": [],
   "source": [
    "md=[2,4,6,10]\n",
    "ne=[10,20,30]\n"
   ]
  },
  {
   "cell_type": "code",
   "execution_count": null,
   "id": "0689f714-dbb3-4c13-acae-9e7be63fdea8",
   "metadata": {},
   "outputs": [],
   "source": []
  },
  {
   "cell_type": "code",
   "execution_count": 26,
   "id": "dbca58d9-82ec-4d4c-a55e-c5703f6bdba7",
   "metadata": {},
   "outputs": [],
   "source": [
    "from sklearn.neighbors import KNeighborsClassifier\n",
    "import matplotlib.pyplot as plt\n",
    "from sklearn.metrics import ConfusionMatrixDisplay"
   ]
  },
  {
   "cell_type": "code",
   "execution_count": 29,
   "id": "b389edd2-d7ea-48b8-b9e7-899526d046a0",
   "metadata": {},
   "outputs": [
    {
     "data": {
      "image/png": "[encoded data removed]",
      "text/plain": [
       "<Figure size 432x288 with 2 Axes>"
      ]
     },
     "metadata": {
      "needs_background": "light"
     },
     "output_type": "display_data"
    }
   ],
   "source": [
    "with mlflow.start_run():\n",
    "    n_neighbors=5\n",
    "    knn_model= KNeighborsClassifier(n_neighbors=n_neighbors)\n",
    "    knn_model.fit(X_train, y_train)\n",
    "    # train acc\n",
    "    pred_train = knn_model.predict(X_train)\n",
    "    train_score=accuracy_score(y_train, pred_train)\n",
    "    \n",
    "    cm=ConfusionMatrixDisplay.from_predictions( y_train, pred_train)\n",
    "    cm.figure_.savefig('confusion_mat.png')\n",
    "    mlflow.log_artifact('confusion_mat.png')\n",
    "    mlflow.set_tag('mlflow.runName' , 'KNN Model')\n",
    "    mlflow.log_param(\"neighbors\",n_neighbors)\n",
    "    mlflow.log_metric(\"Train score\",train_score)\n",
    "    mlflow.sklearn.log_model(knn_model,\"model\")"
   ]
  },
  {
   "cell_type": "code",
   "execution_count": null,
   "id": "65a293fc-ec47-4a1d-9e09-da2c208615ce",
   "metadata": {},
   "outputs": [],
   "source": []
  }
 ],
 "metadata": {
  "kernelspec": {
   "display_name": "Python 3 (ipykernel)",
   "language": "python",
   "name": "python3"
  },
  "language_info": {
   "codemirror_mode": {
    "name": "ipython",
    "version": 3
   },
   "file_extension": ".py",
   "mimetype": "text/x-python",
   "name": "python",
   "nbconvert_exporter": "python",
   "pygments_lexer": "ipython3",
   "version": "3.9.12"
  }
 },
 "nbformat": 4,
 "nbformat_minor": 5
}
