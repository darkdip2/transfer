{
  "nbformat": 4,
  "nbformat_minor": 0,
  "metadata": {
    "colab": {
      "provenance": [],
      "collapsed_sections": [
        "kmf4fyde4NNR",
        "UmfaWJf-ECsR",
        "rBy7Ro-wMVPk",
        "KQJGCJYeMrvp",
        "Rtjvq23hqOAR",
        "mQi26y-Adx8h",
        "qzxqJcCHipyw",
        "cLp_JIjxrU-A",
        "5eIlR72-q5Kq",
        "7MR8e9k6q5Kq",
        "NZnWy-zrcQ2y",
        "8BY45N9trEWD",
        "eG79j4RS0j4z"
      ]
    },
    "kernelspec": {
      "name": "python3",
      "display_name": "Python 3"
    },
    "language_info": {
      "name": "python"
    }
  },
  "cells": [
    {
      "cell_type": "markdown",
      "source": [
        "## Reference\n",
        "\n",
        "Lecture 1 : https://www.scaler.com/meetings/i/nn-n-layer-nn-contd/archive\n",
        "\n",
        "Lecture 2 : https://www.scaler.com/meetings/i/nn-backprop-for-n-layer-nns/archive"
      ],
      "metadata": {
        "id": "XWjpSr4ZvMhK"
      }
    },
    {
      "cell_type": "markdown",
      "source": [
        "# Content\n",
        "\n",
        "##N Layer-1\n",
        "\n",
        "- **Recap**\n",
        "- **Backpropagation for single layer**\n",
        " - Chain rule\n",
        " - Scratch code for backprop\n",
        "- **MLP: Multi layer Preceptron**\n",
        " - Nlayer NN with 3 outputs\n",
        " - how hidden layers are useful\n",
        "\n",
        "\n",
        "- Assessments:\n",
        "  - [Trainable parameters](https://www.scaler.com/hire/test/problem/20725/)\n",
        "  - [Number of connections](https://www.scaler.com/hire/test/problem/21148/)\n",
        "  - [How many parameters?](https://www.scaler.com/hire/test/problem/19918/)\n",
        "  - [Convergence](https://www.scaler.com/hire/test/problem/17702/)\n",
        "  - [Complete the updating code ](https://www.scaler.com/hire/test/problem/20091/)\n",
        "\n",
        "\n",
        "##N Layer-2\n",
        "- **Activation Functions**\n",
        " - vanishing gradient issue\n",
        " - ReLU and Leaky ReLU as solution to vanishing gradient\n",
        "\n",
        "- Assessments\n",
        "    - [Tanh and Leaky ReLu](https://www.scaler.com/hire/test/problem/19839/)\n",
        "    - [Dog and cat classifier](https://www.scaler.com/hire/test/problem/21095/)\n",
        "    - [Maximum value of derivates](https://www.scaler.com/hire/test/problem/20686/)\n",
        "    - [ Rectified Linear Unit](https://www.scaler.com/hire/test/problem/17665/)\n",
        "    - [No Activation Function](https://www.scaler.com/hire/test/problem/16595/)\n",
        "    - [ReLu(vanishing/ exploding gradient)](https://www.scaler.com/hire/test/problem/19836/)\n",
        "    \n",
        "- **Notations**\n",
        " - N layer notations\n",
        "\n",
        "- Assessments\n",
        "    - [Fully Connected Neural Network](https://www.scaler.com/hire/test/problem/21150/)\n",
        "\n",
        "    - [Compare the learnings](https://www.scaler.com/hire/test/problem/20388/)\n",
        "    \n",
        "  \n",
        "\n",
        "\n",
        "- **Forward Propagation for multi-layer**\n",
        " - Code for Forward propagation in multi-layer NN\n",
        "\n",
        "- Assessments\n",
        "    - [Hidden layer](https://www.scaler.com/hire/test/problem/19852/)\n",
        "    - [Intercept and Bias](https://www.scaler.com/hire/test/problem/19862/)\n"
      ],
      "metadata": {
        "id": "1QkOqtrdAyo3"
      }
    },
    {
      "cell_type": "markdown",
      "source": [
        "## Quizzes"
      ],
      "metadata": {
        "id": "kmf4fyde4NNR"
      }
    },
    {
      "cell_type": "markdown",
      "source": [
        "### Quizes of lec-1"
      ],
      "metadata": {
        "id": "UmfaWJf-ECsR"
      }
    },
    {
      "cell_type": "markdown",
      "source": [
        "**Quiz-1**\n",
        "```\n",
        "What happens if we set the activation function of a neuron (WX+b)as sigmoid?\n",
        "a) It is not a neuron anymore\n",
        "b) We get a LRU\n",
        "c) We don't have to add a bias anymore\n",
        "d) We get a perceptron\n",
        "e) It does not add any non-linearity\n",
        "```\n",
        "**Ans:** b\n",
        "\n",
        "- If we set the activation function of a neuron as sigmoid, it is still a neuron\n",
        "- It is called a Logistic Regression Unit (LRU), as that neuron becomes identical to a Logistic Regression model, in functionality.\n",
        "- We still need to add a bias to a LRU, just as in LogReg\n",
        "- Perceptron employs step function as it's activation function, it is different from a LRU.\n",
        "- Sigmoid function does add a layer of non-linearity. Recall it's graph. This non-linearity is what helps build complex feature relations."
      ],
      "metadata": {
        "id": "q43tWvqnjJe4"
      }
    },
    {
      "cell_type": "markdown",
      "source": [
        "**Quiz-2**\n",
        "```\n",
        "Which of the following can be represented as a single-neuron model?\n",
        "a) Linear Regression\n",
        "b) SVM\n",
        "c) Logistic Regression\n",
        "d) KNN\n",
        "```\n",
        "\n",
        "**Ans:** a, b, c\n",
        "\n",
        "If the activation function is set as sigmoid function -> Logistic Regression\n",
        "\n",
        "If the activation function is set as hinge loss function -> Linear SVM model"
      ],
      "metadata": {
        "id": "wxZM0fSLiN-F"
      }
    },
    {
      "cell_type": "markdown",
      "source": [
        "**Quiz-3**\n",
        "```\n",
        "The number of features for input vector are 2.\n",
        "\n",
        "Suppose we are implementing log. regression using neuron. How many parameters will neuron have ?\n",
        "\n",
        "a. 1\n",
        "b. 2\n",
        "c. 3\n",
        "d. 4\n",
        "\n",
        "```\n",
        "Ans: 3\n",
        "\n",
        "Explanation:\n",
        "\n",
        "Since we have 2 features, there will be one weight corresponding to each feature i.e. $w_1$ and $w_2$.\n",
        "- and there'll be one param corresponding to bias (b)\n",
        "\n",
        "Hence, total of 3 params"
      ],
      "metadata": {
        "id": "Wwa5hCK7T9QM"
      }
    },
    {
      "cell_type": "markdown",
      "source": [
        "**Quiz-4**\n",
        "\n",
        "```\n",
        "How many total weights and bias there will be between 2 feature input and 3 neurons ?\n",
        "\n",
        "a. 3\n",
        "b. 6\n",
        "c. 9\n",
        "d. 12\n",
        "\n",
        "```\n",
        "Ans. 6 + 3 = 9.\n",
        "\n",
        "Since there are 2 inputs, and 3 neurons, there would be a weight associated with each pair of input and neuron.\n",
        "> **Hence, weights = 2*3 = 6**\n",
        "\n",
        "> And each neuron has bias associated with it i.e 3 biases\n",
        "> Hence, **total weights and biases = 6 + 3 = 9**\n",
        "\n"
      ],
      "metadata": {
        "id": "ZxJ1VxG_sj0m"
      }
    },
    {
      "cell_type": "markdown",
      "source": [
        "**Quiz-5**\n",
        "```\n",
        "If we have a small training data set, which of the following will perform the best?\n",
        "\n",
        "a) Traditional ML Algos: SVM, LogReg, etc\n",
        "b) Small NN network\n",
        "c) Medium NN network\n",
        "d) Large NN network\n",
        "e) All of may give comparable results\n",
        "```\n",
        "**Ans:** e\n",
        "\n",
        "<center><img src='https://drive.google.com/uc?id=1nAEi54cPQM8H2046tHeK-UDsupw7dtBP' width=\"700\"></center>\n",
        "\n",
        "Source: Andrew Ng"
      ],
      "metadata": {
        "id": "CeUMxwz8v8lp"
      }
    },
    {
      "cell_type": "markdown",
      "source": [
        "### Quizes of Lec-2"
      ],
      "metadata": {
        "id": "qB4Q_TBgD8pn"
      }
    },
    {
      "cell_type": "markdown",
      "source": [
        "**Quiz-1**\n",
        "```\n",
        "Which of the following would we employ for a multi-class classification setting?\n",
        "\n",
        "a) sigmoid function as activation function\n",
        "b) cross entropy as loss function\n",
        "c) softmax function as activation function\n",
        "d) log loss as loss function\n",
        "```\n",
        "\n",
        "**Ans:** b, c\n",
        "- In binary setting\n",
        "    - we use Sigmoid for probability\n",
        "    - and Binary CE/logloss as loss function\n",
        "\n",
        "- In multiclass setting,\n",
        "    - we use softmax to compute class probabilities\n",
        "    - and Cross entropy as loss function"
      ],
      "metadata": {
        "id": "P0prM1zaEF-2"
      }
    },
    {
      "cell_type": "markdown",
      "source": [
        "**Quiz-2**\n",
        "```\n",
        "Consider the following variables:\n",
        "d -> dimensionality, number of features\n",
        "n -> number of classes\n",
        "m -> number of training examples\n",
        "\n",
        "What will be the shape of the weights matrix?\n",
        "\n",
        "a) m x n\n",
        "b) m x d\n",
        "c) n x d\n",
        "d) d x n\n",
        "```\n",
        "\n",
        "**Ans:** d\n",
        "\n",
        "In order to get the output matrix ($m \\times  n$), as a dot product of data matrix ($m \\times d$) and weight matrices, the shape of weight matrix has to be: **d x n**\n",
        "\n",
        "$w^1 = \\begin{bmatrix}\n",
        "w_{11}^1 & w_{12}^1 & w_{13}^1\\\\\n",
        "w_{21}^1 & w_{22}^1 & w_{23}^1\n",
        "\\end{bmatrix}_{dxn}$"
      ],
      "metadata": {
        "id": "kzMFYfo0E1qQ"
      }
    },
    {
      "cell_type": "markdown",
      "metadata": {
        "id": "dzKsuxLA1Seq"
      },
      "source": [
        "![image.png](data:image/png;base64,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)"
      ]
    },
    {
      "cell_type": "markdown",
      "source": [
        "**Quiz-3**\n",
        "```\n",
        "What will be the shape of bias matrix?\n",
        "\n",
        "a) 1 x d: because there are d features and it can get broadcasted\n",
        "b) m x d: because there are d features and m train examples\n",
        "c) 1 x n: because there are n neurons, and this will get broadcasted\n",
        "d) m x n: because X.W will fetch a mxn matrix\n",
        "```\n",
        "**Ans:** c\n",
        "\n",
        "- The bias term has to be added to the dot product of $X.W$.\n",
        "- Therefore, the shape of bias matrix should also be: **m x n**\n",
        "\n",
        "However, the value of bias will not change for different data points.\n",
        "- The same bias values can be broadcasted for m examples.\n",
        "- Therefore, the shape of bias matrix becomes: **1 x n**\n"
      ],
      "metadata": {
        "id": "ZaY74LpyHA_1"
      }
    },
    {
      "cell_type": "markdown",
      "source": [
        "**Quiz-4**\n",
        "```\n",
        "Backpropagation is used to calculate gradients, in order to update the values of of __ .\n",
        "\n",
        "a) weights\n",
        "b) biases\n",
        "c) both\n",
        "d) None of above\n",
        "```\n",
        "**Ans:** c\n",
        "Both weight and bias values are updated using backprop algorithm as:\n",
        "\n",
        "$w_i = w_i - lr* \\frac{\\partial J}{\\partial w_i}$\n",
        "\n",
        "$b_i = b_i - lr* \\frac{\\partial J}{\\partial b_i}$"
      ],
      "metadata": {
        "id": "9XWjo1rMNn3Q"
      }
    },
    {
      "cell_type": "markdown",
      "source": [
        "### Quizes of lec-3 (To be moved in other script)"
      ],
      "metadata": {
        "id": "30LiWeJtGn66"
      }
    },
    {
      "cell_type": "markdown",
      "source": [
        "**Quiz-1 and 2**\n",
        "```\n",
        "Suppose we have a MLP network that has 2 inputs going into 3 neurons in the first layer.\n",
        "The results of these neurons are going to 5 neurons in the hidden layer.\n",
        "The output layer consists of 2 neurons.\n",
        "\n",
        "What will be the shape of $W^2$\n",
        "\n",
        "a) 1 x 3\n",
        "b) 2 x 3\n",
        "c) 5 x 2\n",
        "d) 3 x 5\n",
        "```\n",
        "\n",
        "**Ans:** d\n",
        "\n",
        "$W^2$ refers to the weight matrix connecting the first layer to the second layer.\n",
        "\n",
        "There are 3 neurons in L-1, and 5 in L-2. Therefore, there will be a total of 15 weight values, and the shape of $W^2$ will be $3 \\times 5$\n",
        "\n",
        "<br>\n",
        "\n",
        "```\n",
        "What will be the shape of $b^3$?\n",
        "\n",
        "a) 1 x 2\n",
        "b) 2 x 1\n",
        "c) 5 x 2\n",
        "d) 2 x 5\n",
        "```\n",
        "\n",
        "**Ans:** a\n",
        "\n",
        "Since there are 2 neurons in layer 3, i.e. output layer, we will have 2 biases.\n",
        "\n",
        "This will be represented as 1 x 2 matrix."
      ],
      "metadata": {
        "id": "269qz8vKGujk"
      }
    },
    {
      "cell_type": "markdown",
      "source": [
        "**Quiz-3**\n",
        "```\n",
        "Can we use a NN for a regression task?\n",
        "\n",
        "a) No.\n",
        "b) Yes, by adding more layers in order to increase computation.\n",
        "c) Yes, by using linear functions for activation throughout the network.\n",
        "d) Yes, by using linear function for activation for the neuron(s) in output layer.\n",
        "```\n",
        "\n",
        "**Ans:** d\n",
        "\n",
        "\n",
        "If the last neuron in chain is:\n",
        "- Linear --> then NeuralNet will do regression. Ex: y = x\n",
        "- Probabilistic (Sigmoid/softmax) --> NeuralNet will do classification. Ex: y = sig(x)\n",
        "        \n",
        "<br>\n",
        "\n",
        "If the activations of intermediate layers are linear also, then, NN wouldn't be able to create high order complex features\n",
        "\n",
        "The activations in intermediate layers should always be non-linear."
      ],
      "metadata": {
        "id": "hJ3fLJ_fMdOQ"
      }
    },
    {
      "cell_type": "markdown",
      "source": [
        "**Quiz-4**\n",
        "\n",
        "`Consider the following NN:-`\n",
        "<center><img src='https://drive.google.com/uc?id=1NtRshEAzeT58_PPpmX9AboReOSiZ6JJi' width=\"700\"></center>\n",
        "\n",
        "`How will we calculate the value of `$\\frac{∂Loss}{∂w_{11}^1}$ ?\n",
        "\n",
        "<br>\n",
        "\n",
        "a) $\\frac{∂L}{∂a^3_1}.\\frac{∂a^3_1}{∂a^2_{11}}.\\frac{∂a^2_{11}}{∂a^1_{11}}.\\frac{∂a^1_{11}}{∂w^1_{11}}$\n",
        "\n",
        "b) $\\frac{∂L}{∂a^3_1}.\\frac{∂a^3_1}{∂a^2_{21}}.\\frac{∂a^2_{21}}{∂a^1_{12}}.\\frac{∂a^1_{12}}{∂w^1_{11}}$\n",
        "\n",
        "c) $\\frac{∂L}{∂a^3_1}.\\frac{∂a^3_1}{∂a^2_{11}}.\\frac{∂a^2_{11}}{∂a^1_{11}}.\\frac{∂a^1_{11}}{∂w^1_{11}}$ +\n",
        "$\\frac{∂L}{∂a^3_1}.\\frac{∂a^3_1}{∂a^2_{21}}.\\frac{∂a^2_{21}}{∂a^1_{12}}.\\frac{∂a^1_{12}}{∂w^1_{11}}$\n",
        "\n",
        "d) $\\frac{∂L}{∂a^3_1}.\\frac{∂a^3_1}{∂a^2_{11}}.\\frac{∂a^2_{11}}{∂a^1_{11}}.\\frac{∂a^1_{11}}{∂w^1_{11}}$ .\n",
        "$\\frac{∂L}{∂a^3_1}.\\frac{∂a^3_1}{∂a^2_{21}}.\\frac{∂a^2_{21}}{∂a^1_{12}}.\\frac{∂a^1_{12}}{∂w^1_{11}}$\n",
        "\n",
        "<br>\n",
        "\n",
        "**Ans:** c\n",
        "\n",
        "As per the backpropagation, we employ chain rule to calculate the gradient of each parameter, in order to update them.\n",
        "\n",
        "There can be multiple paths to reach a certain parameter.\n",
        "\n",
        "In order to combine the derivate from path-1 and path-2, we take the **sum** of the derivatives in these paths."
      ],
      "metadata": {
        "id": "KbkVghYMbDYx"
      }
    },
    {
      "cell_type": "markdown",
      "source": [
        "**Quiz-5**\n",
        "```\n",
        "Which of the following is true regarding Vanishing gardients?\n",
        "\n",
        "a) This is caused when we're using sigmoid or tanh as activation functions\n",
        "b) This is caused when we're using ReLu or Leaky ReLu as activation functions\n",
        "c) This happens because the gradients are ~0, for most of the values of z, causing the learning to be slow\n",
        "d) This happens because the learning is too fast, causing it to overshoot, and not find optimal values\n",
        "```\n",
        "\n",
        "**Ans:** a, c\n",
        "\n",
        "For sigmoid and tanh, the derivative is very close to zero for most values.\n",
        "\n",
        "This makes the gradients ~0, thereby causing the learning to be too slow."
      ],
      "metadata": {
        "id": "I9unvtXaijXg"
      }
    },
    {
      "cell_type": "markdown",
      "source": [],
      "metadata": {
        "id": "qE7f_gf9JgU1"
      }
    },
    {
      "cell_type": "markdown",
      "source": [
        "## Backward propogation"
      ],
      "metadata": {
        "id": "_AYDLffdTUr5"
      }
    },
    {
      "cell_type": "markdown",
      "source": [
        "We had the following NN for our multiclass classification"
      ],
      "metadata": {
        "id": "TEOnsPn-bxOK"
      }
    },
    {
      "cell_type": "markdown",
      "source": [
        "<center><img src='https://drive.google.com/uc?id=1LDBuwe2xUQ_CF9ymiHvxzb2ojuYq16oz' width=\"800\"></center>\n",
        "\n",
        "\n",
        "\n",
        "\n",
        "\n",
        "\n",
        "\n",
        "\n"
      ],
      "metadata": {
        "id": "2tEB6rzyZTqG"
      }
    },
    {
      "cell_type": "markdown",
      "source": [
        "Let's draw computational graph for this"
      ],
      "metadata": {
        "id": "OOgfYrQsZURy"
      }
    },
    {
      "cell_type": "markdown",
      "source": [
        "\n",
        "\n",
        "<center><img src='https://drive.google.com/uc?id=1B9cHNnwhrLp2tJlle8TmCktltlbtey3Z' width=600></center>\n"
      ],
      "metadata": {
        "id": "umfBGT3TTLtr"
      }
    },
    {
      "cell_type": "markdown",
      "source": [
        "\n",
        "\n",
        "\n",
        "#### Question: How did we decrease the loss in Logistic Regression?\n",
        "\n",
        "- We calculate partial derivative of J wrt each W and b.\n",
        "- And then we iteratively updated the params values of $W$ and $b$\n",
        "- What does the partial derivative explain inituitively? How does J change with a small change in any param?\n",
        "\n",
        "Problem: **We cannot directly calculate dW and db here**\n",
        "\n",
        "- But what we can see is the error J is directly dependent on `p`, so we can calculate $\\frac{\\partial J}{\\partial p_i}$ directly\n",
        "- Further, the `p` in-turn  depend on `z`, and `z` is of course dependent on `W` (and `b`).\n",
        "\n",
        "#### Lets break this down using chain rule  \n"
      ],
      "metadata": {
        "id": "CiJYH46xP75-"
      }
    },
    {
      "cell_type": "markdown",
      "source": [
        "\n",
        "\n",
        "<center><img src='https://drive.google.com/uc?id=1b_cQdk8t8YR2GBs78pDFYXZM-dRYwZPJ' width=700></center>\n",
        "\n"
      ],
      "metadata": {
        "id": "ci-NT0-ueRw7"
      }
    },
    {
      "cell_type": "markdown",
      "metadata": {
        "id": "oBAj5kyu7ht0"
      },
      "source": [
        "\n",
        "\n",
        "$$\\frac{\\partial J}{\\partial w} =  \\frac{\\partial J}{\\partial z} \\frac{\\partial z}{\\partial w}$$\n",
        "\n",
        "We can see from the picture that $\\frac{\\partial J}{\\partial z}$ can be calculated using\n",
        "\n",
        "$$\\frac{\\partial J}{\\partial w} =  \\frac{\\partial J}{\\partial p} \\frac{\\partial p}{\\partial z} \\frac{\\partial z}{\\partial w}$$\n",
        "\n",
        "- Since, J (cost function) is the final function we want to optimise, we would come across a lot of intermediate calculations like $\\frac{\\partial J}{\\partial <var>}$.\n",
        "- In Python, we will represent gradients of J, $\\frac{\\partial J}{\\partial w}$ as `dw`.\n",
        "- And the equation $\\frac{\\partial J}{\\partial w} =  \\frac{\\partial J}{\\partial z} \\frac{\\partial z}{\\partial w}$ can be represented as\n",
        "$$dw =  dz  \\frac{\\partial z}{\\partial w}$$\n",
        "\n",
        "Since, we are moving from right to left across the computational graph, we call this process backpropagation.\n",
        "\n",
        "<hr style=\"border:1px solid gray\"> </hr>"
      ]
    },
    {
      "cell_type": "markdown",
      "source": [
        "We made a simple Neural network to classify a  multiclass setting use case"
      ],
      "metadata": {
        "id": "FvAGvcyxXR8N"
      }
    },
    {
      "cell_type": "markdown",
      "source": [
        "<center><img src='https://drive.google.com/uc?id=1-f3HjcdZ_K4SeT3P8pr7Bp_zFjJixXXi' width=\"800\"></center>\n",
        "\n",
        "\n",
        "\n"
      ],
      "metadata": {
        "id": "QoOEHBNMtqlP"
      }
    },
    {
      "cell_type": "markdown",
      "source": [
        "#### (Revision) Question: How many weights did we have for 2 feature input and 3 neurons?\n",
        "\n",
        "Ans: Since we have 2 input and 3 neuron, we have total of 2*3 = 6 weights and 3 bias (one per neuron.)"
      ],
      "metadata": {
        "id": "onTb6K8GDcA5"
      }
    },
    {
      "cell_type": "markdown",
      "source": [
        "#### (Revision) What activation did we use in output ?\n",
        "\n",
        "Ans: Softmax"
      ],
      "metadata": {
        "id": "9OBG5-3qEBzy"
      }
    },
    {
      "cell_type": "markdown",
      "source": [
        "Now, we only had a simple network of 3 neuron.\n",
        "\n",
        "#### What if we add more neuron to our network and make it more complex ?\n",
        "\n",
        "Let's see how we do it"
      ],
      "metadata": {
        "id": "miLPyASltzx9"
      }
    },
    {
      "cell_type": "markdown",
      "metadata": {
        "id": "Iz0K71j27ht0"
      },
      "source": [
        "### Let's calculate gradients using backpropagation\n",
        "\n",
        "- We previously calculated $\\frac{\\partial z}{\\partial w}$ in LR - since $z=w^Tx$, $\\frac{\\partial z}{\\partial w}=x$\n",
        "- Now, we need to calculate `dz`, $dz=\\frac{\\partial J}{\\partial p} \\frac{\\partial p}{\\partial z}$\n",
        "\n",
        "Turns out that the result for `dz` has a very neat and intuitive solution (won't get into derivation)\n",
        "\n",
        "$$dz = (p_k - y_i)$$\n",
        "\n",
        "- First, the second term is called an **Indicator Function**,\n",
        "    - where p_k  is the prob. of class K\n",
        "    - $y_i$ is 1 for the ground truth label,  else 0.\n",
        "    - e.g if $y_i = 2$ and `probs = [0.2, 0.3, 0.5]`\n",
        "      - As the second index of the probs is the one with the correct class\n",
        "      - `dz = [0.2-0, 0.3-1, 0.5-0] = [0.2,-0.7,0.5]`\n",
        "\n",
        "**Note:** If we were saving ground truth, y,  as one-hot encoded vectors,\n",
        "- We could simply subtract the probabilities with the one-hot encoded vector\n",
        "\n",
        "We won't go into its derivation, but lets intuitively understand this\n",
        "\n",
        "<br>\n",
        "\n",
        "#### Why are we subtracting 1 only from the probability of true class?\n",
        "- The use of subtracting 1 from the true class is to make it derivative negative.\n",
        "- For the true class (middle), increasing its probability values will decrease the error (0.3 --> -0.7) - aligns with goal.\n",
        "- For other values, first and last, increase (or keeping it same) their probability values will increase the error - aligns with goal."
      ]
    },
    {
      "cell_type": "code",
      "source": [
        "import pandas as pd\n",
        "import matplotlib.pyplot as plt\n",
        "import numpy as np\n",
        "\n",
        "!gdown 1dLOPwh01o3k8p_hK633ixhD1ehz6nNWk\n",
        "df = pd.read_csv(\"/content/spiral.csv\")\n",
        "df.head()"
      ],
      "metadata": {
        "colab": {
          "base_uri": "https://localhost:8080/",
          "height": 278
        },
        "id": "k4Vbkz351k8k",
        "outputId": "c12f42a3-2981-406d-8b5f-815da75ad2bd"
      },
      "execution_count": null,
      "outputs": [
        {
          "output_type": "stream",
          "name": "stdout",
          "text": [
            "Downloading...\n",
            "From: https://drive.google.com/uc?id=1dLOPwh01o3k8p_hK633ixhD1ehz6nNWk\n",
            "To: /content/spiral.csv\n",
            "\r  0% 0.00/12.9k [00:00<?, ?B/s]\r100% 12.9k/12.9k [00:00<00:00, 41.1MB/s]\n"
          ]
        },
        {
          "output_type": "execute_result",
          "data": {
            "text/plain": [
              "         x1        x2  y\n",
              "0  0.000000  0.000000  0\n",
              "1 -0.000650  0.010080  0\n",
              "2  0.009809  0.017661  0\n",
              "3  0.007487  0.029364  0\n",
              "4 -0.000027  0.040404  0"
            ],
            "text/html": [
              "\n",
              "  <div id=\"df-08a4f3c3-3279-4250-9070-d66b466cc818\" class=\"colab-df-container\">\n",
              "    <div>\n",
              "<style scoped>\n",
              "    .dataframe tbody tr th:only-of-type {\n",
              "        vertical-align: middle;\n",
              "    }\n",
              "\n",
              "    .dataframe tbody tr th {\n",
              "        vertical-align: top;\n",
              "    }\n",
              "\n",
              "    .dataframe thead th {\n",
              "        text-align: right;\n",
              "    }\n",
              "</style>\n",
              "<table border=\"1\" class=\"dataframe\">\n",
              "  <thead>\n",
              "    <tr style=\"text-align: right;\">\n",
              "      <th></th>\n",
              "      <th>x1</th>\n",
              "      <th>x2</th>\n",
              "      <th>y</th>\n",
              "    </tr>\n",
              "  </thead>\n",
              "  <tbody>\n",
              "    <tr>\n",
              "      <th>0</th>\n",
              "      <td>0.000000</td>\n",
              "      <td>0.000000</td>\n",
              "      <td>0</td>\n",
              "    </tr>\n",
              "    <tr>\n",
              "      <th>1</th>\n",
              "      <td>-0.000650</td>\n",
              "      <td>0.010080</td>\n",
              "      <td>0</td>\n",
              "    </tr>\n",
              "    <tr>\n",
              "      <th>2</th>\n",
              "      <td>0.009809</td>\n",
              "      <td>0.017661</td>\n",
              "      <td>0</td>\n",
              "    </tr>\n",
              "    <tr>\n",
              "      <th>3</th>\n",
              "      <td>0.007487</td>\n",
              "      <td>0.029364</td>\n",
              "      <td>0</td>\n",
              "    </tr>\n",
              "    <tr>\n",
              "      <th>4</th>\n",
              "      <td>-0.000027</td>\n",
              "      <td>0.040404</td>\n",
              "      <td>0</td>\n",
              "    </tr>\n",
              "  </tbody>\n",
              "</table>\n",
              "</div>\n",
              "    <div class=\"colab-df-buttons\">\n",
              "\n",
              "  <div class=\"colab-df-container\">\n",
              "    <button class=\"colab-df-convert\" onclick=\"convertToInteractive('df-08a4f3c3-3279-4250-9070-d66b466cc818')\"\n",
              "            title=\"Convert this dataframe to an interactive table.\"\n",
              "            style=\"display:none;\">\n",
              "\n",
              "  <svg xmlns=\"http://www.w3.org/2000/svg\" height=\"24px\" viewBox=\"0 -960 960 960\">\n",
              "    <path d=\"M120-120v-720h720v720H120Zm60-500h600v-160H180v160Zm220 220h160v-160H400v160Zm0 220h160v-160H400v160ZM180-400h160v-160H180v160Zm440 0h160v-160H620v160ZM180-180h160v-160H180v160Zm440 0h160v-160H620v160Z\"/>\n",
              "  </svg>\n",
              "    </button>\n",
              "\n",
              "  <style>\n",
              "    .colab-df-container {\n",
              "      display:flex;\n",
              "      gap: 12px;\n",
              "    }\n",
              "\n",
              "    .colab-df-convert {\n",
              "      background-color: #E8F0FE;\n",
              "      border: none;\n",
              "      border-radius: 50%;\n",
              "      cursor: pointer;\n",
              "      display: none;\n",
              "      fill: #1967D2;\n",
              "      height: 32px;\n",
              "      padding: 0 0 0 0;\n",
              "      width: 32px;\n",
              "    }\n",
              "\n",
              "    .colab-df-convert:hover {\n",
              "      background-color: #E2EBFA;\n",
              "      box-shadow: 0px 1px 2px rgba(60, 64, 67, 0.3), 0px 1px 3px 1px rgba(60, 64, 67, 0.15);\n",
              "      fill: #174EA6;\n",
              "    }\n",
              "\n",
              "    .colab-df-buttons div {\n",
              "      margin-bottom: 4px;\n",
              "    }\n",
              "\n",
              "    [theme=dark] .colab-df-convert {\n",
              "      background-color: #3B4455;\n",
              "      fill: #D2E3FC;\n",
              "    }\n",
              "\n",
              "    [theme=dark] .colab-df-convert:hover {\n",
              "      background-color: #434B5C;\n",
              "      box-shadow: 0px 1px 3px 1px rgba(0, 0, 0, 0.15);\n",
              "      filter: drop-shadow(0px 1px 2px rgba(0, 0, 0, 0.3));\n",
              "      fill: #FFFFFF;\n",
              "    }\n",
              "  </style>\n",
              "\n",
              "    <script>\n",
              "      const buttonEl =\n",
              "        document.querySelector('#df-08a4f3c3-3279-4250-9070-d66b466cc818 button.colab-df-convert');\n",
              "      buttonEl.style.display =\n",
              "        google.colab.kernel.accessAllowed ? 'block' : 'none';\n",
              "\n",
              "      async function convertToInteractive(key) {\n",
              "        const element = document.querySelector('#df-08a4f3c3-3279-4250-9070-d66b466cc818');\n",
              "        const dataTable =\n",
              "          await google.colab.kernel.invokeFunction('convertToInteractive',\n",
              "                                                    [key], {});\n",
              "        if (!dataTable) return;\n",
              "\n",
              "        const docLinkHtml = 'Like what you see? Visit the ' +\n",
              "          '<a target=\"_blank\" href=https://colab.research.google.com/notebooks/data_table.ipynb>data table notebook</a>'\n",
              "          + ' to learn more about interactive tables.';\n",
              "        element.innerHTML = '';\n",
              "        dataTable['output_type'] = 'display_data';\n",
              "        await google.colab.output.renderOutput(dataTable, element);\n",
              "        const docLink = document.createElement('div');\n",
              "        docLink.innerHTML = docLinkHtml;\n",
              "        element.appendChild(docLink);\n",
              "      }\n",
              "    </script>\n",
              "  </div>\n",
              "\n",
              "\n",
              "<div id=\"df-3fa18bf2-53c7-46ad-9057-d21a3a7382ef\">\n",
              "  <button class=\"colab-df-quickchart\" onclick=\"quickchart('df-3fa18bf2-53c7-46ad-9057-d21a3a7382ef')\"\n",
              "            title=\"Suggest charts\"\n",
              "            style=\"display:none;\">\n",
              "\n",
              "<svg xmlns=\"http://www.w3.org/2000/svg\" height=\"24px\"viewBox=\"0 0 24 24\"\n",
              "     width=\"24px\">\n",
              "    <g>\n",
              "        <path d=\"M19 3H5c-1.1 0-2 .9-2 2v14c0 1.1.9 2 2 2h14c1.1 0 2-.9 2-2V5c0-1.1-.9-2-2-2zM9 17H7v-7h2v7zm4 0h-2V7h2v10zm4 0h-2v-4h2v4z\"/>\n",
              "    </g>\n",
              "</svg>\n",
              "  </button>\n",
              "\n",
              "<style>\n",
              "  .colab-df-quickchart {\n",
              "      --bg-color: #E8F0FE;\n",
              "      --fill-color: #1967D2;\n",
              "      --hover-bg-color: #E2EBFA;\n",
              "      --hover-fill-color: #174EA6;\n",
              "      --disabled-fill-color: #AAA;\n",
              "      --disabled-bg-color: #DDD;\n",
              "  }\n",
              "\n",
              "  [theme=dark] .colab-df-quickchart {\n",
              "      --bg-color: #3B4455;\n",
              "      --fill-color: #D2E3FC;\n",
              "      --hover-bg-color: #434B5C;\n",
              "      --hover-fill-color: #FFFFFF;\n",
              "      --disabled-bg-color: #3B4455;\n",
              "      --disabled-fill-color: #666;\n",
              "  }\n",
              "\n",
              "  .colab-df-quickchart {\n",
              "    background-color: var(--bg-color);\n",
              "    border: none;\n",
              "    border-radius: 50%;\n",
              "    cursor: pointer;\n",
              "    display: none;\n",
              "    fill: var(--fill-color);\n",
              "    height: 32px;\n",
              "    padding: 0;\n",
              "    width: 32px;\n",
              "  }\n",
              "\n",
              "  .colab-df-quickchart:hover {\n",
              "    background-color: var(--hover-bg-color);\n",
              "    box-shadow: 0 1px 2px rgba(60, 64, 67, 0.3), 0 1px 3px 1px rgba(60, 64, 67, 0.15);\n",
              "    fill: var(--button-hover-fill-color);\n",
              "  }\n",
              "\n",
              "  .colab-df-quickchart-complete:disabled,\n",
              "  .colab-df-quickchart-complete:disabled:hover {\n",
              "    background-color: var(--disabled-bg-color);\n",
              "    fill: var(--disabled-fill-color);\n",
              "    box-shadow: none;\n",
              "  }\n",
              "\n",
              "  .colab-df-spinner {\n",
              "    border: 2px solid var(--fill-color);\n",
              "    border-color: transparent;\n",
              "    border-bottom-color: var(--fill-color);\n",
              "    animation:\n",
              "      spin 1s steps(1) infinite;\n",
              "  }\n",
              "\n",
              "  @keyframes spin {\n",
              "    0% {\n",
              "      border-color: transparent;\n",
              "      border-bottom-color: var(--fill-color);\n",
              "      border-left-color: var(--fill-color);\n",
              "    }\n",
              "    20% {\n",
              "      border-color: transparent;\n",
              "      border-left-color: var(--fill-color);\n",
              "      border-top-color: var(--fill-color);\n",
              "    }\n",
              "    30% {\n",
              "      border-color: transparent;\n",
              "      border-left-color: var(--fill-color);\n",
              "      border-top-color: var(--fill-color);\n",
              "      border-right-color: var(--fill-color);\n",
              "    }\n",
              "    40% {\n",
              "      border-color: transparent;\n",
              "      border-right-color: var(--fill-color);\n",
              "      border-top-color: var(--fill-color);\n",
              "    }\n",
              "    60% {\n",
              "      border-color: transparent;\n",
              "      border-right-color: var(--fill-color);\n",
              "    }\n",
              "    80% {\n",
              "      border-color: transparent;\n",
              "      border-right-color: var(--fill-color);\n",
              "      border-bottom-color: var(--fill-color);\n",
              "    }\n",
              "    90% {\n",
              "      border-color: transparent;\n",
              "      border-bottom-color: var(--fill-color);\n",
              "    }\n",
              "  }\n",
              "</style>\n",
              "\n",
              "  <script>\n",
              "    async function quickchart(key) {\n",
              "      const quickchartButtonEl =\n",
              "        document.querySelector('#' + key + ' button');\n",
              "      quickchartButtonEl.disabled = true;  // To prevent multiple clicks.\n",
              "      quickchartButtonEl.classList.add('colab-df-spinner');\n",
              "      try {\n",
              "        const charts = await google.colab.kernel.invokeFunction(\n",
              "            'suggestCharts', [key], {});\n",
              "      } catch (error) {\n",
              "        console.error('Error during call to suggestCharts:', error);\n",
              "      }\n",
              "      quickchartButtonEl.classList.remove('colab-df-spinner');\n",
              "      quickchartButtonEl.classList.add('colab-df-quickchart-complete');\n",
              "    }\n",
              "    (() => {\n",
              "      let quickchartButtonEl =\n",
              "        document.querySelector('#df-3fa18bf2-53c7-46ad-9057-d21a3a7382ef button');\n",
              "      quickchartButtonEl.style.display =\n",
              "        google.colab.kernel.accessAllowed ? 'block' : 'none';\n",
              "    })();\n",
              "  </script>\n",
              "</div>\n",
              "    </div>\n",
              "  </div>\n"
            ]
          },
          "metadata": {},
          "execution_count": 1
        }
      ]
    },
    {
      "cell_type": "code",
      "source": [
        "# Separating feature and label columns\n",
        "X = df.iloc[:, :-1].to_numpy()\n",
        "y = df.iloc[:, -1].to_numpy()"
      ],
      "metadata": {
        "id": "I3A_O_W91lwo"
      },
      "execution_count": null,
      "outputs": []
    },
    {
      "cell_type": "code",
      "execution_count": null,
      "metadata": {
        "id": "TtRydh-2rEV4"
      },
      "outputs": [],
      "source": [
        "d = 2\n",
        "n = 3\n",
        "m = y.shape[0]\n",
        "# initialize parameters randomly\n",
        "W = 0.01 * np.random.randn(d,n)\n",
        "b = np.zeros((1,n))"
      ]
    },
    {
      "cell_type": "code",
      "execution_count": null,
      "metadata": {
        "id": "-Y_56F_wrEV5",
        "outputId": "4f08089a-ee2a-48e5-e981-d10993046349",
        "colab": {
          "base_uri": "https://localhost:8080/"
        }
      },
      "outputs": [
        {
          "output_type": "stream",
          "name": "stdout",
          "text": [
            "(300, 3)\n"
          ]
        }
      ],
      "source": [
        "# compute scores for a linear classifier\n",
        "z = np.dot(X, W) + b\n",
        "print(z.shape) # should be mXn = #examples X #output"
      ]
    },
    {
      "cell_type": "markdown",
      "metadata": {
        "id": "ASOSk_DtrEV5"
      },
      "source": [
        "Lets raise these scores to base $e$, and normalise them to get probabilities"
      ]
    },
    {
      "cell_type": "code",
      "execution_count": null,
      "metadata": {
        "id": "uWwFRrtcrEV5"
      },
      "outputs": [],
      "source": [
        "exp_z = np.exp(z)\n",
        "probs = exp_z / np.sum(exp_z, axis=1, keepdims=True) # explain why axis=1"
      ]
    },
    {
      "cell_type": "code",
      "source": [
        "probs.shape # probabilities of class"
      ],
      "metadata": {
        "id": "fY7K71qlLL6k",
        "outputId": "826c8662-51f9-4c95-e349-722f62bf4c01",
        "colab": {
          "base_uri": "https://localhost:8080/"
        }
      },
      "execution_count": null,
      "outputs": [
        {
          "output_type": "execute_result",
          "data": {
            "text/plain": [
              "(300, 3)"
            ]
          },
          "metadata": {},
          "execution_count": 11
        }
      ]
    },
    {
      "cell_type": "code",
      "execution_count": null,
      "metadata": {
        "id": "vpvBysnG7ht0"
      },
      "outputs": [],
      "source": [
        "dz = probs\n",
        "dz[range(m),y] -= 1  # subtracting 1 from class where i == j as dz = pi - I\n",
        "#dz = dz/m"
      ]
    },
    {
      "cell_type": "markdown",
      "metadata": {
        "id": "lE3TFTzT7ht0"
      },
      "source": [
        "$\\frac{\\partial z_i}{\\partial w_i}$ is something we calculated earlier as well in LR, it will be equal to X.\n",
        "\n",
        "Now, to calculate dW, we just need to multiply X with dz"
      ]
    },
    {
      "cell_type": "code",
      "source": [
        "X.shape # shape (m, d)"
      ],
      "metadata": {
        "colab": {
          "base_uri": "https://localhost:8080/"
        },
        "id": "0ijpwZ3yTYC1",
        "outputId": "2a2fd2e3-a881-452b-bb3c-19ec5de87fd5"
      },
      "execution_count": null,
      "outputs": [
        {
          "output_type": "execute_result",
          "data": {
            "text/plain": [
              "(300, 2)"
            ]
          },
          "metadata": {},
          "execution_count": 13
        }
      ]
    },
    {
      "cell_type": "code",
      "source": [
        "# shape (m, n ) as we have m samples and each sample has 3 class probab.\n",
        "dz.shape"
      ],
      "metadata": {
        "colab": {
          "base_uri": "https://localhost:8080/"
        },
        "id": "cIlwEiGWTbJc",
        "outputId": "e59ed68f-3f62-48ed-d328-93fca68bbeae"
      },
      "execution_count": null,
      "outputs": [
        {
          "output_type": "execute_result",
          "data": {
            "text/plain": [
              "(300, 3)"
            ]
          },
          "metadata": {},
          "execution_count": 14
        }
      ]
    },
    {
      "cell_type": "code",
      "execution_count": null,
      "metadata": {
        "id": "jk_WYdWL7ht0",
        "colab": {
          "base_uri": "https://localhost:8080/"
        },
        "outputId": "8eab40aa-a4aa-4093-fdca-f7d607f0120f"
      },
      "outputs": [
        {
          "output_type": "execute_result",
          "data": {
            "text/plain": [
              "(2, 3)"
            ]
          },
          "metadata": {},
          "execution_count": 15
        }
      ],
      "source": [
        "# dW = dZ . X\n",
        "\n",
        "dW = np.dot(X.T, dz) # check dimensions (2, 300) x (300 , 3) => (2, 3)\n",
        "dW.shape"
      ]
    },
    {
      "cell_type": "code",
      "source": [
        "b.shape # shape (1, n)"
      ],
      "metadata": {
        "colab": {
          "base_uri": "https://localhost:8080/"
        },
        "id": "wwyolIARTu6p",
        "outputId": "264792d4-dc28-434e-96f2-f3f939883729"
      },
      "execution_count": null,
      "outputs": [
        {
          "output_type": "execute_result",
          "data": {
            "text/plain": [
              "(1, 3)"
            ]
          },
          "metadata": {},
          "execution_count": 16
        }
      ]
    },
    {
      "cell_type": "markdown",
      "source": [
        "We know that,\n",
        "\n",
        "$z = wx + b$\n",
        "\n",
        "So,\n",
        "\n",
        "- $\\frac{∂z}{∂b}$ = $\\frac{∂(wx + b)}{∂b}$ = 1\n",
        "\n",
        "- as wx will be treated as constant when calculating partial derivative w.r.t b\n",
        "\n",
        "\n",
        "Now,\n",
        "\n",
        "For calculating db,\n",
        "\n",
        "db = dz.$\\frac{∂Z}{∂b}$ = dz\n",
        "\n",
        "#### But why sum?\n",
        "\n",
        "Since we are performing GD and not SGD,\n",
        "- we'll take sum of average across all points\n",
        "- we already took the average of dz (dz = dz/m)\n",
        "\n",
        "Recall update equation of bias\n",
        "\n",
        "\n",
        "\n"
      ],
      "metadata": {
        "id": "E8QfBTDiIlFr"
      }
    },
    {
      "cell_type": "markdown",
      "source": [
        "<center><img src='https://drive.google.com/uc?id=1IeM-uQ6cYp-167twAm8CuEK5avjn-j68' width=600></center>\n",
        "\n",
        "\n"
      ],
      "metadata": {
        "id": "SIPYvH5XMq7u"
      }
    },
    {
      "cell_type": "code",
      "source": [
        "db = np.sum(dz, axis=0, keepdims=True)\n",
        "db.shape"
      ],
      "metadata": {
        "colab": {
          "base_uri": "https://localhost:8080/"
        },
        "id": "tBNyMDF4Tqdz",
        "outputId": "8d2dba05-68e7-4226-91f3-a430610a8269"
      },
      "execution_count": null,
      "outputs": [
        {
          "output_type": "execute_result",
          "data": {
            "text/plain": [
              "(1, 3)"
            ]
          },
          "metadata": {},
          "execution_count": 17
        }
      ]
    },
    {
      "cell_type": "code",
      "execution_count": null,
      "metadata": {
        "id": "GRAiyPl97ht1"
      },
      "outputs": [],
      "source": [
        "def backprop(probs, y):\n",
        "    # we know that dz = pi - I\n",
        "    dz = probs # dz = pi\n",
        "    dz[range(m),y] -= 1 # subtacting 1 where i ==j i.e. class label matches\n",
        "    dz = dz/m # taking average as we have m points\n",
        "    dW = np.dot(X.T, dz)\n",
        "    db = np.sum(dz, axis=0, keepdims=True)\n",
        "    return dW, db"
      ]
    },
    {
      "cell_type": "markdown",
      "metadata": {
        "id": "5u5MHDezrEWB"
      },
      "source": [
        "Since, we are moving from right to left, to calculate the gradients, lets call it backproprogation"
      ]
    },
    {
      "cell_type": "markdown",
      "metadata": {
        "id": "Bb5OvKTo7ht1"
      },
      "source": [
        "#### Once, we have the gradients, we will update the parameters"
      ]
    },
    {
      "cell_type": "code",
      "execution_count": null,
      "metadata": {
        "id": "1u_c0r5Z7ht1"
      },
      "outputs": [],
      "source": [
        "lr = 0.1\n",
        "W += -lr * dW\n",
        "b += -lr * db"
      ]
    },
    {
      "cell_type": "markdown",
      "metadata": {
        "id": "xPfHt-LT7ht1"
      },
      "source": [
        "Lets put all this together in a class"
      ]
    },
    {
      "cell_type": "code",
      "execution_count": null,
      "metadata": {
        "outputId": "30017928-0d51-4879-aea2-512225b59c9a",
        "colab": {
          "base_uri": "https://localhost:8080/"
        },
        "id": "hFUX0j2f7ht1"
      },
      "outputs": [
        {
          "output_type": "stream",
          "name": "stdout",
          "text": [
            "iteration: 0, loss: 1.1034975631352493\n",
            "iteration: 100, loss: 0.7447334923011109\n",
            "iteration: 200, loss: 0.7405327174688755\n",
            "iteration: 300, loss: 0.7402162294779646\n",
            "iteration: 400, loss: 0.740185995247451\n"
          ]
        }
      ],
      "source": [
        "max_iters = 500\n",
        "lr = 1\n",
        "\n",
        "d = X.shape[1]\n",
        "n = len(np.unique(y))\n",
        "m = X.shape[0]\n",
        "W = 0.01 * np.random.randn(d,n)\n",
        "b = np.zeros((1,n))\n",
        "loss_history = []\n",
        "\n",
        "for i in range(max_iters):\n",
        "    # evaluate the class probs\n",
        "    z = np.dot(X, W) + b\n",
        "    exp_z = np.exp(z)\n",
        "    probs = exp_z/np.sum(exp_z, axis=1, keepdims=True)\n",
        "\n",
        "    # compute the loss: average cross-entropy loss and regularization\n",
        "    error = -np.log(probs[range(m), y])\n",
        "    loss = np.sum(error)/m\n",
        "    loss_history.append(loss)\n",
        "    if i % 100 == 0:\n",
        "        print(f\"iteration: {i}, loss: {loss}\")\n",
        "\n",
        "\n",
        "    # compute the gradient on score\n",
        "    dZ = probs\n",
        "    dZ[range(m),y] -= 1\n",
        "    dZ = dZ/m\n",
        "    dW = np.dot(X.T, dZ)\n",
        "    db = np.sum(dZ, axis=0, keepdims=True)\n",
        "\n",
        "    # perform a parameter update using gradient descent\n",
        "    W += -lr * dW\n",
        "    b += -lr * db\n",
        "# history = pd.DataFrame({'step': list(range(max_iters)), 'loss': loss_history})\n",
        "# history.plot(x='step', y='loss',xlabel='step', ylabel='loss')"
      ]
    },
    {
      "cell_type": "code",
      "execution_count": null,
      "metadata": {
        "outputId": "0ad4860d-b519-4047-9bf1-5877fd8fe05f",
        "colab": {
          "base_uri": "https://localhost:8080/"
        },
        "id": "WvL9xpSh7ht1"
      },
      "outputs": [
        {
          "output_type": "stream",
          "name": "stdout",
          "text": [
            "Training Accuracy 0.5266666666666666\n"
          ]
        }
      ],
      "source": [
        "def predict(X):\n",
        "    Z = np.dot(X, W) + b\n",
        "    Z_e = np.exp(Z)\n",
        "    probs = Z_e/np.sum(Z_e, axis=1, keepdims=True)\n",
        "    return np.argmax(probs, axis=1)\n",
        "\n",
        "print(f\"Training Accuracy {np.sum(predict(X) == y)/m}\")"
      ]
    },
    {
      "cell_type": "markdown",
      "metadata": {
        "id": "GFHx_NP87ht1"
      },
      "source": [
        "We have adapted the Logistic Regression model to work for mult-class setting.\n",
        "\n",
        "Let's plot the decision boundaries"
      ]
    },
    {
      "cell_type": "code",
      "execution_count": null,
      "metadata": {
        "outputId": "512a26da-1a08-4bb8-9282-6cffbe3e84dd",
        "colab": {
          "base_uri": "https://localhost:8080/",
          "height": 430
        },
        "id": "P3kYQGsx7ht2"
      },
      "outputs": [
        {
          "output_type": "display_data",
          "data": {
            "text/plain": [
              "<Figure size 640x480 with 1 Axes>"
            ],
            "image/png": "[encoded data removed]"
          },
          "metadata": {}
        }
      ],
      "source": [
        "# create a 2D grid\n",
        "step = 0.02\n",
        "x_min, x_max = X[:, 0].min() - 1, X[:, 0].max() + 1\n",
        "y_min, y_max = X[:, 1].min() - 1, X[:, 1].max() + 1\n",
        "xx, yy = np.meshgrid(np.arange(x_min, x_max, step), np.arange(y_min, y_max, step))\n",
        "\n",
        "# predict for all the points in the grid\n",
        "y_hat = predict(np.c_[xx.ravel(), yy.ravel()]) # concatenates along second axis\n",
        "y_hat = y_hat.reshape(xx.shape)\n",
        "\n",
        "# plot\n",
        "fig = plt.figure()\n",
        "plt.contourf(xx, yy, y_hat, cmap=plt.cm.Spectral, alpha=0.8)\n",
        "plt.scatter(X[:, 0], X[:, 1], c=y, s=40, cmap=plt.cm.Spectral)\n",
        "plt.xlim(xx.min(), xx.max())\n",
        "plt.ylim(yy.min(), yy.max())\n",
        "plt.show()"
      ]
    },
    {
      "cell_type": "markdown",
      "metadata": {
        "id": "fc_TAEO_7ht2"
      },
      "source": [
        "- We can see that the model has learnt three decision boundaries\n",
        "- But since  haven't added any intermediate layer of neurons to create complex features, we don't expect the model to learn complex boundaries"
      ]
    },
    {
      "cell_type": "markdown",
      "metadata": {
        "id": "Bxgxh6xa7ht2"
      },
      "source": [
        "#### Softmax Classifier code wrapped in a Python class"
      ]
    },
    {
      "cell_type": "code",
      "execution_count": null,
      "metadata": {
        "id": "_KksJRrV7ht2"
      },
      "outputs": [],
      "source": [
        "class SoftmaxClassfier:\n",
        "    def __init__(self, n_features, n_outputs):\n",
        "        self.d = n_features\n",
        "        self.n = n_outputs\n",
        "        self.W = 0.01 * np.random.randn(d,n)\n",
        "        self.b = np.zeros((1,n))\n",
        "        self.loss = []\n",
        "\n",
        "    def fwdprop(self, X):\n",
        "        z = np.dot(X, self.W) + self.b\n",
        "        exp_z = np.exp(z)\n",
        "        probs = exp_z / np.sum(exp_z, axis=1, keepdims=True)\n",
        "        return probs\n",
        "\n",
        "    def cce_loss(self, probs, y):\n",
        "        m = y.shape[0]\n",
        "        error = -np.log(probs[range(m), y])\n",
        "        return np.sum(error)/m\n",
        "\n",
        "    def backprop(self, probs, y):\n",
        "        m = y.shape[0]\n",
        "        dz = probs\n",
        "        dz[range(m),y] -= 1\n",
        "        dz = dz/m\n",
        "        dW = np.dot(X.T, dz)\n",
        "        db = np.sum(dz, axis=0, keepdims=True)\n",
        "        return dW, db\n",
        "\n",
        "    def fit(self, X, y, lr=0.1, max_iters=50):\n",
        "\n",
        "        for i in range(max_iters):\n",
        "            # evaluate the class probs\n",
        "            probs = self.fwdprop(X)\n",
        "\n",
        "            # compute the loss: average cross-entropy loss and regularization\n",
        "            loss = self.cce_loss(probs, y)\n",
        "\n",
        "            # compute the gradient on score\n",
        "            dW, db = self.backprop(probs, y)\n",
        "\n",
        "            # perform a parameter update using gradient descent\n",
        "            self.W += -lr * dW\n",
        "            self.b += -lr * db\n",
        "            self.loss.append(loss)\n",
        "\n",
        "        self.history = pd.DataFrame({\n",
        "        'step': list(range(max_iters)),\n",
        "        'loss': self.loss})\n",
        "\n",
        "    def plot_loss(self):\n",
        "        return self.history.plot(x='step', y='loss',xlabel='step', ylabel='loss')\n",
        "\n",
        "    def predict(self, X):\n",
        "        probs = self.fwdprop(X)\n",
        "        return np.argmax(probs, axis=1)\n",
        "\n",
        "model = SoftmaxClassfier(n_features=2, n_outputs=3)\n",
        "model.fit(X, y, lr=1, max_iters=500)\n",
        "#model.plot_loss()\n",
        "#print('training accuracy:', np.sum(model.predict(X) == y)/X.shape[0])"
      ]
    },
    {
      "cell_type": "markdown",
      "source": [
        "> **Assessments Covered (Misc):-**\n",
        "- Identify the Function: https://www.scaler.com/hire/test/problem/16643/ (To be attempted after post read; contains mention of perceptron)"
      ],
      "metadata": {
        "id": "gsSDb22AaZcC"
      }
    },
    {
      "cell_type": "markdown",
      "source": [
        "## MLP: Multi Layer Perceptron"
      ],
      "metadata": {
        "id": "Nm1EUxZdDsTU"
      }
    },
    {
      "cell_type": "markdown",
      "source": [
        "We make our model/ network complex by adding a layer between our input and output."
      ],
      "metadata": {
        "id": "6SIvTk5_Lmop"
      }
    },
    {
      "cell_type": "markdown",
      "source": [
        "<center><img src='https://drive.google.com/uc?id=1wMWkvsARzV1eN0JpUcgg1J63dJkkcUAD' width=\"800\"></center>\n",
        "\n"
      ],
      "metadata": {
        "id": "e4kQZtezLt0C"
      }
    },
    {
      "cell_type": "markdown",
      "source": [
        "Let's understand what we did here.\n",
        "\n",
        "#### What are we given with?\n",
        "\n",
        "- We know that we have 2 feature input and\n",
        "- we have 3 classes in output.\n",
        "\n"
      ],
      "metadata": {
        "id": "rBy7Ro-wMVPk"
      }
    },
    {
      "cell_type": "markdown",
      "source": [
        "#### Understanding the architecture\n",
        "$ $\n",
        "- Here, we use superscript notation to represent the layer.\n",
        "    - So, instead of writing $f_1$, we write it as $f^1_1$ i.e. neuron 1 of layer 1\n",
        "\n",
        "<br>\n",
        "\n",
        "Now,\n",
        "\n",
        "We took our 2 inputs (Layer - 0 / **Input Layer**) and connected them with the the 4 neuron of **Layer-1**\n",
        "- These 4 neurons will be connected with the 3 neuron of the **output layer** (Layer -2).\n",
        "\n",
        "This intermediate layer in between the input and output layer is called **Hidden layer**\n",
        "\n"
      ],
      "metadata": {
        "id": "KQJGCJYeMrvp"
      }
    },
    {
      "cell_type": "markdown",
      "source": [
        "#### But, why is called hidden layer?\n",
        "\n",
        "As both input and output are hidden from this layer,\n",
        "and\n",
        "- we don't directly deal with this layer,\n",
        "- hence, it is called hidden layer.\n",
        "\n",
        "We make our network complex by increasing the number of neuron in the layer or by increasing the number of layers."
      ],
      "metadata": {
        "id": "Ip73Rut6PvmR"
      }
    },
    {
      "cell_type": "markdown",
      "source": [
        "<center><img src='https://drive.google.com/uc?id=1G1J430m73eqrBQ0NVCVCHspjaPMpgEba' width=\"800\"></center>\n",
        "\n"
      ],
      "metadata": {
        "id": "-1geLbxnU3b5"
      }
    },
    {
      "cell_type": "markdown",
      "source": [
        "#### Question: What will be the activation function for output layer?\n",
        "\n",
        "Ans: Since it is a multiclass classification problem, we'll use softmax activation function"
      ],
      "metadata": {
        "id": "Rtjvq23hqOAR"
      }
    },
    {
      "cell_type": "markdown",
      "source": [
        "#### What will be the activation function for hidden layer ?\n",
        "\n",
        "Recall that we want our model to learn non linear decision boundary,\n",
        "- Hence, we'll always use non linear activation function\n",
        "\n",
        "\n",
        "\n"
      ],
      "metadata": {
        "id": "mQi26y-Adx8h"
      }
    },
    {
      "cell_type": "markdown",
      "source": [
        "#### Question: What happens if each activation function in MLP is a linear function?"
      ],
      "metadata": {
        "id": "922BK2gpmHEN"
      }
    },
    {
      "cell_type": "markdown",
      "source": [
        "Let's try to understand it using an example"
      ],
      "metadata": {
        "id": "W9W8CkSKk_nJ"
      }
    },
    {
      "cell_type": "markdown",
      "metadata": {
        "id": "pRtHGWr3lJU9"
      },
      "source": [
        "\n",
        "\n",
        "<br>\n",
        "\n",
        "#### **Case 1:**\n",
        "\n",
        "Given $f(x) = 2x+1, g(x) = 3x+2$, will $f(g(x))$ be linear or non-linear?\n",
        "\n",
        "\n",
        "\n"
      ]
    },
    {
      "cell_type": "markdown",
      "source": [
        "<center><img src='https://drive.google.com/uc?id=1TNF_X-rg9Wee84yURhbc8AfAE0T758f4' width=\"800\"></center>\n"
      ],
      "metadata": {
        "id": "y4m-x1Y1GkeK"
      }
    },
    {
      "cell_type": "markdown",
      "source": [
        "$f(g(x)) = 2(3x+2) + 1 = 6x + 5$ ---> linear\n",
        "\n",
        "- Composition of two linear function is linear.\n",
        "\n",
        "If we use linear activation\n",
        "- it'll become a linear model.\n",
        "\n",
        "Remember, we have to generare higher order non-linear features\n",
        "\n",
        "<br>"
      ],
      "metadata": {
        "id": "A4J-JX1JGhCR"
      }
    },
    {
      "cell_type": "markdown",
      "source": [
        "#### How non-linear function helps us here ?\n",
        "\n",
        "\n",
        "\n",
        "\n",
        "\n"
      ],
      "metadata": {
        "id": "_Bg08QrImyzP"
      }
    },
    {
      "cell_type": "markdown",
      "source": [
        "\n",
        "**Case 2:** $f(x) = x^2+1, g(x) = 2x+1$\n",
        "\n"
      ],
      "metadata": {
        "id": "PGSm2cBJGzfw"
      }
    },
    {
      "cell_type": "markdown",
      "source": [
        "<center><img src='https://drive.google.com/uc?id=1hZsaEgqvksWKed5pcAtNeGpEWTMexZTA' width=\"800\"></center>\n"
      ],
      "metadata": {
        "id": "0iLAP0rBHirX"
      }
    },
    {
      "cell_type": "markdown",
      "source": [
        "$f(g(x)) = (2x+1)^2 + 1 = 4x^2 + 2x + 2$ ---> non-linear, higher order\n",
        "\n",
        "<br>"
      ],
      "metadata": {
        "id": "l3nTM6vzHhWq"
      }
    },
    {
      "cell_type": "markdown",
      "source": [
        "#### Q. How about we stack non-linearity once more?\n",
        "\n"
      ],
      "metadata": {
        "id": "mPKWUXO4Gvy9"
      }
    },
    {
      "cell_type": "markdown",
      "source": [
        "**Case 3:** $h(x) = x^2+1, f(x) = 2x^2+1, g(x) = x+1$\n"
      ],
      "metadata": {
        "id": "_1fjW79TIxas"
      }
    },
    {
      "cell_type": "markdown",
      "source": [
        "<center><img src='https://drive.google.com/uc?id=1IDG5hLnzrQvKUE0PKgaxr-6_2vcqrWn7' width=\"800\"></center>\n"
      ],
      "metadata": {
        "id": "IexqaIlRJP6N"
      }
    },
    {
      "cell_type": "markdown",
      "source": [
        "\n",
        "$f(h(g(x))) = 2((x+1)^2+1)^2 + 1 =  2(2x^2 + 2x + 3)^2 + 1$ ---> non-linear, much higher order\n",
        "\n",
        "<br>\n",
        "\n",
        "Conclusion - **Stacking a non-linearity over a linear function, and repeating the process may create complex features**"
      ],
      "metadata": {
        "id": "DNj8pV4eJOpG"
      }
    },
    {
      "cell_type": "markdown",
      "source": [
        "For example, suppose we have 2 inputs: $x_1, x_2$\n",
        "\n",
        "They are going through the following **computation graph**.\n",
        "\n",
        "  <center><img src='https://drive.google.com/uc?id=1zVmAdtYjnAiZ0trhE2XV9pSrOw9fFOF9' width=800></center>\n",
        "\n"
      ],
      "metadata": {
        "id": "0gtJg-c_EUNr"
      }
    },
    {
      "cell_type": "markdown",
      "metadata": {
        "id": "M57VBrYT0CF7"
      },
      "source": [
        "- $z$ is a weighted sum, so it'll be linear only: $z = 3x_1 + 4x_2$\n",
        "- $a_1$ will be non-linear and complex: $a_1 = 9x_1^2 + 16x_2^2 + 24x_1x_2$\n",
        "- $a_2$ will be non-linear and much more complex: $a_2 = (9x_1^2 + 16x_2^2 + 24x_1x_2 +1)^2 = (9x_1^2 + 16x_2^2)^2 + 2(9x_1^2 + 16x_2^2)(24x_1x_2 +1) + (24x_1x_2 +1)^2$\n",
        "\n",
        "<hr style=\"border:1px solid gray\"> </hr>"
      ]
    },
    {
      "cell_type": "markdown",
      "source": [
        "#### What non-linear function shall we use?  Have you seen any non linear function in the ML algos so far ?\n",
        "\n",
        "\n",
        "Ans: Recall Sigmoid is one of the non linear activation function we saw.\n",
        "\n",
        "\n",
        "\n",
        "\n",
        "\n"
      ],
      "metadata": {
        "id": "qzxqJcCHipyw"
      }
    },
    {
      "cell_type": "markdown",
      "source": [
        "#### Question: Should we use different activation functions in different layers?\n",
        "\n",
        "***Anwser:***\n",
        "- Theoretically we can. But studies have shown that it is not of much value.\n",
        "\n",
        "\n",
        "\n",
        "\n",
        "\n",
        "\n",
        "\n",
        "\n",
        "\n",
        "\n"
      ],
      "metadata": {
        "id": "cLp_JIjxrU-A"
      }
    },
    {
      "cell_type": "markdown",
      "source": [
        "## Activation function"
      ],
      "metadata": {
        "id": "bG9aCo9Tiq8J"
      }
    },
    {
      "cell_type": "markdown",
      "source": [
        "We saw that how sigmoid can be used as a activation function for hidden layer."
      ],
      "metadata": {
        "id": "H6520VEBq6o7"
      }
    },
    {
      "cell_type": "markdown",
      "source": [
        "Do note that\n",
        "- Domain of sigmoid is $(-∞, ∞)$\n",
        "- Range is (0,1)\n",
        "- Derivative of sigmoid also lies between (0,1)\n",
        "\n",
        "Also, derivative of sigmoid can also be represented in terms of sigmoid."
      ],
      "metadata": {
        "id": "bxgYc7eJX6kv"
      }
    },
    {
      "cell_type": "markdown",
      "source": [
        "However, Sigmoid activation function was very popular in 1980's and 1990's"
      ],
      "metadata": {
        "id": "QR9hrhLztjRm"
      }
    },
    {
      "cell_type": "markdown",
      "source": [
        "<img src='https://drive.google.com/uc?id=1YsuzkFwJUxGkAtjV8_QYnui4Sx_kqurC'>"
      ],
      "metadata": {
        "id": "saagnU2hs4oT"
      }
    },
    {
      "cell_type": "markdown",
      "source": [
        "### Are there any other activation functions ?"
      ],
      "metadata": {
        "id": "hlxH5PBZr-gQ"
      }
    },
    {
      "cell_type": "markdown",
      "source": [
        "#### tanh function\n",
        "\n",
        "- Shifted version of sigmoid function\n",
        "- Works better than sigmoid almost all the time - mean value is zero\n",
        "- Inputs lies in the range: $(- ∞, ∞)$\n",
        "- Output lies in the range: $(-1, 1)$\n",
        "- We don't use tanh function very often, unless we want output to lie in the range of (-1, 1).\n",
        "- Formula: $tanh(z) = \\frac{e^z - e^{-z}}{e^z + e^{-z}}$\n",
        "\n",
        "- Derivative of tanh function: $\\frac{d(tanh(z))}{dz} = 1-tanh^2(z)$\n",
        " - This lies between $(0, 1)$\n",
        "\n",
        "![picture](https://drive.google.com/uc?export=view&id=1M2i6y-FQd9mmsxK1jNPyVicfe3ETZvq5)"
      ],
      "metadata": {
        "id": "5eIlR72-q5Kq"
      }
    },
    {
      "cell_type": "markdown",
      "source": [
        "### Issue with Sigmoid and tanh"
      ],
      "metadata": {
        "id": "KPgBL3nStazI"
      }
    },
    {
      "cell_type": "markdown",
      "source": [
        "#### Vanishing Gradients"
      ],
      "metadata": {
        "id": "ZxW1jv5aq5Kq"
      }
    },
    {
      "cell_type": "markdown",
      "source": [
        "**Downside of both sigmoid and tanh is that their gradient is <1, for most of the values of z**\n",
        "\n",
        "- This hampers the gradient descent process, and the calculated gradients will be very small.\n",
        "\n",
        "\n",
        "\n",
        "\n"
      ],
      "metadata": {
        "id": "zfFRGjWGq5Kq"
      }
    },
    {
      "cell_type": "markdown",
      "source": [
        "#### Why does small gradient hampers GD process ?"
      ],
      "metadata": {
        "id": "yPV9Tt5cnq7U"
      }
    },
    {
      "cell_type": "markdown",
      "source": [
        "\n",
        "\n",
        "Since the activation functions are sigmoid or tanh\n",
        "- We know that derivative of these functions lie between (0, 1).\n",
        "- So, the product of these terms inside the bracket, will become very small.\n",
        "- In fact, as the number of layers in the NN increase, this product will become smaller and smaller.\n",
        "\n",
        "\n",
        "\n",
        "\n"
      ],
      "metadata": {
        "id": "FdwxIBrGq5Kq"
      }
    },
    {
      "cell_type": "markdown",
      "source": [
        "\n",
        "![picture](https://drive.google.com/uc?export=view&id=1WBZQqwBCAUFDCCcdliaSlKDDKs5ypw-G)\n",
        "\n"
      ],
      "metadata": {
        "id": "SLFuNcCAwdpx"
      }
    },
    {
      "cell_type": "markdown",
      "source": [
        "The equation to update the weight $w$ is: $w_{new} = w_{{old}} - 𝝶.\\frac{∂ \\ loss}{∂ \\ w} \\biggr\\vert_{{W}_{old}}$\n",
        "\n",
        "- We just saw that this partial derivative value becomes miniscule, as the number of layers increase.\n",
        "- As a result, the NN gets trained very very slowly.\n",
        "- In fact, for close to 2 decades, people could not imagine using a NN with more than 3-4 layers.\n",
        "\n",
        "\n"
      ],
      "metadata": {
        "id": "JrTPBP3Qq5Kq"
      }
    },
    {
      "cell_type": "markdown",
      "source": [
        "<center><img src=\"https://drive.google.com/uc?export=view&id=1C4-Z6rDkRA-fzEaxelwruZfGD5Rii1uI\" width=600></center>\n",
        "\n",
        "<br>\n",
        "\n"
      ],
      "metadata": {
        "id": "y07g_tMQUsfy"
      }
    },
    {
      "cell_type": "markdown",
      "source": [
        "### How shall we deal with this problem ?  "
      ],
      "metadata": {
        "id": "vJK4rGSHw6_o"
      }
    },
    {
      "cell_type": "markdown",
      "source": [
        "#### Question: What should be the properties of ideal activation function?"
      ],
      "metadata": {
        "id": "VE3nHB0oszpq"
      }
    },
    {
      "cell_type": "markdown",
      "source": [
        "It should be:\n",
        "- differentiable\n",
        "- non linear\n",
        "- easy to calculate\n",
        "- gradient $≥ 1$ for big range of z"
      ],
      "metadata": {
        "id": "o8pS7qDds34-"
      }
    },
    {
      "cell_type": "markdown",
      "source": [
        "#### ReLu\n",
        "\n",
        "- Stands for **Rectified Linear Unit**.\n",
        "- It says, that for any positive value, it will return that value as it is: $Relu(z) = z$, if $z > 0$\n",
        "- Otherwise, it returns 0: $Relu(z) = 0$, if $z <= 0$\n",
        "\n",
        "It can be stated as: $Relu(z) = max(z, 0)$\n",
        "- Very fast to compute.\n",
        "\n",
        "- Derivative of ReLu wrt z: $ReLu'(z) = \\left\\{\\begin{matrix}\n",
        "1, if \\ z>0\\\\\n",
        "0, if \\ z<0\n",
        "\\end{matrix}\\right.$\n",
        "\n",
        " - Though it is not differential at 0, as it is not continuous\n",
        " - So here we take an approximation, for it to work. So we make it as:$ReLu'(z) = \\left\\{\\begin{matrix}\n",
        "1, if \\ z>0\\\\\n",
        "0, if \\ z<=0\n",
        "\\end{matrix}\\right.$\n",
        "\n"
      ],
      "metadata": {
        "id": "7MR8e9k6q5Kq"
      }
    },
    {
      "cell_type": "markdown",
      "source": [
        "![picture](https://drive.google.com/uc?export=view&id=11WM7DXTHZNFI06flIdUcR-zKbn8n1YBz)"
      ],
      "metadata": {
        "id": "RvheEXX_t1QW"
      }
    },
    {
      "cell_type": "markdown",
      "source": [
        "#### Question: Is there a problem in practically using ReLu as activation function?\n",
        "\n",
        "Yes. Even though it is the most widely used activation function in the world of Deep Learning, there is a slight problem.\n",
        "\n",
        "\n",
        "- If even one derivative term in calculation of $\\frac{\\partial Loss}{∂ w}$ gets the value as 0, the entire term will become zero.\n",
        "\n",
        "- Hence, there is no update in the value of weight.\n",
        "- This is also know as **\"dying ReLU\"**\n",
        "- So there's a potential **vanishing gradient** problem.\n",
        "    - While calculating backprop, if one of the derivative is 0, the whole update will become zero and network won't update\n",
        "\n",
        "<br>\n",
        "\n",
        "\n",
        "However, to deal with this, a slight modification is made to ReLu, and we get another activation function known as **Leaky ReLu**\n",
        "\n"
      ],
      "metadata": {
        "id": "y1C7qTOrq5Kq"
      }
    },
    {
      "cell_type": "markdown",
      "source": [
        "![picture](https://drive.google.com/uc?export=view&id=1l4UnOtfTGexfm2gJEj4sTnHwAzzym1mR)"
      ],
      "metadata": {
        "id": "7DbC82VaxJay"
      }
    },
    {
      "cell_type": "markdown",
      "source": [
        "#### Leaky ReLu\n",
        "\n",
        "- This is very similar to ReLu but there's a twist\n",
        "- In case of negative vales, we add a small gradient ($α$) associated with it, instead of having 0.\n",
        "- Gradient: $Leaky \\ ReLu'(z) = \\left\\{\\begin{matrix}\n",
        "1, if \\ z>0\\\\\n",
        "α, if \\ z<=0\n",
        "\\end{matrix}\\right.$\n",
        "\n"
      ],
      "metadata": {
        "id": "F4bUrVu5q5Kr"
      }
    },
    {
      "cell_type": "markdown",
      "source": [
        "\n",
        "![picture](https://drive.google.com/uc?export=view&id=1pbkhu3NxintyCdHo5DSVy6M6aQaDhbcI)"
      ],
      "metadata": {
        "id": "1s67e4Bsq5Kr"
      }
    },
    {
      "cell_type": "markdown",
      "source": [
        "## Notations for N layer NN"
      ],
      "metadata": {
        "id": "RK-cZ904qRhI"
      }
    },
    {
      "cell_type": "markdown",
      "source": [
        "\n",
        "So, we introduce layer number in notation as superscript\n",
        "\n",
        "Now,\n",
        "As layer increase, earlier weight notation will not work.\n",
        "- So, we add layer number to weight notation as well."
      ],
      "metadata": {
        "id": "dloOzLLyTN25"
      }
    },
    {
      "cell_type": "markdown",
      "source": [
        "\n",
        "\n",
        "For weight: $w^L_{ij}$\n",
        "\n",
        "where\n",
        "- L represent layer number\n",
        "- and i represents from neuron\n",
        "- j represent to neuron\n",
        "\n",
        "<br>\n",
        "\n",
        "Bias: $b^L_i$\n",
        "where\n",
        "- L represents the layer\n",
        "- i represents the neuron."
      ],
      "metadata": {
        "id": "04JInT7ySCcK"
      }
    },
    {
      "cell_type": "markdown",
      "source": [
        "<center><img src='https://drive.google.com/uc?id=1LAnU_9qgGqf9LbK1PzotW6J80WRYb9Rx' width=\"800\"></center>\n",
        "\n",
        "\n"
      ],
      "metadata": {
        "id": "aX18RkNPbgOI"
      }
    },
    {
      "cell_type": "markdown",
      "source": [
        "#### Quiz\n",
        "\n",
        "```\n",
        "How many total parameters do we have for this network?\n",
        "\n",
        "a. 15\n",
        "b. 21\n",
        "c. 27\n",
        "d. 30\n",
        "\n",
        "\n",
        "```\n",
        "Ans: 27 (c)\n",
        "\n",
        "- For first layer,\n",
        "    - we have 2*4 = 8 weights and 4 biases i.e. 12 params\n",
        "\n",
        "- For second layer,\n",
        "    - we have 4*3 = 12 and 3 biases i.e. 15 params\n",
        "\n",
        "Hence, we have total of 12 + 15 = 27\n"
      ],
      "metadata": {
        "id": "NZnWy-zrcQ2y"
      }
    },
    {
      "cell_type": "markdown",
      "metadata": {
        "id": "8BY45N9trEWD"
      },
      "source": [
        "\n",
        "\n",
        "We will now have two sets of weights and biases (for the first and second layers) - $W^1, W^2, b^1, b^2$\n",
        "\n",
        "<br>\n",
        "\n",
        "#### What will be the dimensions of the parameters $W^1, b^1, W^2, b^2$?\n",
        "\n",
        "\n",
        "Forget about the second layer for now, let's just focus on the first layer, and it's inputs.\n",
        "\n",
        "<br>\n",
        "\n",
        "\n",
        "\n"
      ]
    },
    {
      "cell_type": "markdown",
      "source": [
        "#### $W^1$\n",
        "- Here, we have **2 inputs** being passed to **4 neurons**\n",
        "- Recall that each pair of input and neuron, has a unique weights value.\n",
        "- Therefore, $W^1$ will be $2\\times4$ matrix:\n",
        "$W^1 = \\begin{bmatrix}\n",
        "w_{11}^1 & w_{12}^1 & w_{13}^1 & w_{14}^1\\\\\n",
        "w_{21}^1 & w_{22}^1 & w_{23}^1 & w_{24}^1\n",
        "\\end{bmatrix}_{2 \\times 4}$\n",
        "\n",
        "<br>\n",
        "\n",
        "#### $b^1$\n",
        "- There are 4 neurons in the first layer.\n",
        "- Each of which has an unique bias value.\n",
        "- Therefore, $b^1$ will be $1 \\times 4$ matrix: $b^1 = \\begin{bmatrix}\n",
        "b_1^1 & b_2^1 & b_3^1 & b_4^1\n",
        "\\end{bmatrix}_{1 \\times 4}$\n"
      ],
      "metadata": {
        "id": "eG79j4RS0j4z"
      }
    },
    {
      "cell_type": "markdown",
      "metadata": {
        "id": "ED3RYU5-2GUV"
      },
      "source": [
        "Let's figure dimensions $W^2$ and $b^2$ by considering only layer-1 and layer-2 again as a one layer NN\n",
        "\n",
        "\n",
        "#### $W^2$\n",
        "- Now, the outputs of the layer-1 are inputs to the layer-2.\n",
        "- Layer-2 neurons don't need to know if its an output from an earlier layer, or a raw input\n",
        "- Here, 4 inputs are passed to 3 neurons, $W^2$ will be $4\\times3$ matrix: $W^2 = \\begin{bmatrix}\n",
        "w_{11}^2 & w_{12}^2 & w_{13}^2\\\\\n",
        "w_{21}^2 & w_{22}^2 & w_{23}^2\\\\\n",
        "w_{31}^2 & w_{32}^2 & w_{33}^2\\\\\n",
        "w_{41}^2 & w_{42}^2 & w_{43}^2\n",
        "\\end{bmatrix}_{4 \\times 3}$\n",
        "\n",
        "<br>\n",
        "\n",
        "#### $b^2$\n",
        "- There are 3 neurons in second layer, each of which will have a bias associated with them.\n",
        "- Therefore, $b^2$ will be $1 \\times 3$ matrix: $b^2 = \\begin{bmatrix}\n",
        "b_1^2 & b_2^2 & b_3^2\n",
        "\\end{bmatrix}_{1 \\times 3}$\n",
        "\n"
      ]
    },
    {
      "cell_type": "markdown",
      "source": [
        "## Forward Propagation"
      ],
      "metadata": {
        "id": "5oxI772Vep1x"
      }
    },
    {
      "cell_type": "markdown",
      "source": [
        "Forward Propagation is all easy.\n",
        "- We just need to propagation our inputs from left to right\n",
        "- Calculate the value of $z_i$\n",
        "- Apply activation function on top of it\n",
        "- And pass it to neuron in front of it.\n",
        "\n",
        "Ultimately, we'll get the probabilities\n",
        "\n",
        "- Use those probabilities to calcualte the loss.\n",
        "\n",
        "\n",
        "#### Question: What will be the loss here?\n",
        "\n",
        "Ans: Since it is a multiclass classification => **Categorical cross entropy**"
      ],
      "metadata": {
        "id": "z-1htLcpeqUI"
      }
    },
    {
      "cell_type": "code",
      "source": [
        "import numpy as np\n",
        "# initialize parameters randomly\n",
        "d = 2 # diensionality / number of inputs\n",
        "n = 3 # Number of classes (A/B/C) / Number of neurons in output layer\n",
        "h = 4 # neurons in hidden layer"
      ],
      "metadata": {
        "id": "UpSGuRU0y5oW"
      },
      "execution_count": null,
      "outputs": []
    },
    {
      "cell_type": "markdown",
      "source": [
        "Let;s intitialise these matrices randomly."
      ],
      "metadata": {
        "id": "IHJReVDzyzwv"
      }
    },
    {
      "cell_type": "code",
      "execution_count": null,
      "metadata": {
        "id": "UCY9Gn0lrEWE"
      },
      "outputs": [],
      "source": [
        "W1 = 0.01 * np.random.randn(d,h)\n",
        "b1 = np.zeros((1,h))\n",
        "W2 = 0.01 * np.random.randn(h,n)\n",
        "b2 = np.zeros((1,n))"
      ]
    },
    {
      "cell_type": "code",
      "execution_count": null,
      "metadata": {
        "id": "X2faLFmnrEWE"
      },
      "outputs": [],
      "source": [
        "Z1 = np.dot(X, W1) + b1 # (300,2) x (2,4) + (1,4) => (300,4)\n",
        "A1 = np.maximum(0, Z1) # ReLU if Z1 < 0 A1 =0 else A1 = Z1"
      ]
    },
    {
      "cell_type": "markdown",
      "source": [
        "#### Calculation Z2 and A2"
      ],
      "metadata": {
        "id": "u57B3T81uOXU"
      }
    },
    {
      "cell_type": "markdown",
      "source": [
        "Now, in order to get shape of (300,3)\n",
        "- we need to multiply $A^1$ with $W^2$ and add bias $b^2$ to it\n"
      ],
      "metadata": {
        "id": "sBMxydYkx0p6"
      }
    },
    {
      "cell_type": "code",
      "source": [
        "Z2 = np.dot(A1, W2) + b2  # (300, 4) x (4, 3) + (1, 3) => (300, 3)\n",
        "# Applying softmax function to get A2\n",
        "Z2_exp = np.exp(Z2)\n",
        "A2 = Z2_exp/np.sum(Z2_exp, axis=1, keepdims=True)\n",
        "probs = A2"
      ],
      "metadata": {
        "id": "d8hQfcg7e8Tp"
      },
      "execution_count": null,
      "outputs": []
    },
    {
      "cell_type": "code",
      "source": [
        "probs.shape"
      ],
      "metadata": {
        "colab": {
          "base_uri": "https://localhost:8080/"
        },
        "id": "x0311gJc3F1-",
        "outputId": "101d5110-5113-4ee7-8d7b-1f14762d5122"
      },
      "execution_count": null,
      "outputs": [
        {
          "output_type": "execute_result",
          "data": {
            "text/plain": [
              "(300, 3)"
            ]
          },
          "metadata": {},
          "execution_count": 31
        }
      ]
    }
  ]
}